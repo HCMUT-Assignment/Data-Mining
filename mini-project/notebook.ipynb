{
 "cells": [
  {
   "cell_type": "code",
   "execution_count": 1,
   "id": "6921e5f7-5812-4503-a7fc-6e72c8d0a921",
   "metadata": {
    "tags": []
   },
   "outputs": [
    {
     "name": "stdout",
     "output_type": "stream",
     "text": [
      "Requirement already satisfied: plotly in c:\\users\\pc\\appdata\\local\\programs\\python\\python311\\lib\\site-packages (5.14.1)\n",
      "Requirement already satisfied: tenacity>=6.2.0 in c:\\users\\pc\\appdata\\local\\programs\\python\\python311\\lib\\site-packages (from plotly) (8.2.2)\n",
      "Requirement already satisfied: packaging in c:\\users\\pc\\appdata\\local\\programs\\python\\python311\\lib\\site-packages (from plotly) (23.0)\n"
     ]
    }
   ],
   "source": [
    "import numpy as np\n",
    "import matplotlib.pyplot as plt\n",
    "import torch\n",
    "import torch.nn as nn\n",
    "import pandas as pd\n",
    "\n",
    "! pip install plotly\n",
    "import plotly.graph_objects as go\n",
    "import plotly.express as px\n",
    "from plotly.subplots import make_subplots"
   ]
  },
  {
   "cell_type": "code",
   "execution_count": 2,
   "id": "b1d40a96-c6a5-498d-a176-3b8326370108",
   "metadata": {},
   "outputs": [],
   "source": [
    "PATH = 'bitcoin_preprocess.csv'"
   ]
  },
  {
   "cell_type": "markdown",
   "id": "3077e098-336c-46ed-968a-6e56bd743c3d",
   "metadata": {
    "tags": []
   },
   "source": [
    "## Preprocessing"
   ]
  },
  {
   "cell_type": "code",
   "execution_count": 3,
   "id": "2281b7d1-7733-40be-9a9c-077b3b6bac8e",
   "metadata": {
    "tags": []
   },
   "outputs": [],
   "source": [
    "sp500 = pd.read_csv(PATH)"
   ]
  },
  {
   "cell_type": "code",
   "execution_count": 4,
   "id": "f43bc102-111d-40df-bade-0b43cd812927",
   "metadata": {
    "tags": []
   },
   "outputs": [
    {
     "data": {
      "text/plain": [
       "Unnamed: 0      0\n",
       "time            0\n",
       "open            0\n",
       "high            0\n",
       "low             0\n",
       "close           0\n",
       "Volume          0\n",
       "Volume MA       0\n",
       "MA              0\n",
       "Histogram       0\n",
       "MACD            0\n",
       "Signal          0\n",
       "RSI             0\n",
       "RSI-based MA    0\n",
       "dtype: int64"
      ]
     },
     "execution_count": 4,
     "metadata": {},
     "output_type": "execute_result"
    }
   ],
   "source": [
    "# Checking null\n",
    "sp500.isnull().sum()"
   ]
  },
  {
   "cell_type": "code",
   "execution_count": 5,
   "id": "068bb4d3-7ab3-424e-ab51-972bbfae12c5",
   "metadata": {
    "tags": []
   },
   "outputs": [
    {
     "data": {
      "text/plain": [
       "Unnamed: 0      0\n",
       "time            0\n",
       "open            0\n",
       "high            0\n",
       "low             0\n",
       "close           0\n",
       "Volume          0\n",
       "Volume MA       0\n",
       "MA              0\n",
       "Histogram       0\n",
       "MACD            0\n",
       "Signal          0\n",
       "RSI             0\n",
       "RSI-based MA    0\n",
       "dtype: int64"
      ]
     },
     "execution_count": 5,
     "metadata": {},
     "output_type": "execute_result"
    }
   ],
   "source": [
    "#  Checking nan\n",
    "sp500.isna().sum()"
   ]
  },
  {
   "cell_type": "code",
   "execution_count": 6,
   "id": "a237b3f7-f4b6-4b01-9f4a-e9d7fd1dbe9a",
   "metadata": {
    "tags": []
   },
   "outputs": [
    {
     "data": {
      "text/plain": [
       "Unnamed: 0      False\n",
       "time            False\n",
       "open            False\n",
       "high            False\n",
       "low             False\n",
       "close           False\n",
       "Volume          False\n",
       "Volume MA       False\n",
       "MA              False\n",
       "Histogram       False\n",
       "MACD            False\n",
       "Signal          False\n",
       "RSI             False\n",
       "RSI-based MA    False\n",
       "dtype: bool"
      ]
     },
     "execution_count": 6,
     "metadata": {},
     "output_type": "execute_result"
    }
   ],
   "source": [
    "#  Dropnan\n",
    "sp500.dropna(inplace = True)\n",
    "sp500.isna().any()"
   ]
  },
  {
   "cell_type": "code",
   "execution_count": 7,
   "id": "2b09d316-91b5-4f0c-834a-8f012131416f",
   "metadata": {
    "tags": []
   },
   "outputs": [],
   "source": [
    "sp500['time'] = pd.to_datetime(sp500.time)"
   ]
  },
  {
   "cell_type": "code",
   "execution_count": 8,
   "id": "b28eb4ff-c81b-4153-ad98-08bd6698b3e8",
   "metadata": {
    "tags": []
   },
   "outputs": [
    {
     "data": {
      "text/plain": [
       "(19975, 14)"
      ]
     },
     "execution_count": 8,
     "metadata": {},
     "output_type": "execute_result"
    }
   ],
   "source": [
    "sp500.shape"
   ]
  },
  {
   "cell_type": "markdown",
   "id": "80264387-e6c2-4aac-afe8-fdc59d63519a",
   "metadata": {},
   "source": [
    "### Data Exploration"
   ]
  },
  {
   "cell_type": "code",
   "execution_count": 9,
   "id": "9382b54c-b4f8-44ed-811c-4ee8f292172f",
   "metadata": {
    "tags": []
   },
   "outputs": [
    {
     "name": "stdout",
     "output_type": "stream",
     "text": [
      "Starting date:  88\n",
      "Ending date:  20062\n",
      "Duration:  19974\n"
     ]
    }
   ],
   "source": [
    "print(\"Starting date: \",sp500.iloc[0][0])\n",
    "print(\"Ending date: \", sp500.iloc[-1][0])\n",
    "print(\"Duration: \", sp500.iloc[-1][0]-sp500.iloc[0][0])"
   ]
  },
  {
   "cell_type": "code",
   "execution_count": 10,
   "id": "caaec5e7-e051-4902-93dc-1f56403d0754",
   "metadata": {
    "tags": []
   },
   "outputs": [],
   "source": [
    "# sp500.to_csv('bitcoin_preprocess.csv')"
   ]
  },
  {
   "attachments": {},
   "cell_type": "markdown",
   "id": "486fa0d4-1516-4ab6-a1ed-e6458ad251cd",
   "metadata": {},
   "source": [
    "## Machine Learning"
   ]
  },
  {
   "cell_type": "code",
   "execution_count": 11,
   "id": "4bf74f40-fc9c-4378-a7d4-bcdb81f6c510",
   "metadata": {
    "tags": []
   },
   "outputs": [],
   "source": [
    "from utils.utils import create_data_train, read_csv\n",
    "from configs.config import *\n",
    "from utils.preprocess import Preprocessing\n",
    "from sklearn.metrics import mean_squared_error, mean_absolute_error, r2_score "
   ]
  },
  {
   "cell_type": "code",
   "execution_count": 12,
   "id": "b36f425f-d157-4c45-b956-2467aebcd564",
   "metadata": {
    "tags": []
   },
   "outputs": [
    {
     "name": "stdout",
     "output_type": "stream",
     "text": [
      "bitcoin_preprocess.csv\n"
     ]
    }
   ],
   "source": [
    "path = 'bitcoin_preprocess.csv'\n",
    "ts_config = TSConfig()\n",
    "frame = read_csv(path, ts_config.train_features, ts_config.pred_features, return_np = True)\n",
    "preprocess = Preprocessing()\n",
    "ML = True"
   ]
  },
  {
   "cell_type": "code",
   "execution_count": 13,
   "id": "a1e42930-f4f8-431c-a64e-07c7cd0d7b95",
   "metadata": {
    "tags": []
   },
   "outputs": [],
   "source": [
    "feature = frame['feature']\n",
    "target = frame['target']"
   ]
  },
  {
   "cell_type": "code",
   "execution_count": 14,
   "id": "b42b1199",
   "metadata": {},
   "outputs": [
    {
     "data": {
      "text/plain": [
       "(19975, 2)"
      ]
     },
     "execution_count": 14,
     "metadata": {},
     "output_type": "execute_result"
    }
   ],
   "source": [
    "target.shape"
   ]
  },
  {
   "cell_type": "code",
   "execution_count": 15,
   "id": "4ef21f43",
   "metadata": {},
   "outputs": [],
   "source": [
    "#   Scaling data\n",
    "feature, (feature_max_scale, feature_min_scale) = preprocess.apply_minmax_scale(feature)"
   ]
  },
  {
   "cell_type": "code",
   "execution_count": 16,
   "id": "ee7f1d83",
   "metadata": {},
   "outputs": [],
   "source": [
    "target, (target_max_scale, target_min_scale) = preprocess.apply_minmax_scale(target)"
   ]
  },
  {
   "cell_type": "code",
   "execution_count": 17,
   "id": "6f3a1b46-c294-400a-92d0-e7042e8d355d",
   "metadata": {
    "tags": []
   },
   "outputs": [],
   "source": [
    "train_test_ratio = 0.8\n",
    "seq_steps        = 7"
   ]
  },
  {
   "cell_type": "code",
   "execution_count": 18,
   "id": "4d34a92a-e656-42f0-a8b4-e71bbcaadd10",
   "metadata": {
    "tags": []
   },
   "outputs": [],
   "source": [
    "X, Y = create_data_train(feature, target, seq_steps)\n",
    "if ML:\n",
    "    X = X.detach().cpu().numpy()\n",
    "    Y = Y.detach().cpu().numpy()"
   ]
  },
  {
   "cell_type": "code",
   "execution_count": 19,
   "id": "cc6b758c-b527-4287-84b5-8e132b1659a5",
   "metadata": {
    "tags": []
   },
   "outputs": [],
   "source": [
    "split_idx = int(X.shape[0] * train_test_ratio)\n"
   ]
  },
  {
   "cell_type": "code",
   "execution_count": 20,
   "id": "50b5201a-38e6-46dd-b81e-6c544da4d889",
   "metadata": {
    "tags": []
   },
   "outputs": [
    {
     "name": "stdout",
     "output_type": "stream",
     "text": [
      "(15971, 2) (3993, 2)\n"
     ]
    }
   ],
   "source": [
    "#   Predict high\n",
    "x_train, y_train = X[:split_idx, :, :], Y[:split_idx, :]\n",
    "x_test, y_test   = X[split_idx:, :, :], Y[split_idx:, :]\n",
    "\n",
    "print(y_train.shape, y_test.shape)"
   ]
  },
  {
   "cell_type": "code",
   "execution_count": 21,
   "id": "721ce81e-82be-4a41-a4e2-54ede283ef3f",
   "metadata": {
    "tags": []
   },
   "outputs": [
    {
     "name": "stdout",
     "output_type": "stream",
     "text": [
      "Number of traning samples = 15971\n",
      "Number of testing samples = 3993\n",
      "(15971, 7, 10)\n"
     ]
    }
   ],
   "source": [
    "print(f'Number of traning samples = {x_train.shape[0]}\\nNumber of testing samples = {y_test.shape[0]}')\n",
    "print(x_train.shape)"
   ]
  },
  {
   "cell_type": "code",
   "execution_count": 23,
   "id": "17341aae",
   "metadata": {},
   "outputs": [],
   "source": [
    "def max_min_inverse(inp, max_scale, min_scale):\n",
    "    print(max_scale)\n",
    "    return (inp * (max_scale - min_scale)) + min_scale"
   ]
  },
  {
   "cell_type": "code",
   "execution_count": 25,
   "id": "ab99bd86",
   "metadata": {},
   "outputs": [
    {
     "name": "stdout",
     "output_type": "stream",
     "text": [
      "Feature selection = low\n",
      "Train shape: (15971, 7), (15971,)\n",
      "Test shape: (3993, 7), (3993,)\n"
     ]
    }
   ],
   "source": [
    "#   Predict categories\n",
    "\"\"\"\n",
    "'high': 0\n",
    "'low': 1\n",
    "'MA:   2\n",
    "'MACD': 3\n",
    "'open': 4\n",
    "'close': 5\n",
    "'Volume': 6\n",
    "'Volume MA': 7\n",
    "'MA': 8\n",
    "'Histogram': 9\n",
    "'MACD': 10\n",
    "'Signal': 11\n",
    "\"\"\"\n",
    "category = 1\n",
    "x_train_ml = x_train[:, :, category]\n",
    "x_test_ml = x_test[:, :, category]\n",
    "y_train_ml = y_train[:, category]\n",
    "y_test_ml  = y_test[:,category]\n",
    "\n",
    "print(f'Feature selection = {ts_config.pred_features[category]}')\n",
    "print(f'Train shape: {x_train_ml.shape}, {y_train_ml.shape}\\nTest shape: {x_test_ml.shape}, {y_test_ml.shape}')"
   ]
  },
  {
   "attachments": {},
   "cell_type": "markdown",
   "id": "f62d9b5c-b42b-48fb-a38a-c44def9cbdaa",
   "metadata": {},
   "source": [
    "### Support Vector Regressor"
   ]
  },
  {
   "cell_type": "code",
   "execution_count": 26,
   "id": "d92c8354-e776-485c-b809-5a412ed26859",
   "metadata": {
    "tags": []
   },
   "outputs": [],
   "source": [
    "from sklearn.svm import SVR\n",
    "from configs.config import BASEDIR\n",
    "import pickle"
   ]
  },
  {
   "cell_type": "code",
   "execution_count": 27,
   "id": "f6eb1892-b553-4cb5-9276-77ccea148658",
   "metadata": {
    "tags": []
   },
   "outputs": [],
   "source": [
    "def evaluate_SVR(x_train, y_train, x_test, y_test, C, gamma, category):\n",
    "    svr_rbf = SVR(kernel = 'rbf', C= 1e2, gamma= 0.1)\n",
    "    svr_rbf.fit(x_train, y_train)\n",
    "\n",
    "    train_predict=svr_rbf.predict(x_train)\n",
    "    test_predict=svr_rbf.predict(x_test)\n",
    "\n",
    "    y_test_rescale = max_min_inverse(y_test, target_max_scale[:, category], target_min_scale[:, category])\n",
    "    pred_rescale   = max_min_inverse(test_predict, target_max_scale[:, category], target_min_scale[:, category])\n",
    "\n",
    "    train_predict = train_predict.reshape(-1,1)\n",
    "    test_predict = test_predict.reshape(-1,1)\n",
    "    \n",
    "    mean_sqr_err = mean_squared_error(y_test_rescale, pred_rescale)\n",
    "    mean_abs_err = mean_absolute_error(y_test_rescale, pred_rescale)\n",
    "    r_square     = r2_score(y_test_rescale, pred_rescale)\n",
    "    print(\"Train data prediction:\", train_predict.shape)\n",
    "    print(\"Test data prediction:\", test_predict.shape)\n",
    "    print(f'Prediction of {ts_config.pred_features[category]}')\n",
    "    print(f'MAE = {mean_abs_err}\\nMSE = {mean_sqr_err}\\nR square = {r_square}')\n",
    "\n",
    "    results = {\n",
    "        'prediction_' + ts_config.pred_features[category]: pred_rescale,\n",
    "        'ground_truth': y_test_rescale,\n",
    "        'MSE': mean_sqr_err,\n",
    "        'MAE': mean_abs_err,\n",
    "        'R2': r_square,\n",
    "        'RMSE': np.sqrt(mean_sqr_err)\n",
    "    }\n",
    "\n",
    "    print(results)\n",
    "    save_pkl_path = BASEDIR / f'save/SVR_{ts_config.pred_features[category]}.pkl'\n",
    "    with open(save_pkl_path, mode=  'wb') as writer:\n",
    "        pickle.dump(results, writer)\n",
    "    writer.close()"
   ]
  },
  {
   "cell_type": "code",
   "execution_count": 28,
   "id": "3ef8eaf9-0a65-4e9a-bf8e-3ff3309a105a",
   "metadata": {
    "tags": []
   },
   "outputs": [
    {
     "name": "stdout",
     "output_type": "stream",
     "text": [
      "[68451.19]\n",
      "[68451.19]\n",
      "Train data prediction: (15971, 1)\n",
      "Test data prediction: (3993, 1)\n",
      "Prediction of low\n",
      "MAE = 3405.600834303915\n",
      "MSE = 15943935.772305543\n",
      "R square = 0.14403223440365165\n",
      "{'prediction_low': array([24057.71610473, 24038.09607766, 24071.82078595, ...,\n",
      "       29445.67930355, 29443.359772  , 29463.08868224]), 'ground_truth': array([20407.66003502, 20500.02993242, 20457.61985553, ...,\n",
      "       29801.00067141, 29845.95022187, 29764.27974154]), 'MSE': 15943935.772305543, 'MAE': 3405.600834303915, 'R2': 0.14403223440365165, 'RMSE': 3992.9858217010415}\n"
     ]
    }
   ],
   "source": [
    "evaluate_SVR(x_train_ml, y_train_ml, x_test_ml, y_test_ml, 1e2, 1e-1, category)"
   ]
  },
  {
   "attachments": {},
   "cell_type": "markdown",
   "id": "ceb206e4",
   "metadata": {},
   "source": [
    "### Random Forest"
   ]
  },
  {
   "cell_type": "code",
   "execution_count": 29,
   "id": "daaa033b",
   "metadata": {},
   "outputs": [],
   "source": [
    "from sklearn.ensemble import RandomForestRegressor\n",
    "import pickle"
   ]
  },
  {
   "cell_type": "code",
   "execution_count": 30,
   "id": "c8254a06-05c6-4ed5-a479-4c2f046812bf",
   "metadata": {},
   "outputs": [],
   "source": [
    "def evaluate_randomfr(x_train, y_train, x_test, y_test, C, gamma, category):\n",
    "\n",
    "\n",
    "    regressor = RandomForestRegressor(n_estimators = 100, random_state = 0)\n",
    "    regressor.fit(x_train, y_train)\n",
    "\n",
    "    train_predict=regressor.predict(x_train)\n",
    "    test_predict=regressor.predict(x_test)\n",
    "\n",
    "    y_test_rescale = max_min_inverse(y_test, target_max_scale[:, category], target_min_scale[:, category])\n",
    "    pred_rescale   = max_min_inverse(test_predict, target_max_scale[:, category], target_min_scale[:, category])\n",
    "\n",
    "    train_predict = train_predict.reshape(-1,1)\n",
    "    test_predict = test_predict.reshape(-1,1)\n",
    "    \n",
    "    mean_sqr_err = mean_squared_error(y_test_rescale, pred_rescale)\n",
    "    mean_abs_err = mean_absolute_error(y_test_rescale, pred_rescale)\n",
    "    r_square     = r2_score(y_test_rescale, pred_rescale)\n",
    "    print(\"Train data prediction:\", train_predict.shape)\n",
    "    print(\"Test data prediction:\", test_predict.shape)\n",
    "    print(f'Prediction of {ts_config.pred_features[category]}')\n",
    "    print(f'MAE = {mean_abs_err}\\nMSE = {mean_sqr_err}\\nR square = {r_square}')\n",
    "\n",
    "    results = {\n",
    "        'prediction_' + ts_config.pred_features[category]: pred_rescale,\n",
    "        'ground_truth': y_test_rescale,\n",
    "        'MSE': mean_sqr_err,\n",
    "        'MAE': mean_abs_err,\n",
    "        'R2': r_square,\n",
    "        'RMSE': np.sqrt(mean_sqr_err)\n",
    "    }\n",
    "\n",
    "    print(results)\n",
    "    save_pkl_path = BASEDIR / f'save/RandomF/rfr_{ts_config.pred_features[category]}.pkl'\n",
    "    with open(save_pkl_path, mode=  'wb') as writer:\n",
    "        pickle.dump(results, writer)\n",
    "    writer.close()"
   ]
  },
  {
   "cell_type": "code",
   "execution_count": 31,
   "id": "46fff9f3",
   "metadata": {},
   "outputs": [
    {
     "name": "stdout",
     "output_type": "stream",
     "text": [
      "[68451.19]\n",
      "[68451.19]\n",
      "Train data prediction: (15971, 1)\n",
      "Test data prediction: (3993, 1)\n",
      "Prediction of low\n",
      "MAE = 610.1955784446704\n",
      "MSE = 815166.9837671482\n",
      "R square = 0.9562368619864189\n",
      "{'prediction_low': array([20466.50388844, 20420.23739556, 20508.44227213, ...,\n",
      "       30101.81842153, 29720.85313319, 29957.07138054]), 'ground_truth': array([20407.66003502, 20500.02993242, 20457.61985553, ...,\n",
      "       29801.00067141, 29845.95022187, 29764.27974154]), 'MSE': 815166.9837671482, 'MAE': 610.1955784446704, 'R2': 0.9562368619864189, 'RMSE': 902.8659832816542}\n"
     ]
    }
   ],
   "source": [
    "evaluate_randomfr(x_train_ml, y_train_ml, x_test_ml, y_test_ml, 1e2, 1e-1, category)"
   ]
  },
  {
   "attachments": {},
   "cell_type": "markdown",
   "id": "f3d97b5f",
   "metadata": {},
   "source": [
    "### ARIMA"
   ]
  },
  {
   "cell_type": "code",
   "execution_count": 3,
   "id": "386aadb4",
   "metadata": {},
   "outputs": [],
   "source": [
    "from statsmodels.tsa.arima_model import ARIMA"
   ]
  },
  {
   "cell_type": "code",
   "execution_count": null,
   "id": "3d136eec",
   "metadata": {},
   "outputs": [],
   "source": []
  },
  {
   "cell_type": "code",
   "execution_count": null,
   "id": "a286e19c",
   "metadata": {},
   "outputs": [],
   "source": []
  },
  {
   "attachments": {},
   "cell_type": "markdown",
   "id": "5454267a",
   "metadata": {},
   "source": [
    "## Stacked LSTM"
   ]
  },
  {
   "cell_type": "code",
   "execution_count": 24,
   "id": "ddfd79c9",
   "metadata": {},
   "outputs": [],
   "source": [
    "import tensorflow as tf \n",
    "from tensorflow.keras.layers import LSTM, Dense, GRU\n",
    "from tensorflow.keras import Sequential"
   ]
  },
  {
   "cell_type": "code",
   "execution_count": 25,
   "id": "063030ee",
   "metadata": {},
   "outputs": [],
   "source": [
    "tf.keras.backend.clear_session()\n",
    "model=Sequential()\n",
    "model.add(LSTM(16,return_sequences=True,input_shape=(ts_config.n_steps, ts_config.n_features)))\n",
    "model.add(LSTM(16))\n",
    "model.add(Dense(ts_config.n_classes))\n",
    "model.compile(loss='mean_squared_error',optimizer='adam')"
   ]
  },
  {
   "cell_type": "code",
   "execution_count": 26,
   "id": "868eeca6",
   "metadata": {},
   "outputs": [
    {
     "name": "stdout",
     "output_type": "stream",
     "text": [
      "Model: \"sequential\"\n",
      "_________________________________________________________________\n",
      " Layer (type)                Output Shape              Param #   \n",
      "=================================================================\n",
      " lstm (LSTM)                 (None, 7, 16)             1728      \n",
      "                                                                 \n",
      " lstm_1 (LSTM)               (None, 16)                2112      \n",
      "                                                                 \n",
      " dense (Dense)               (None, 2)                 34        \n",
      "                                                                 \n",
      "=================================================================\n",
      "Total params: 3,874\n",
      "Trainable params: 3,874\n",
      "Non-trainable params: 0\n",
      "_________________________________________________________________\n"
     ]
    }
   ],
   "source": [
    "model.summary()"
   ]
  },
  {
   "cell_type": "code",
   "execution_count": 27,
   "id": "da2e0438",
   "metadata": {},
   "outputs": [
    {
     "name": "stdout",
     "output_type": "stream",
     "text": [
      "Train samples: (15971, 7, 10) -- Test samples: (3993, 7, 10)\n",
      "Train targets: (15971, 2) -- Test targets: (3993, 2)\n"
     ]
    }
   ],
   "source": [
    "x_train_dl = X[:split_idx, :, :]\n",
    "y_train_dl = Y[:split_idx, :]\n",
    "x_test_dl  = X[split_idx: , :, :]\n",
    "y_test_dl  = Y[split_idx:, :]\n",
    "\n",
    "print(f'Train samples: {x_train_dl.shape} -- Test samples: {x_test_dl.shape}')\n",
    "print(f'Train targets: {y_train_dl.shape} -- Test targets: {y_test_dl.shape}')"
   ]
  },
  {
   "cell_type": "code",
   "execution_count": 28,
   "id": "7b558971",
   "metadata": {},
   "outputs": [
    {
     "name": "stdout",
     "output_type": "stream",
     "text": [
      "Epoch 1/100\n",
      "32/32 [==============================] - 3s 26ms/step - loss: 0.0844 - val_loss: 0.0581\n",
      "Epoch 2/100\n",
      "32/32 [==============================] - 1s 17ms/step - loss: 0.0122 - val_loss: 0.0077\n",
      "Epoch 3/100\n",
      "32/32 [==============================] - 0s 13ms/step - loss: 0.0020 - val_loss: 0.0022\n",
      "Epoch 4/100\n",
      "32/32 [==============================] - 0s 11ms/step - loss: 9.8274e-04 - val_loss: 0.0017\n",
      "Epoch 5/100\n",
      "32/32 [==============================] - 0s 9ms/step - loss: 8.1238e-04 - val_loss: 0.0015\n",
      "Epoch 6/100\n",
      "32/32 [==============================] - 0s 11ms/step - loss: 6.9193e-04 - val_loss: 0.0014\n",
      "Epoch 7/100\n",
      "32/32 [==============================] - 0s 13ms/step - loss: 5.9216e-04 - val_loss: 0.0012\n",
      "Epoch 8/100\n",
      "32/32 [==============================] - 0s 12ms/step - loss: 5.1058e-04 - val_loss: 0.0011\n",
      "Epoch 9/100\n",
      "32/32 [==============================] - 0s 12ms/step - loss: 4.4406e-04 - val_loss: 0.0010\n",
      "Epoch 10/100\n",
      "32/32 [==============================] - 1s 16ms/step - loss: 3.8802e-04 - val_loss: 9.2772e-04\n",
      "Epoch 11/100\n",
      "32/32 [==============================] - 0s 13ms/step - loss: 3.4211e-04 - val_loss: 8.3913e-04\n",
      "Epoch 12/100\n",
      "32/32 [==============================] - 0s 14ms/step - loss: 3.0385e-04 - val_loss: 7.5593e-04\n",
      "Epoch 13/100\n",
      "32/32 [==============================] - 0s 10ms/step - loss: 2.7315e-04 - val_loss: 6.7811e-04\n",
      "Epoch 14/100\n",
      "32/32 [==============================] - 0s 12ms/step - loss: 2.4715e-04 - val_loss: 6.0843e-04\n",
      "Epoch 15/100\n",
      "32/32 [==============================] - 0s 14ms/step - loss: 2.2681e-04 - val_loss: 5.4523e-04\n",
      "Epoch 16/100\n",
      "32/32 [==============================] - 0s 9ms/step - loss: 2.0979e-04 - val_loss: 4.8297e-04\n",
      "Epoch 17/100\n",
      "32/32 [==============================] - 0s 9ms/step - loss: 1.9653e-04 - val_loss: 4.3450e-04\n",
      "Epoch 18/100\n",
      "32/32 [==============================] - 0s 14ms/step - loss: 1.8522e-04 - val_loss: 3.8562e-04\n",
      "Epoch 19/100\n",
      "32/32 [==============================] - 0s 10ms/step - loss: 1.7733e-04 - val_loss: 3.5386e-04\n",
      "Epoch 20/100\n",
      "32/32 [==============================] - 0s 13ms/step - loss: 1.7065e-04 - val_loss: 3.1711e-04\n",
      "Epoch 21/100\n",
      "32/32 [==============================] - 0s 12ms/step - loss: 1.6399e-04 - val_loss: 2.8817e-04\n",
      "Epoch 22/100\n",
      "32/32 [==============================] - 0s 14ms/step - loss: 1.5878e-04 - val_loss: 2.6286e-04\n",
      "Epoch 23/100\n",
      "32/32 [==============================] - 1s 16ms/step - loss: 1.5456e-04 - val_loss: 2.4046e-04\n",
      "Epoch 24/100\n",
      "32/32 [==============================] - 0s 11ms/step - loss: 1.5062e-04 - val_loss: 2.2355e-04\n",
      "Epoch 25/100\n",
      "32/32 [==============================] - 0s 10ms/step - loss: 1.4820e-04 - val_loss: 2.0616e-04\n",
      "Epoch 26/100\n",
      "32/32 [==============================] - 1s 17ms/step - loss: 1.4628e-04 - val_loss: 1.9114e-04\n",
      "Epoch 27/100\n",
      "32/32 [==============================] - 0s 10ms/step - loss: 1.4271e-04 - val_loss: 1.7893e-04\n",
      "Epoch 28/100\n",
      "32/32 [==============================] - 0s 11ms/step - loss: 1.3762e-04 - val_loss: 1.7012e-04\n",
      "Epoch 29/100\n",
      "32/32 [==============================] - 1s 16ms/step - loss: 1.3479e-04 - val_loss: 1.5752e-04\n",
      "Epoch 30/100\n",
      "32/32 [==============================] - 0s 8ms/step - loss: 1.3238e-04 - val_loss: 1.5149e-04\n",
      "Epoch 31/100\n",
      "32/32 [==============================] - 0s 13ms/step - loss: 1.2966e-04 - val_loss: 1.4234e-04\n",
      "Epoch 32/100\n",
      "32/32 [==============================] - 1s 17ms/step - loss: 1.2746e-04 - val_loss: 1.3446e-04\n",
      "Epoch 33/100\n",
      "32/32 [==============================] - 0s 15ms/step - loss: 1.2501e-04 - val_loss: 1.2780e-04\n",
      "Epoch 34/100\n",
      "32/32 [==============================] - 0s 10ms/step - loss: 1.2320e-04 - val_loss: 1.2133e-04\n",
      "Epoch 35/100\n",
      "32/32 [==============================] - 0s 11ms/step - loss: 1.2107e-04 - val_loss: 1.1407e-04\n",
      "Epoch 36/100\n",
      "32/32 [==============================] - 1s 16ms/step - loss: 1.1903e-04 - val_loss: 1.0810e-04\n",
      "Epoch 37/100\n",
      "32/32 [==============================] - 0s 11ms/step - loss: 1.1698e-04 - val_loss: 1.0466e-04\n",
      "Epoch 38/100\n",
      "32/32 [==============================] - 0s 14ms/step - loss: 1.1454e-04 - val_loss: 9.8736e-05\n",
      "Epoch 39/100\n",
      "32/32 [==============================] - 0s 13ms/step - loss: 1.1283e-04 - val_loss: 9.2771e-05\n",
      "Epoch 40/100\n",
      "32/32 [==============================] - 0s 10ms/step - loss: 1.1123e-04 - val_loss: 8.6441e-05\n",
      "Epoch 41/100\n",
      "32/32 [==============================] - 0s 10ms/step - loss: 1.0963e-04 - val_loss: 8.1190e-05\n",
      "Epoch 42/100\n",
      "32/32 [==============================] - 0s 13ms/step - loss: 1.0899e-04 - val_loss: 8.0916e-05\n",
      "Epoch 43/100\n",
      "32/32 [==============================] - 0s 12ms/step - loss: 1.0605e-04 - val_loss: 7.8346e-05\n",
      "Epoch 44/100\n",
      "32/32 [==============================] - 0s 13ms/step - loss: 1.0555e-04 - val_loss: 7.3607e-05\n",
      "Epoch 45/100\n",
      "32/32 [==============================] - 0s 11ms/step - loss: 1.0350e-04 - val_loss: 6.8579e-05\n",
      "Epoch 46/100\n",
      "32/32 [==============================] - 0s 13ms/step - loss: 1.0245e-04 - val_loss: 6.7174e-05\n",
      "Epoch 47/100\n",
      "32/32 [==============================] - 1s 16ms/step - loss: 1.0088e-04 - val_loss: 6.4841e-05\n",
      "Epoch 48/100\n",
      "32/32 [==============================] - 1s 17ms/step - loss: 1.0016e-04 - val_loss: 6.2097e-05\n",
      "Epoch 49/100\n",
      "32/32 [==============================] - 0s 10ms/step - loss: 9.8568e-05 - val_loss: 5.9775e-05\n",
      "Epoch 50/100\n",
      "32/32 [==============================] - 0s 14ms/step - loss: 9.7617e-05 - val_loss: 5.7932e-05\n",
      "Epoch 51/100\n",
      "32/32 [==============================] - 0s 9ms/step - loss: 9.6213e-05 - val_loss: 5.5881e-05\n",
      "Epoch 52/100\n",
      "32/32 [==============================] - 0s 14ms/step - loss: 9.5619e-05 - val_loss: 5.4772e-05\n",
      "Epoch 53/100\n",
      "32/32 [==============================] - 0s 11ms/step - loss: 9.4546e-05 - val_loss: 5.3306e-05\n",
      "Epoch 54/100\n",
      "32/32 [==============================] - 0s 15ms/step - loss: 9.4312e-05 - val_loss: 5.0366e-05\n",
      "Epoch 55/100\n",
      "32/32 [==============================] - 0s 13ms/step - loss: 9.2480e-05 - val_loss: 4.9288e-05\n",
      "Epoch 56/100\n",
      "32/32 [==============================] - 0s 9ms/step - loss: 9.2015e-05 - val_loss: 4.7101e-05\n",
      "Epoch 57/100\n",
      "32/32 [==============================] - 0s 9ms/step - loss: 9.1155e-05 - val_loss: 4.5284e-05\n",
      "Epoch 58/100\n",
      "32/32 [==============================] - 0s 11ms/step - loss: 9.0486e-05 - val_loss: 4.4424e-05\n",
      "Epoch 59/100\n",
      "32/32 [==============================] - 0s 13ms/step - loss: 9.0737e-05 - val_loss: 4.5339e-05\n",
      "Epoch 60/100\n",
      "32/32 [==============================] - 0s 12ms/step - loss: 8.9262e-05 - val_loss: 4.2430e-05\n",
      "Epoch 61/100\n",
      "32/32 [==============================] - 0s 12ms/step - loss: 8.8039e-05 - val_loss: 4.0457e-05\n",
      "Epoch 62/100\n",
      "32/32 [==============================] - 1s 17ms/step - loss: 8.7950e-05 - val_loss: 3.9481e-05\n",
      "Epoch 63/100\n",
      "32/32 [==============================] - 0s 11ms/step - loss: 8.6280e-05 - val_loss: 3.9855e-05\n",
      "Epoch 64/100\n",
      "32/32 [==============================] - 0s 15ms/step - loss: 8.5773e-05 - val_loss: 3.8149e-05\n",
      "Epoch 65/100\n",
      "32/32 [==============================] - 0s 13ms/step - loss: 8.6329e-05 - val_loss: 3.6072e-05\n",
      "Epoch 66/100\n",
      "32/32 [==============================] - 0s 15ms/step - loss: 8.6906e-05 - val_loss: 3.5705e-05\n",
      "Epoch 67/100\n",
      "32/32 [==============================] - 1s 16ms/step - loss: 8.5042e-05 - val_loss: 3.5913e-05\n",
      "Epoch 68/100\n",
      "32/32 [==============================] - 0s 11ms/step - loss: 8.3798e-05 - val_loss: 3.4588e-05\n",
      "Epoch 69/100\n",
      "32/32 [==============================] - 1s 16ms/step - loss: 8.3055e-05 - val_loss: 3.3928e-05\n",
      "Epoch 70/100\n",
      "32/32 [==============================] - 1s 16ms/step - loss: 8.2349e-05 - val_loss: 3.5840e-05\n",
      "Epoch 71/100\n",
      "32/32 [==============================] - 0s 14ms/step - loss: 8.2821e-05 - val_loss: 3.3115e-05\n",
      "Epoch 72/100\n",
      "32/32 [==============================] - 0s 13ms/step - loss: 8.1699e-05 - val_loss: 3.3271e-05\n",
      "Epoch 73/100\n",
      "32/32 [==============================] - 0s 15ms/step - loss: 8.1805e-05 - val_loss: 3.4241e-05\n",
      "Epoch 74/100\n",
      "32/32 [==============================] - 0s 11ms/step - loss: 8.4031e-05 - val_loss: 3.2865e-05\n",
      "Epoch 75/100\n",
      "32/32 [==============================] - 0s 11ms/step - loss: 8.2095e-05 - val_loss: 3.6482e-05\n",
      "Epoch 76/100\n",
      "32/32 [==============================] - 0s 12ms/step - loss: 8.4618e-05 - val_loss: 3.1809e-05\n",
      "Epoch 77/100\n",
      "32/32 [==============================] - 0s 10ms/step - loss: 7.9314e-05 - val_loss: 3.0994e-05\n",
      "Epoch 78/100\n",
      "32/32 [==============================] - 0s 13ms/step - loss: 7.9415e-05 - val_loss: 3.1185e-05\n",
      "Epoch 79/100\n",
      "32/32 [==============================] - 0s 12ms/step - loss: 7.8879e-05 - val_loss: 3.0133e-05\n",
      "Epoch 80/100\n",
      "32/32 [==============================] - 0s 12ms/step - loss: 7.9084e-05 - val_loss: 3.0342e-05\n",
      "Epoch 81/100\n",
      "32/32 [==============================] - 0s 12ms/step - loss: 7.8041e-05 - val_loss: 2.9286e-05\n",
      "Epoch 82/100\n",
      "32/32 [==============================] - 0s 12ms/step - loss: 7.7655e-05 - val_loss: 2.9007e-05\n",
      "Epoch 83/100\n",
      "32/32 [==============================] - 0s 15ms/step - loss: 7.6859e-05 - val_loss: 2.8814e-05\n",
      "Epoch 84/100\n",
      "32/32 [==============================] - 0s 13ms/step - loss: 7.7280e-05 - val_loss: 2.8376e-05\n",
      "Epoch 85/100\n",
      "32/32 [==============================] - 0s 13ms/step - loss: 7.6923e-05 - val_loss: 2.8609e-05\n",
      "Epoch 86/100\n",
      "32/32 [==============================] - 0s 12ms/step - loss: 7.6632e-05 - val_loss: 2.8239e-05\n",
      "Epoch 87/100\n",
      "32/32 [==============================] - 0s 14ms/step - loss: 7.6597e-05 - val_loss: 2.8402e-05\n",
      "Epoch 88/100\n",
      "32/32 [==============================] - 0s 14ms/step - loss: 7.5736e-05 - val_loss: 3.0699e-05\n",
      "Epoch 89/100\n",
      "32/32 [==============================] - 0s 11ms/step - loss: 7.5830e-05 - val_loss: 2.7373e-05\n",
      "Epoch 90/100\n",
      "32/32 [==============================] - 0s 11ms/step - loss: 7.4646e-05 - val_loss: 2.6659e-05\n",
      "Epoch 91/100\n",
      "32/32 [==============================] - 0s 10ms/step - loss: 7.5061e-05 - val_loss: 2.7980e-05\n",
      "Epoch 92/100\n",
      "32/32 [==============================] - 0s 11ms/step - loss: 7.4254e-05 - val_loss: 2.6741e-05\n",
      "Epoch 93/100\n",
      "32/32 [==============================] - 0s 10ms/step - loss: 7.7016e-05 - val_loss: 2.5928e-05\n",
      "Epoch 94/100\n",
      "32/32 [==============================] - 0s 10ms/step - loss: 7.8181e-05 - val_loss: 2.7995e-05\n",
      "Epoch 95/100\n",
      "32/32 [==============================] - 0s 9ms/step - loss: 7.6050e-05 - val_loss: 2.6477e-05\n",
      "Epoch 96/100\n",
      "32/32 [==============================] - 0s 10ms/step - loss: 7.4752e-05 - val_loss: 2.7017e-05\n",
      "Epoch 97/100\n",
      "32/32 [==============================] - 0s 9ms/step - loss: 7.4333e-05 - val_loss: 2.6611e-05\n",
      "Epoch 98/100\n",
      "32/32 [==============================] - 0s 10ms/step - loss: 7.3050e-05 - val_loss: 2.5818e-05\n",
      "Epoch 99/100\n",
      "32/32 [==============================] - 0s 6ms/step - loss: 7.2013e-05 - val_loss: 2.4794e-05\n",
      "Epoch 100/100\n",
      "32/32 [==============================] - 0s 7ms/step - loss: 7.2371e-05 - val_loss: 2.6041e-05\n"
     ]
    }
   ],
   "source": [
    "model.fit(x_train_dl,y_train_dl,validation_data=(x_test_dl,y_test_dl),epochs=100,batch_size=512,verbose=1)\n",
    "model.save(f'save/StackedLSTM/ckpt/lstm.h5')"
   ]
  },
  {
   "cell_type": "markdown",
   "id": "6f8401ba",
   "metadata": {},
   "source": []
  },
  {
   "cell_type": "code",
   "execution_count": 29,
   "id": "ed8a6e1a",
   "metadata": {},
   "outputs": [
    {
     "name": "stdout",
     "output_type": "stream",
     "text": [
      "500/500 [==============================] - 2s 2ms/step\n",
      "125/125 [==============================] - 0s 3ms/step\n"
     ]
    },
    {
     "data": {
      "text/plain": [
       "((15971, 2), (3993, 2))"
      ]
     },
     "execution_count": 29,
     "metadata": {},
     "output_type": "execute_result"
    }
   ],
   "source": [
    "train_predict=model.predict(x_train_dl)\n",
    "test_predict=model.predict(x_test_dl)\n",
    "train_predict.shape, test_predict.shape"
   ]
  },
  {
   "cell_type": "code",
   "execution_count": 30,
   "id": "89fbdadd",
   "metadata": {},
   "outputs": [],
   "source": [
    "test_pred_scale = (test_predict * (target_max_scale - target_min_scale)) + target_min_scale"
   ]
  },
  {
   "cell_type": "code",
   "execution_count": 31,
   "id": "7bc10198",
   "metadata": {},
   "outputs": [],
   "source": [
    "y_test_scale = (y_test_dl * (target_max_scale - target_min_scale) + target_min_scale)"
   ]
  },
  {
   "cell_type": "code",
   "execution_count": 32,
   "id": "a1018638",
   "metadata": {},
   "outputs": [
    {
     "data": {
      "text/plain": [
       "73265.8854507157"
      ]
     },
     "execution_count": 32,
     "metadata": {},
     "output_type": "execute_result"
    }
   ],
   "source": [
    "mean_squared_error(y_test_scale, test_pred_scale)"
   ]
  },
  {
   "cell_type": "code",
   "execution_count": 33,
   "id": "1a76cb89",
   "metadata": {},
   "outputs": [
    {
     "data": {
      "text/plain": [
       "194.57151302991824"
      ]
     },
     "execution_count": 33,
     "metadata": {},
     "output_type": "execute_result"
    }
   ],
   "source": [
    "mean_absolute_error(y_test_scale, test_pred_scale)"
   ]
  },
  {
   "cell_type": "code",
   "execution_count": 34,
   "id": "76054381",
   "metadata": {},
   "outputs": [
    {
     "data": {
      "text/plain": [
       "0.9960862344572969"
      ]
     },
     "execution_count": 34,
     "metadata": {},
     "output_type": "execute_result"
    }
   ],
   "source": [
    "r2_score(y_test_scale, test_pred_scale)"
   ]
  },
  {
   "cell_type": "code",
   "execution_count": 35,
   "id": "719f105d",
   "metadata": {},
   "outputs": [],
   "source": [
    "import pickle"
   ]
  },
  {
   "cell_type": "code",
   "execution_count": 36,
   "id": "92a97e06",
   "metadata": {},
   "outputs": [
    {
     "name": "stdout",
     "output_type": "stream",
     "text": [
      "MSE in high = 38938.329151169004\n",
      "MAE in high = 134.84057755247565\n",
      "R2 score in high = 0.9979487414261631\n",
      "MSE in low = 107593.4417502624\n",
      "MAE in low = 254.30244850736145\n",
      "R2 score in low = 0.9942237274884308\n",
      "{'high': [38938.329151169004, 134.84057755247565, 0.9979487414261631], 'low': [107593.4417502624, 254.30244850736145, 0.9942237274884308]}\n"
     ]
    }
   ],
   "source": [
    "n_samples, n_fea = y_test_scale.shape\n",
    "lstm_res = dict()\n",
    "for idx, category in enumerate(ts_config.pred_features):\n",
    "    cate_mse = mean_squared_error(y_test_scale[:, idx], test_pred_scale[:, idx])\n",
    "    cate_mae = mean_absolute_error(y_test_scale[:, idx], test_pred_scale[:, idx])\n",
    "    cate_rsqr = r2_score(y_test_scale[:, idx], test_pred_scale[:, idx])\n",
    "\n",
    "    lstm_res[ts_config.pred_features[idx]] = [cate_mse, cate_mae, cate_rsqr]\n",
    "\n",
    "    print(f'MSE in {ts_config.pred_features[idx]} = {cate_mse}')\n",
    "    print(f'MAE in {ts_config.pred_features[idx]} = {cate_mae}')\n",
    "    print(f'R2 score in {ts_config.pred_features[idx]} = {cate_rsqr}')\n",
    "print(lstm_res)\n",
    "with open(f'save/StackedLSTM/results.pkl', mode= 'wb') as writer:\n",
    "    pickle.dump(lstm_res, writer)\n",
    "writer.close()\n"
   ]
  },
  {
   "cell_type": "code",
   "execution_count": 37,
   "id": "26e01619",
   "metadata": {},
   "outputs": [
    {
     "data": {
      "text/plain": [
       "(3993, 2)"
      ]
     },
     "execution_count": 37,
     "metadata": {},
     "output_type": "execute_result"
    }
   ],
   "source": [
    "y_test_scale.shape"
   ]
  },
  {
   "cell_type": "code",
   "execution_count": 38,
   "id": "3e98e07f",
   "metadata": {},
   "outputs": [
    {
     "data": {
      "text/plain": [
       "(3993, 2)"
      ]
     },
     "execution_count": 38,
     "metadata": {},
     "output_type": "execute_result"
    }
   ],
   "source": [
    "test_pred_scale.shape"
   ]
  },
  {
   "cell_type": "code",
   "execution_count": null,
   "id": "8079cc5f",
   "metadata": {},
   "outputs": [],
   "source": []
  },
  {
   "cell_type": "code",
   "execution_count": 39,
   "id": "b7db809a",
   "metadata": {},
   "outputs": [],
   "source": [
    "n_samples, n_fea = y_test_scale.shape"
   ]
  },
  {
   "cell_type": "code",
   "execution_count": 40,
   "id": "ce5b5e4f",
   "metadata": {},
   "outputs": [
    {
     "data": {
      "text/plain": [
       "(3993, 1)"
      ]
     },
     "execution_count": 40,
     "metadata": {},
     "output_type": "execute_result"
    }
   ],
   "source": [
    "y_test_scale[:, 1].reshape((n_samples, 1)).shape"
   ]
  },
  {
   "attachments": {},
   "cell_type": "markdown",
   "id": "414545e7",
   "metadata": {},
   "source": [
    "## Stacked GRU"
   ]
  },
  {
   "cell_type": "code",
   "execution_count": 41,
   "id": "fed471c4",
   "metadata": {},
   "outputs": [],
   "source": [
    "tf.keras.backend.clear_session()\n",
    "gru_model=Sequential()\n",
    "gru_model.add(GRU(16,return_sequences=True,input_shape=(ts_config.n_steps, ts_config.n_features)))\n",
    "gru_model.add(GRU(16))\n",
    "gru_model.add(Dense(ts_config.n_classes))\n",
    "gru_model.compile(loss='mean_squared_error',optimizer='adam')"
   ]
  },
  {
   "cell_type": "code",
   "execution_count": 42,
   "id": "aafabaa2",
   "metadata": {},
   "outputs": [
    {
     "name": "stdout",
     "output_type": "stream",
     "text": [
      "Model: \"sequential\"\n",
      "_________________________________________________________________\n",
      " Layer (type)                Output Shape              Param #   \n",
      "=================================================================\n",
      " gru (GRU)                   (None, 7, 16)             1344      \n",
      "                                                                 \n",
      " gru_1 (GRU)                 (None, 16)                1632      \n",
      "                                                                 \n",
      " dense (Dense)               (None, 2)                 34        \n",
      "                                                                 \n",
      "=================================================================\n",
      "Total params: 3,010\n",
      "Trainable params: 3,010\n",
      "Non-trainable params: 0\n",
      "_________________________________________________________________\n"
     ]
    }
   ],
   "source": [
    "gru_model.summary()"
   ]
  },
  {
   "cell_type": "code",
   "execution_count": 44,
   "id": "f254bc0b",
   "metadata": {},
   "outputs": [
    {
     "name": "stdout",
     "output_type": "stream",
     "text": [
      "Epoch 1/100\n",
      "32/32 [==============================] - 0s 11ms/step - loss: 0.0030 - val_loss: 0.0031\n",
      "Epoch 2/100\n",
      "32/32 [==============================] - 0s 9ms/step - loss: 0.0016 - val_loss: 0.0012\n",
      "Epoch 3/100\n",
      "32/32 [==============================] - 0s 10ms/step - loss: 0.0012 - val_loss: 7.4371e-04\n",
      "Epoch 4/100\n",
      "32/32 [==============================] - 0s 10ms/step - loss: 9.0745e-04 - val_loss: 4.4754e-04\n",
      "Epoch 5/100\n",
      "32/32 [==============================] - 0s 10ms/step - loss: 7.2685e-04 - val_loss: 2.8358e-04\n",
      "Epoch 6/100\n",
      "32/32 [==============================] - 0s 10ms/step - loss: 5.9693e-04 - val_loss: 1.9178e-04\n",
      "Epoch 7/100\n",
      "32/32 [==============================] - 0s 7ms/step - loss: 4.9729e-04 - val_loss: 1.5193e-04\n",
      "Epoch 8/100\n",
      "32/32 [==============================] - 0s 10ms/step - loss: 4.1971e-04 - val_loss: 1.3644e-04\n",
      "Epoch 9/100\n",
      "32/32 [==============================] - 0s 10ms/step - loss: 3.5532e-04 - val_loss: 1.2611e-04\n",
      "Epoch 10/100\n",
      "32/32 [==============================] - 0s 11ms/step - loss: 3.0185e-04 - val_loss: 1.1812e-04\n",
      "Epoch 11/100\n",
      "32/32 [==============================] - 0s 11ms/step - loss: 2.5702e-04 - val_loss: 1.0802e-04\n",
      "Epoch 12/100\n",
      "32/32 [==============================] - 0s 10ms/step - loss: 2.2033e-04 - val_loss: 9.7634e-05\n",
      "Epoch 13/100\n",
      "32/32 [==============================] - 0s 13ms/step - loss: 1.9010e-04 - val_loss: 8.6464e-05\n",
      "Epoch 14/100\n",
      "32/32 [==============================] - 0s 12ms/step - loss: 1.6778e-04 - val_loss: 7.6154e-05\n",
      "Epoch 15/100\n",
      "32/32 [==============================] - 0s 9ms/step - loss: 1.4928e-04 - val_loss: 7.0171e-05\n",
      "Epoch 16/100\n",
      "32/32 [==============================] - 0s 14ms/step - loss: 1.3595e-04 - val_loss: 6.3828e-05\n",
      "Epoch 17/100\n",
      "32/32 [==============================] - 0s 12ms/step - loss: 1.2665e-04 - val_loss: 5.9517e-05\n",
      "Epoch 18/100\n",
      "32/32 [==============================] - 0s 10ms/step - loss: 1.1840e-04 - val_loss: 5.9853e-05\n",
      "Epoch 19/100\n",
      "32/32 [==============================] - 0s 9ms/step - loss: 1.1271e-04 - val_loss: 5.5257e-05\n",
      "Epoch 20/100\n",
      "32/32 [==============================] - 0s 9ms/step - loss: 1.0814e-04 - val_loss: 5.5700e-05\n",
      "Epoch 21/100\n",
      "32/32 [==============================] - 0s 8ms/step - loss: 1.0420e-04 - val_loss: 5.5534e-05\n",
      "Epoch 22/100\n",
      "32/32 [==============================] - 0s 10ms/step - loss: 1.0045e-04 - val_loss: 5.4228e-05\n",
      "Epoch 23/100\n",
      "32/32 [==============================] - 0s 10ms/step - loss: 9.8464e-05 - val_loss: 5.3237e-05\n",
      "Epoch 24/100\n",
      "32/32 [==============================] - 0s 9ms/step - loss: 9.5053e-05 - val_loss: 5.4227e-05\n",
      "Epoch 25/100\n",
      "32/32 [==============================] - 0s 9ms/step - loss: 9.2747e-05 - val_loss: 5.0818e-05\n",
      "Epoch 26/100\n",
      "32/32 [==============================] - 0s 9ms/step - loss: 9.0658e-05 - val_loss: 4.8490e-05\n",
      "Epoch 27/100\n",
      "32/32 [==============================] - 0s 10ms/step - loss: 8.8612e-05 - val_loss: 4.7342e-05\n",
      "Epoch 28/100\n",
      "32/32 [==============================] - 0s 6ms/step - loss: 8.6559e-05 - val_loss: 4.4599e-05\n",
      "Epoch 29/100\n",
      "32/32 [==============================] - 0s 12ms/step - loss: 8.4696e-05 - val_loss: 4.2817e-05\n",
      "Epoch 30/100\n",
      "32/32 [==============================] - 0s 10ms/step - loss: 8.3205e-05 - val_loss: 4.4490e-05\n",
      "Epoch 31/100\n",
      "32/32 [==============================] - 0s 11ms/step - loss: 8.1974e-05 - val_loss: 4.6237e-05\n",
      "Epoch 32/100\n",
      "32/32 [==============================] - 0s 13ms/step - loss: 8.0093e-05 - val_loss: 3.5923e-05\n",
      "Epoch 33/100\n",
      "32/32 [==============================] - 0s 12ms/step - loss: 7.9010e-05 - val_loss: 3.8806e-05\n",
      "Epoch 34/100\n",
      "32/32 [==============================] - 0s 11ms/step - loss: 7.7552e-05 - val_loss: 3.6944e-05\n",
      "Epoch 35/100\n",
      "32/32 [==============================] - 0s 11ms/step - loss: 7.6116e-05 - val_loss: 3.5702e-05\n",
      "Epoch 36/100\n",
      "32/32 [==============================] - 0s 11ms/step - loss: 7.4682e-05 - val_loss: 3.6980e-05\n",
      "Epoch 37/100\n",
      "32/32 [==============================] - 0s 10ms/step - loss: 7.4161e-05 - val_loss: 3.6448e-05\n",
      "Epoch 38/100\n",
      "32/32 [==============================] - 0s 11ms/step - loss: 7.2291e-05 - val_loss: 3.2274e-05\n",
      "Epoch 39/100\n",
      "32/32 [==============================] - 0s 10ms/step - loss: 7.1131e-05 - val_loss: 3.2571e-05\n",
      "Epoch 40/100\n",
      "32/32 [==============================] - 0s 9ms/step - loss: 7.0320e-05 - val_loss: 3.5263e-05\n",
      "Epoch 41/100\n",
      "32/32 [==============================] - 0s 12ms/step - loss: 6.8922e-05 - val_loss: 3.2442e-05\n",
      "Epoch 42/100\n",
      "32/32 [==============================] - 0s 11ms/step - loss: 6.8046e-05 - val_loss: 3.1466e-05\n",
      "Epoch 43/100\n",
      "32/32 [==============================] - 0s 10ms/step - loss: 6.6992e-05 - val_loss: 3.2529e-05\n",
      "Epoch 44/100\n",
      "32/32 [==============================] - 0s 12ms/step - loss: 6.7008e-05 - val_loss: 3.4832e-05\n",
      "Epoch 45/100\n",
      "32/32 [==============================] - 0s 12ms/step - loss: 6.6270e-05 - val_loss: 3.1028e-05\n",
      "Epoch 46/100\n",
      "32/32 [==============================] - 0s 9ms/step - loss: 6.4601e-05 - val_loss: 2.7094e-05\n",
      "Epoch 47/100\n",
      "32/32 [==============================] - 0s 13ms/step - loss: 6.5365e-05 - val_loss: 2.6176e-05\n",
      "Epoch 48/100\n",
      "32/32 [==============================] - 0s 9ms/step - loss: 6.4828e-05 - val_loss: 3.2505e-05\n",
      "Epoch 49/100\n",
      "32/32 [==============================] - 0s 9ms/step - loss: 6.4641e-05 - val_loss: 2.6199e-05\n",
      "Epoch 50/100\n",
      "32/32 [==============================] - 0s 8ms/step - loss: 6.2134e-05 - val_loss: 2.5488e-05\n",
      "Epoch 51/100\n",
      "32/32 [==============================] - 0s 7ms/step - loss: 6.1893e-05 - val_loss: 2.8158e-05\n",
      "Epoch 52/100\n",
      "32/32 [==============================] - 0s 6ms/step - loss: 6.1401e-05 - val_loss: 2.8759e-05\n",
      "Epoch 53/100\n",
      "32/32 [==============================] - 0s 7ms/step - loss: 6.0768e-05 - val_loss: 2.6470e-05\n",
      "Epoch 54/100\n",
      "32/32 [==============================] - 0s 6ms/step - loss: 5.9992e-05 - val_loss: 2.5629e-05\n",
      "Epoch 55/100\n",
      "32/32 [==============================] - 0s 10ms/step - loss: 5.9099e-05 - val_loss: 2.4665e-05\n",
      "Epoch 56/100\n",
      "32/32 [==============================] - 0s 9ms/step - loss: 5.8907e-05 - val_loss: 2.4703e-05\n",
      "Epoch 57/100\n",
      "32/32 [==============================] - 0s 8ms/step - loss: 5.8425e-05 - val_loss: 2.3033e-05\n",
      "Epoch 58/100\n",
      "32/32 [==============================] - 0s 12ms/step - loss: 5.8361e-05 - val_loss: 2.6663e-05\n",
      "Epoch 59/100\n",
      "32/32 [==============================] - 0s 11ms/step - loss: 5.7446e-05 - val_loss: 2.3641e-05\n",
      "Epoch 60/100\n",
      "32/32 [==============================] - 0s 12ms/step - loss: 5.6886e-05 - val_loss: 2.2830e-05\n",
      "Epoch 61/100\n",
      "32/32 [==============================] - 0s 15ms/step - loss: 5.6350e-05 - val_loss: 2.1010e-05\n",
      "Epoch 62/100\n",
      "32/32 [==============================] - 0s 11ms/step - loss: 5.5940e-05 - val_loss: 2.2553e-05\n",
      "Epoch 63/100\n",
      "32/32 [==============================] - 0s 9ms/step - loss: 5.5248e-05 - val_loss: 2.5847e-05\n",
      "Epoch 64/100\n",
      "32/32 [==============================] - 0s 8ms/step - loss: 5.4579e-05 - val_loss: 2.4943e-05\n",
      "Epoch 65/100\n",
      "32/32 [==============================] - 0s 10ms/step - loss: 5.4938e-05 - val_loss: 2.2300e-05\n",
      "Epoch 66/100\n",
      "32/32 [==============================] - 0s 12ms/step - loss: 5.4388e-05 - val_loss: 2.0816e-05\n",
      "Epoch 67/100\n",
      "32/32 [==============================] - 0s 10ms/step - loss: 5.4057e-05 - val_loss: 1.9852e-05\n",
      "Epoch 68/100\n",
      "32/32 [==============================] - 0s 11ms/step - loss: 5.3119e-05 - val_loss: 2.6049e-05\n",
      "Epoch 69/100\n",
      "32/32 [==============================] - 0s 12ms/step - loss: 5.2592e-05 - val_loss: 2.2241e-05\n",
      "Epoch 70/100\n",
      "32/32 [==============================] - 0s 11ms/step - loss: 5.2046e-05 - val_loss: 2.0244e-05\n",
      "Epoch 71/100\n",
      "32/32 [==============================] - 0s 9ms/step - loss: 5.1752e-05 - val_loss: 2.1241e-05\n",
      "Epoch 72/100\n",
      "32/32 [==============================] - 0s 9ms/step - loss: 5.1790e-05 - val_loss: 1.8248e-05\n",
      "Epoch 73/100\n",
      "32/32 [==============================] - 0s 10ms/step - loss: 5.1309e-05 - val_loss: 1.9885e-05\n",
      "Epoch 74/100\n",
      "32/32 [==============================] - 0s 10ms/step - loss: 5.0648e-05 - val_loss: 1.8843e-05\n",
      "Epoch 75/100\n",
      "32/32 [==============================] - 0s 11ms/step - loss: 5.1056e-05 - val_loss: 1.9633e-05\n",
      "Epoch 76/100\n",
      "32/32 [==============================] - 0s 14ms/step - loss: 5.0344e-05 - val_loss: 2.1301e-05\n",
      "Epoch 77/100\n",
      "32/32 [==============================] - 0s 9ms/step - loss: 4.9454e-05 - val_loss: 1.8547e-05\n",
      "Epoch 78/100\n",
      "32/32 [==============================] - 0s 8ms/step - loss: 4.9750e-05 - val_loss: 1.7596e-05\n",
      "Epoch 79/100\n",
      "32/32 [==============================] - 0s 8ms/step - loss: 4.9019e-05 - val_loss: 1.9024e-05\n",
      "Epoch 80/100\n",
      "32/32 [==============================] - 0s 11ms/step - loss: 5.0075e-05 - val_loss: 1.8218e-05\n",
      "Epoch 81/100\n",
      "32/32 [==============================] - 0s 8ms/step - loss: 4.8717e-05 - val_loss: 1.6580e-05\n",
      "Epoch 82/100\n",
      "32/32 [==============================] - 0s 13ms/step - loss: 4.9421e-05 - val_loss: 1.9563e-05\n",
      "Epoch 83/100\n",
      "32/32 [==============================] - 0s 15ms/step - loss: 4.8625e-05 - val_loss: 1.8426e-05\n",
      "Epoch 84/100\n",
      "32/32 [==============================] - 0s 10ms/step - loss: 4.7233e-05 - val_loss: 1.7455e-05\n",
      "Epoch 85/100\n",
      "32/32 [==============================] - 0s 10ms/step - loss: 4.6244e-05 - val_loss: 1.8395e-05\n",
      "Epoch 86/100\n",
      "32/32 [==============================] - 0s 9ms/step - loss: 4.6748e-05 - val_loss: 1.8666e-05\n",
      "Epoch 87/100\n",
      "32/32 [==============================] - 0s 12ms/step - loss: 4.6147e-05 - val_loss: 1.9990e-05\n",
      "Epoch 88/100\n",
      "32/32 [==============================] - 0s 10ms/step - loss: 4.6521e-05 - val_loss: 1.4471e-05\n",
      "Epoch 89/100\n",
      "32/32 [==============================] - 0s 9ms/step - loss: 4.5235e-05 - val_loss: 1.7752e-05\n",
      "Epoch 90/100\n",
      "32/32 [==============================] - 0s 10ms/step - loss: 4.7864e-05 - val_loss: 1.4542e-05\n",
      "Epoch 91/100\n",
      "32/32 [==============================] - 0s 10ms/step - loss: 4.4253e-05 - val_loss: 1.5740e-05\n",
      "Epoch 92/100\n",
      "32/32 [==============================] - 0s 9ms/step - loss: 4.4690e-05 - val_loss: 1.4280e-05\n",
      "Epoch 93/100\n",
      "32/32 [==============================] - 0s 11ms/step - loss: 4.4909e-05 - val_loss: 2.0520e-05\n",
      "Epoch 94/100\n",
      "32/32 [==============================] - 0s 10ms/step - loss: 4.4027e-05 - val_loss: 1.4061e-05\n",
      "Epoch 95/100\n",
      "32/32 [==============================] - 0s 10ms/step - loss: 4.3671e-05 - val_loss: 1.5139e-05\n",
      "Epoch 96/100\n",
      "32/32 [==============================] - 0s 9ms/step - loss: 4.4661e-05 - val_loss: 2.4031e-05\n",
      "Epoch 97/100\n",
      "32/32 [==============================] - 0s 13ms/step - loss: 4.6293e-05 - val_loss: 1.2827e-05\n",
      "Epoch 98/100\n",
      "32/32 [==============================] - 0s 9ms/step - loss: 4.1735e-05 - val_loss: 1.3445e-05\n",
      "Epoch 99/100\n",
      "32/32 [==============================] - 0s 8ms/step - loss: 4.1932e-05 - val_loss: 1.5703e-05\n",
      "Epoch 100/100\n",
      "32/32 [==============================] - 0s 8ms/step - loss: 4.2625e-05 - val_loss: 1.2093e-05\n"
     ]
    }
   ],
   "source": [
    "gru_model.fit(x_train_dl,y_train_dl,validation_data=(x_test_dl,y_test_dl),epochs=100,batch_size=512,verbose=1)\n",
    "gru_model.save(f'save/GRU/gru_model.h5')"
   ]
  },
  {
   "cell_type": "code",
   "execution_count": 45,
   "id": "a39601d4",
   "metadata": {},
   "outputs": [
    {
     "name": "stdout",
     "output_type": "stream",
     "text": [
      "500/500 [==============================] - 2s 3ms/step\n",
      "125/125 [==============================] - 0s 2ms/step\n",
      "(15971, 2) (3993, 2)\n"
     ]
    }
   ],
   "source": [
    "train_predict_gru = gru_model.predict(x_train_dl)\n",
    "test_predict_gru = gru_model.predict(x_test_dl)\n",
    "print(train_predict_gru.shape, test_predict_gru.shape)"
   ]
  },
  {
   "cell_type": "code",
   "execution_count": 46,
   "id": "990b3c86",
   "metadata": {},
   "outputs": [],
   "source": [
    "gru_test_scale = (test_predict_gru * (target_max_scale - target_min_scale)) + target_min_scale"
   ]
  },
  {
   "cell_type": "code",
   "execution_count": 47,
   "id": "96bd7818",
   "metadata": {},
   "outputs": [
    {
     "data": {
      "text/plain": [
       "array([[20543.21555121, 20498.90504904],\n",
       "       [20605.19652628, 20512.10486479],\n",
       "       [20604.16101809, 20550.97491395],\n",
       "       ...,\n",
       "       [29949.69418436, 29747.07099931],\n",
       "       [29953.22070247, 29739.56072529],\n",
       "       [29945.31419492, 29748.66399206]])"
      ]
     },
     "execution_count": 47,
     "metadata": {},
     "output_type": "execute_result"
    }
   ],
   "source": [
    "gru_test_scale"
   ]
  },
  {
   "cell_type": "code",
   "execution_count": 48,
   "id": "fd07dcac",
   "metadata": {},
   "outputs": [
    {
     "name": "stdout",
     "output_type": "stream",
     "text": [
      "MSE in high = 30038.733093490624\n",
      "MAE in high = 129.368841496856\n",
      "R2 score in high = 0.9984175692653373\n",
      "MSE in low = 38123.07366028278\n",
      "MAE in low = 152.55943590016585\n",
      "R2 score in low = 0.9979533207706883\n",
      "{'high': [30038.733093490624, 129.368841496856, 0.9984175692653373], 'low': [38123.07366028278, 152.55943590016585, 0.9979533207706883]}\n"
     ]
    }
   ],
   "source": [
    "\n",
    "n_samples, n_fea = y_test_scale.shape\n",
    "gru_res = dict()\n",
    "for idx, category in enumerate(ts_config.pred_features):\n",
    "    cate_mse = mean_squared_error(y_test_scale[:, idx], gru_test_scale[:, idx])\n",
    "    cate_mae = mean_absolute_error(y_test_scale[:, idx], gru_test_scale[:, idx])\n",
    "    cate_rsqr = r2_score(y_test_scale[:, idx], gru_test_scale[:, idx])\n",
    "\n",
    "    gru_res[ts_config.pred_features[idx]] = [cate_mse, cate_mae, cate_rsqr]\n",
    "\n",
    "    print(f'MSE in {ts_config.pred_features[idx]} = {cate_mse}')\n",
    "    print(f'MAE in {ts_config.pred_features[idx]} = {cate_mae}')\n",
    "    print(f'R2 score in {ts_config.pred_features[idx]} = {cate_rsqr}')\n",
    "print(gru_res)\n",
    "with open(f'save/GRU/results_gru.pkl', mode= 'wb') as writer:\n",
    "    pickle.dump(gru_res, writer)\n",
    "writer.close()\n"
   ]
  },
  {
   "cell_type": "code",
   "execution_count": 49,
   "id": "cc756117",
   "metadata": {},
   "outputs": [
    {
     "data": {
      "text/plain": [
       "array([[20543.21555121, 20498.90504904],\n",
       "       [20605.19652628, 20512.10486479],\n",
       "       [20604.16101809, 20550.97491395],\n",
       "       ...,\n",
       "       [29949.69418436, 29747.07099931],\n",
       "       [29953.22070247, 29739.56072529],\n",
       "       [29945.31419492, 29748.66399206]])"
      ]
     },
     "execution_count": 49,
     "metadata": {},
     "output_type": "execute_result"
    }
   ],
   "source": [
    "gru_test_scale"
   ]
  },
  {
   "cell_type": "code",
   "execution_count": 50,
   "id": "77ad61cb",
   "metadata": {},
   "outputs": [
    {
     "data": {
      "text/plain": [
       "array([[20540.69995243, 20407.66003502],\n",
       "       [20536.37984876, 20500.02993242],\n",
       "       [20531.37006729, 20457.61985553],\n",
       "       ...,\n",
       "       [29919.15006391, 29801.00067141],\n",
       "       [29922.50049408, 29845.95022187],\n",
       "       [29888.88038684, 29764.27974154]])"
      ]
     },
     "execution_count": 50,
     "metadata": {},
     "output_type": "execute_result"
    }
   ],
   "source": [
    "y_test_scale"
   ]
  },
  {
   "attachments": {},
   "cell_type": "markdown",
   "id": "d9ffa431",
   "metadata": {},
   "source": [
    "## Our method"
   ]
  },
  {
   "cell_type": "code",
   "execution_count": 51,
   "id": "00d0eac3",
   "metadata": {},
   "outputs": [
    {
     "ename": "ModuleNotFoundError",
     "evalue": "No module named 'pytorch_lightning'",
     "output_type": "error",
     "traceback": [
      "\u001b[1;31m---------------------------------------------------------------------------\u001b[0m",
      "\u001b[1;31mModuleNotFoundError\u001b[0m                       Traceback (most recent call last)",
      "Cell \u001b[1;32mIn[51], line 1\u001b[0m\n\u001b[1;32m----> 1\u001b[0m \u001b[39mfrom\u001b[39;00m \u001b[39mmodel\u001b[39;00m \u001b[39mimport\u001b[39;00m TSModel\n\u001b[0;32m      2\u001b[0m \u001b[39mimport\u001b[39;00m \u001b[39mtensorflow\u001b[39;00m \u001b[39mas\u001b[39;00m \u001b[39mtf\u001b[39;00m\n\u001b[0;32m      3\u001b[0m \u001b[39mfrom\u001b[39;00m \u001b[39mtensorflow\u001b[39;00m\u001b[39m.\u001b[39;00m\u001b[39mkeras\u001b[39;00m\u001b[39m.\u001b[39;00m\u001b[39mlayers\u001b[39;00m \u001b[39mimport\u001b[39;00m Bidirectional, LSTM, Dense\n",
      "File \u001b[1;32md:\\Code\\Data-Mining\\mini-project\\model.py:5\u001b[0m\n\u001b[0;32m      3\u001b[0m \u001b[39mimport\u001b[39;00m \u001b[39mtorch\u001b[39;00m\u001b[39m.\u001b[39;00m\u001b[39mnn\u001b[39;00m\u001b[39m.\u001b[39;00m\u001b[39mfunctional\u001b[39;00m \u001b[39mas\u001b[39;00m \u001b[39mF\u001b[39;00m\n\u001b[0;32m      4\u001b[0m \u001b[39mimport\u001b[39;00m \u001b[39mnumpy\u001b[39;00m \u001b[39mas\u001b[39;00m \u001b[39mnp\u001b[39;00m\n\u001b[1;32m----> 5\u001b[0m \u001b[39mimport\u001b[39;00m \u001b[39mpytorch_lightning\u001b[39;00m \u001b[39mas\u001b[39;00m \u001b[39mpl\u001b[39;00m\n\u001b[0;32m      6\u001b[0m \u001b[39mimport\u001b[39;00m \u001b[39mmath\u001b[39;00m\n\u001b[0;32m      7\u001b[0m \u001b[39mfrom\u001b[39;00m \u001b[39meinops\u001b[39;00m \u001b[39mimport\u001b[39;00m rearrange\n",
      "\u001b[1;31mModuleNotFoundError\u001b[0m: No module named 'pytorch_lightning'"
     ]
    }
   ],
   "source": [
    "# from model import TSModel\n",
    "import tensorflow as tf\n",
    "from tensorflow.keras.layers import Bidirectional, LSTM, Dense\n",
    "from tensorflow.keras import Sequential"
   ]
  },
  {
   "cell_type": "code",
   "execution_count": 29,
   "id": "ad1b10dc",
   "metadata": {},
   "outputs": [],
   "source": [
    "tf.keras.backend.clear_session()\n",
    "bidir_model=Sequential()\n",
    "bidir_model.add(Bidirectional(LSTM(16,return_sequences=True,input_shape=(ts_config.n_steps, ts_config.n_features))))\n",
    "bidir_model.add(Bidirectional(LSTM(16)))\n",
    "bidir_model.add(Dense(ts_config.n_classes))\n",
    "bidir_model.compile(loss='mean_squared_error',optimizer='adam')"
   ]
  },
  {
   "cell_type": "code",
   "execution_count": 32,
   "id": "c5d5dd0f",
   "metadata": {},
   "outputs": [
    {
     "name": "stdout",
     "output_type": "stream",
     "text": [
      "Epoch 1/100\n",
      "33/33 [==============================] - 9s 56ms/step - loss: 0.0309 - val_loss: 0.0914\n",
      "Epoch 2/100\n",
      "33/33 [==============================] - 1s 18ms/step - loss: 0.0019 - val_loss: 0.0137\n",
      "Epoch 3/100\n",
      "33/33 [==============================] - 1s 20ms/step - loss: 2.4472e-04 - val_loss: 0.0143\n",
      "Epoch 4/100\n",
      "33/33 [==============================] - 1s 17ms/step - loss: 1.5637e-04 - val_loss: 0.0124\n",
      "Epoch 5/100\n",
      "33/33 [==============================] - 1s 17ms/step - loss: 1.3129e-04 - val_loss: 0.0115\n",
      "Epoch 6/100\n",
      "33/33 [==============================] - 1s 16ms/step - loss: 1.1312e-04 - val_loss: 0.0109\n",
      "Epoch 7/100\n",
      "33/33 [==============================] - 1s 17ms/step - loss: 9.9040e-05 - val_loss: 0.0103\n",
      "Epoch 8/100\n",
      "33/33 [==============================] - 1s 17ms/step - loss: 8.8116e-05 - val_loss: 0.0098\n",
      "Epoch 9/100\n",
      "33/33 [==============================] - 1s 17ms/step - loss: 7.9435e-05 - val_loss: 0.0092\n",
      "Epoch 10/100\n",
      "33/33 [==============================] - 1s 19ms/step - loss: 7.2429e-05 - val_loss: 0.0087\n",
      "Epoch 11/100\n",
      "33/33 [==============================] - 1s 16ms/step - loss: 6.6872e-05 - val_loss: 0.0082\n",
      "Epoch 12/100\n",
      "33/33 [==============================] - 1s 17ms/step - loss: 6.2301e-05 - val_loss: 0.0079\n",
      "Epoch 13/100\n",
      "33/33 [==============================] - 1s 17ms/step - loss: 5.8382e-05 - val_loss: 0.0075\n",
      "Epoch 14/100\n",
      "33/33 [==============================] - 1s 17ms/step - loss: 5.5246e-05 - val_loss: 0.0071\n",
      "Epoch 15/100\n",
      "33/33 [==============================] - 1s 17ms/step - loss: 5.2132e-05 - val_loss: 0.0069\n",
      "Epoch 16/100\n",
      "33/33 [==============================] - 1s 18ms/step - loss: 4.9519e-05 - val_loss: 0.0065\n",
      "Epoch 17/100\n",
      "33/33 [==============================] - 1s 17ms/step - loss: 4.7263e-05 - val_loss: 0.0063\n",
      "Epoch 18/100\n",
      "33/33 [==============================] - 1s 17ms/step - loss: 4.5043e-05 - val_loss: 0.0060\n",
      "Epoch 19/100\n",
      "33/33 [==============================] - 1s 17ms/step - loss: 4.2936e-05 - val_loss: 0.0059\n",
      "Epoch 20/100\n",
      "33/33 [==============================] - 1s 17ms/step - loss: 4.1091e-05 - val_loss: 0.0056\n",
      "Epoch 21/100\n",
      "33/33 [==============================] - 1s 17ms/step - loss: 3.9472e-05 - val_loss: 0.0054\n",
      "Epoch 22/100\n",
      "33/33 [==============================] - 1s 17ms/step - loss: 3.7956e-05 - val_loss: 0.0052\n",
      "Epoch 23/100\n",
      "33/33 [==============================] - 1s 17ms/step - loss: 3.6497e-05 - val_loss: 0.0051\n",
      "Epoch 24/100\n",
      "33/33 [==============================] - 1s 17ms/step - loss: 3.5060e-05 - val_loss: 0.0048\n",
      "Epoch 25/100\n",
      "33/33 [==============================] - 1s 17ms/step - loss: 3.3829e-05 - val_loss: 0.0047\n",
      "Epoch 26/100\n",
      "33/33 [==============================] - 1s 17ms/step - loss: 3.3003e-05 - val_loss: 0.0046\n",
      "Epoch 27/100\n",
      "33/33 [==============================] - 1s 18ms/step - loss: 3.1493e-05 - val_loss: 0.0044\n",
      "Epoch 28/100\n",
      "33/33 [==============================] - 1s 17ms/step - loss: 3.0489e-05 - val_loss: 0.0042\n",
      "Epoch 29/100\n",
      "33/33 [==============================] - 1s 17ms/step - loss: 2.9537e-05 - val_loss: 0.0041\n",
      "Epoch 30/100\n",
      "33/33 [==============================] - 1s 17ms/step - loss: 2.8628e-05 - val_loss: 0.0040\n",
      "Epoch 31/100\n",
      "33/33 [==============================] - 1s 17ms/step - loss: 2.7732e-05 - val_loss: 0.0039\n",
      "Epoch 32/100\n",
      "33/33 [==============================] - 1s 18ms/step - loss: 2.6980e-05 - val_loss: 0.0037\n",
      "Epoch 33/100\n",
      "33/33 [==============================] - 1s 17ms/step - loss: 2.6297e-05 - val_loss: 0.0038\n",
      "Epoch 34/100\n",
      "33/33 [==============================] - 1s 17ms/step - loss: 2.5667e-05 - val_loss: 0.0036\n",
      "Epoch 35/100\n",
      "33/33 [==============================] - 1s 17ms/step - loss: 2.4834e-05 - val_loss: 0.0035\n",
      "Epoch 36/100\n",
      "33/33 [==============================] - 1s 17ms/step - loss: 2.4209e-05 - val_loss: 0.0033\n",
      "Epoch 37/100\n",
      "33/33 [==============================] - 1s 16ms/step - loss: 2.3545e-05 - val_loss: 0.0033\n",
      "Epoch 38/100\n",
      "33/33 [==============================] - 1s 18ms/step - loss: 2.3204e-05 - val_loss: 0.0032\n",
      "Epoch 39/100\n",
      "33/33 [==============================] - 1s 17ms/step - loss: 2.2521e-05 - val_loss: 0.0031\n",
      "Epoch 40/100\n",
      "33/33 [==============================] - 1s 17ms/step - loss: 2.2136e-05 - val_loss: 0.0031\n",
      "Epoch 41/100\n",
      "33/33 [==============================] - 1s 17ms/step - loss: 2.1735e-05 - val_loss: 0.0029\n",
      "Epoch 42/100\n",
      "33/33 [==============================] - 1s 17ms/step - loss: 2.0973e-05 - val_loss: 0.0029\n",
      "Epoch 43/100\n",
      "33/33 [==============================] - 1s 18ms/step - loss: 2.0426e-05 - val_loss: 0.0028\n",
      "Epoch 44/100\n",
      "33/33 [==============================] - 1s 17ms/step - loss: 1.9852e-05 - val_loss: 0.0027\n",
      "Epoch 45/100\n",
      "33/33 [==============================] - 1s 17ms/step - loss: 1.9702e-05 - val_loss: 0.0027\n",
      "Epoch 46/100\n",
      "33/33 [==============================] - 1s 20ms/step - loss: 1.9065e-05 - val_loss: 0.0026\n",
      "Epoch 47/100\n",
      "33/33 [==============================] - 1s 18ms/step - loss: 1.8712e-05 - val_loss: 0.0025\n",
      "Epoch 48/100\n",
      "33/33 [==============================] - 1s 18ms/step - loss: 1.8265e-05 - val_loss: 0.0025\n",
      "Epoch 49/100\n",
      "33/33 [==============================] - 1s 18ms/step - loss: 1.7742e-05 - val_loss: 0.0025\n",
      "Epoch 50/100\n",
      "33/33 [==============================] - 1s 18ms/step - loss: 1.7427e-05 - val_loss: 0.0024\n",
      "Epoch 51/100\n",
      "33/33 [==============================] - 1s 20ms/step - loss: 1.7146e-05 - val_loss: 0.0025\n",
      "Epoch 52/100\n",
      "33/33 [==============================] - 1s 18ms/step - loss: 1.6856e-05 - val_loss: 0.0023\n",
      "Epoch 53/100\n",
      "33/33 [==============================] - 1s 17ms/step - loss: 1.6517e-05 - val_loss: 0.0023\n",
      "Epoch 54/100\n",
      "33/33 [==============================] - 1s 19ms/step - loss: 1.6197e-05 - val_loss: 0.0022\n",
      "Epoch 55/100\n",
      "33/33 [==============================] - 1s 18ms/step - loss: 1.5939e-05 - val_loss: 0.0022\n",
      "Epoch 56/100\n",
      "33/33 [==============================] - 1s 20ms/step - loss: 1.5433e-05 - val_loss: 0.0022\n",
      "Epoch 57/100\n",
      "33/33 [==============================] - 1s 18ms/step - loss: 1.5152e-05 - val_loss: 0.0022\n",
      "Epoch 58/100\n",
      "33/33 [==============================] - 1s 20ms/step - loss: 1.5452e-05 - val_loss: 0.0021\n",
      "Epoch 59/100\n",
      "33/33 [==============================] - 1s 18ms/step - loss: 1.4564e-05 - val_loss: 0.0021\n",
      "Epoch 60/100\n",
      "33/33 [==============================] - 1s 19ms/step - loss: 1.4400e-05 - val_loss: 0.0021\n",
      "Epoch 61/100\n",
      "33/33 [==============================] - 1s 19ms/step - loss: 1.4057e-05 - val_loss: 0.0021\n",
      "Epoch 62/100\n",
      "33/33 [==============================] - 1s 18ms/step - loss: 1.4080e-05 - val_loss: 0.0021\n",
      "Epoch 63/100\n",
      "33/33 [==============================] - 1s 20ms/step - loss: 1.3601e-05 - val_loss: 0.0020\n",
      "Epoch 64/100\n",
      "33/33 [==============================] - 1s 18ms/step - loss: 1.3452e-05 - val_loss: 0.0019\n",
      "Epoch 65/100\n",
      "33/33 [==============================] - 1s 18ms/step - loss: 1.4142e-05 - val_loss: 0.0020\n",
      "Epoch 66/100\n",
      "33/33 [==============================] - 1s 18ms/step - loss: 1.3231e-05 - val_loss: 0.0020\n",
      "Epoch 67/100\n",
      "33/33 [==============================] - 1s 19ms/step - loss: 1.3006e-05 - val_loss: 0.0019\n",
      "Epoch 68/100\n",
      "33/33 [==============================] - 1s 18ms/step - loss: 1.2954e-05 - val_loss: 0.0019\n",
      "Epoch 69/100\n",
      "33/33 [==============================] - 1s 19ms/step - loss: 1.2888e-05 - val_loss: 0.0019\n",
      "Epoch 70/100\n",
      "33/33 [==============================] - 1s 19ms/step - loss: 1.2658e-05 - val_loss: 0.0019\n",
      "Epoch 71/100\n",
      "33/33 [==============================] - 1s 21ms/step - loss: 1.2328e-05 - val_loss: 0.0020\n",
      "Epoch 72/100\n",
      "33/33 [==============================] - 1s 24ms/step - loss: 1.2300e-05 - val_loss: 0.0019\n",
      "Epoch 73/100\n",
      "33/33 [==============================] - 1s 23ms/step - loss: 1.1899e-05 - val_loss: 0.0019\n",
      "Epoch 74/100\n",
      "33/33 [==============================] - 1s 26ms/step - loss: 1.2071e-05 - val_loss: 0.0019\n",
      "Epoch 75/100\n",
      "33/33 [==============================] - 1s 19ms/step - loss: 1.2373e-05 - val_loss: 0.0019\n",
      "Epoch 76/100\n",
      "33/33 [==============================] - 1s 19ms/step - loss: 1.2056e-05 - val_loss: 0.0019\n",
      "Epoch 77/100\n",
      "33/33 [==============================] - 1s 18ms/step - loss: 1.1657e-05 - val_loss: 0.0019\n",
      "Epoch 78/100\n",
      "33/33 [==============================] - 1s 20ms/step - loss: 1.1820e-05 - val_loss: 0.0019\n",
      "Epoch 79/100\n",
      "33/33 [==============================] - 1s 22ms/step - loss: 1.1422e-05 - val_loss: 0.0018\n",
      "Epoch 80/100\n",
      "33/33 [==============================] - 1s 23ms/step - loss: 1.1006e-05 - val_loss: 0.0018\n",
      "Epoch 81/100\n",
      "33/33 [==============================] - 1s 20ms/step - loss: 1.1283e-05 - val_loss: 0.0018\n",
      "Epoch 82/100\n",
      "33/33 [==============================] - 1s 21ms/step - loss: 1.0892e-05 - val_loss: 0.0018\n",
      "Epoch 83/100\n",
      "33/33 [==============================] - 1s 19ms/step - loss: 1.1042e-05 - val_loss: 0.0018\n",
      "Epoch 84/100\n",
      "33/33 [==============================] - 1s 21ms/step - loss: 1.0821e-05 - val_loss: 0.0018\n",
      "Epoch 85/100\n",
      "33/33 [==============================] - 1s 21ms/step - loss: 1.0642e-05 - val_loss: 0.0018\n",
      "Epoch 86/100\n",
      "33/33 [==============================] - 1s 17ms/step - loss: 1.0981e-05 - val_loss: 0.0018\n",
      "Epoch 87/100\n",
      "33/33 [==============================] - 1s 17ms/step - loss: 1.0964e-05 - val_loss: 0.0018\n",
      "Epoch 88/100\n",
      "33/33 [==============================] - 1s 19ms/step - loss: 1.0438e-05 - val_loss: 0.0018\n",
      "Epoch 89/100\n",
      "33/33 [==============================] - 1s 22ms/step - loss: 1.0599e-05 - val_loss: 0.0018\n",
      "Epoch 90/100\n",
      "33/33 [==============================] - 1s 19ms/step - loss: 1.0592e-05 - val_loss: 0.0018\n",
      "Epoch 91/100\n",
      "33/33 [==============================] - 1s 20ms/step - loss: 1.0619e-05 - val_loss: 0.0018\n",
      "Epoch 92/100\n",
      "33/33 [==============================] - 1s 17ms/step - loss: 1.1151e-05 - val_loss: 0.0018\n",
      "Epoch 93/100\n",
      "33/33 [==============================] - 1s 19ms/step - loss: 9.9750e-06 - val_loss: 0.0018\n",
      "Epoch 94/100\n",
      "33/33 [==============================] - 1s 21ms/step - loss: 1.0072e-05 - val_loss: 0.0018\n",
      "Epoch 95/100\n",
      "33/33 [==============================] - 1s 19ms/step - loss: 1.0267e-05 - val_loss: 0.0018\n",
      "Epoch 96/100\n",
      "33/33 [==============================] - 1s 18ms/step - loss: 1.0171e-05 - val_loss: 0.0018\n",
      "Epoch 97/100\n",
      "33/33 [==============================] - 1s 18ms/step - loss: 9.7299e-06 - val_loss: 0.0018\n",
      "Epoch 98/100\n",
      "33/33 [==============================] - 1s 21ms/step - loss: 9.5755e-06 - val_loss: 0.0018\n",
      "Epoch 99/100\n",
      "33/33 [==============================] - 1s 19ms/step - loss: 1.0220e-05 - val_loss: 0.0018\n",
      "Epoch 100/100\n",
      "33/33 [==============================] - 1s 19ms/step - loss: 9.5037e-06 - val_loss: 0.0018\n"
     ]
    },
    {
     "data": {
      "text/plain": [
       "<keras.callbacks.History at 0x7ff98f608ee0>"
      ]
     },
     "execution_count": 32,
     "metadata": {},
     "output_type": "execute_result"
    }
   ],
   "source": [
    "# bidir_model.summary()\n",
    "bidir_model.fit(x_train_dl,y_train_dl,validation_data=(x_test_dl,y_test_dl),epochs=100,batch_size=512,verbose=1)"
   ]
  },
  {
   "cell_type": "code",
   "execution_count": 68,
   "id": "6e5c6e5a",
   "metadata": {},
   "outputs": [
    {
     "name": "stdout",
     "output_type": "stream",
     "text": [
      "519/519 [==============================] - 2s 3ms/step\n",
      "130/130 [==============================] - 0s 4ms/step\n",
      "(16587, 5) (4147, 5)\n"
     ]
    }
   ],
   "source": [
    "train_predict_bidir = bidir_model.predict(x_train_dl)\n",
    "test_predict_bidir = bidir_model.predict(x_test_dl)\n",
    "print(train_predict_bidir.shape, test_predict_bidir.shape)\n",
    "bidir_model.save(f'save/BiLSTM_Time/model.h5')"
   ]
  },
  {
   "cell_type": "code",
   "execution_count": 69,
   "id": "d7b68ab1",
   "metadata": {},
   "outputs": [],
   "source": [
    "bidir_pred_scale = (test_predict_bidir * (target_max_scale - target_min_scale)) + target_min_scale"
   ]
  },
  {
   "cell_type": "code",
   "execution_count": 70,
   "id": "e6f99277",
   "metadata": {},
   "outputs": [
    {
     "data": {
      "text/plain": [
       "array([[3573.65007628, 3556.85003304, 3562.29623436, 3563.62002571,\n",
       "        3557.53995056],\n",
       "       [3589.81011779, 3564.09003568, 3563.2345051 , 3566.82004822,\n",
       "        3564.67999336],\n",
       "       [3575.89992754, 3556.54997781, 3564.23918094, 3564.68004395,\n",
       "        3559.79999797],\n",
       "       ...,\n",
       "       [4105.14005328, 4086.87000917, 4001.32070697, 4103.03988975,\n",
       "        4096.89007598],\n",
       "       [4105.23998636, 4093.1898917 , 4002.93473328, 4096.87995119,\n",
       "        4104.00002428],\n",
       "       [4106.62991969, 4093.55005652, 4004.43386442, 4104.02003685,\n",
       "        4093.72004005]])"
      ]
     },
     "execution_count": 70,
     "metadata": {},
     "output_type": "execute_result"
    }
   ],
   "source": [
    "y_test_scale"
   ]
  },
  {
   "cell_type": "code",
   "execution_count": 75,
   "id": "621f32ba",
   "metadata": {},
   "outputs": [
    {
     "name": "stdout",
     "output_type": "stream",
     "text": [
      "MSE in high = 1786.8458572651514\n",
      "MAE in high = 31.507823106917467\n",
      "R2 score in high = 0.9803716699938331\n",
      "MSE in low = 5312.98377266897\n",
      "MAE in low = 55.781296917008355\n",
      "R2 score in low = 0.9421939077249079\n",
      "MSE in MA = 108465.93359541956\n",
      "MAE in MA = 278.58631885526825\n",
      "R2 score in MA = -0.19983390964606573\n",
      "MSE in open = 13356.648659201868\n",
      "MAE in open = 93.2332664953878\n",
      "R2 score in open = 0.8540694684644325\n",
      "MSE in close = 16775.75641565107\n",
      "MAE in close = 108.98252168946306\n",
      "R2 score in close = 0.8165802970081102\n",
      "{'high': [1786.8458572651514, 31.507823106917467, 0.9803716699938331], 'low': [5312.98377266897, 55.781296917008355, 0.9421939077249079], 'MA': [108465.93359541956, 278.58631885526825, -0.19983390964606573], 'open': [13356.648659201868, 93.2332664953878, 0.8540694684644325], 'close': [16775.75641565107, 108.98252168946306, 0.8165802970081102]}\n"
     ]
    }
   ],
   "source": [
    "\n",
    "n_samples, n_fea = y_test_scale.shape\n",
    "bidir_result = dict()\n",
    "for idx, category in enumerate(ts_config.pred_features):\n",
    "    cate_mse = mean_squared_error(y_test_scale[:, idx], bidir_pred_scale[:, idx])\n",
    "    cate_mae = mean_absolute_error(y_test_scale[:, idx], bidir_pred_scale[:, idx])\n",
    "    cate_rsqr = r2_score(y_test_scale[:, idx], bidir_pred_scale[:, idx])\n",
    "\n",
    "    bidir_result[ts_config.pred_features[idx]] = [cate_mse, cate_mae, cate_rsqr]\n",
    "\n",
    "    print(f'MSE in {ts_config.pred_features[idx]} = {cate_mse}')\n",
    "    print(f'MAE in {ts_config.pred_features[idx]} = {cate_mae}')\n",
    "    print(f'R2 score in {ts_config.pred_features[idx]} = {cate_rsqr}')\n",
    "print(bidir_result)\n",
    "with open(f'save/BiLSTM_Time/results_bidir.pkl', mode= 'wb') as writer:\n",
    "    pickle.dump(bidir_result, writer)\n",
    "writer.close()\n"
   ]
  },
  {
   "cell_type": "code",
   "execution_count": null,
   "id": "7dfaa936",
   "metadata": {},
   "outputs": [],
   "source": []
  }
 ],
 "metadata": {
  "kernelspec": {
   "display_name": "Python 3",
   "language": "python",
   "name": "python3"
  },
  "language_info": {
   "codemirror_mode": {
    "name": "ipython",
    "version": 3
   },
   "file_extension": ".py",
   "mimetype": "text/x-python",
   "name": "python",
   "nbconvert_exporter": "python",
   "pygments_lexer": "ipython3",
   "version": "3.11.1"
  },
  "vscode": {
   "interpreter": {
    "hash": "5ffd7eb2cebf9ac436b5021ba01877e9cee6b03524e01bf8c8637d3e64111215"
   }
  }
 },
 "nbformat": 4,
 "nbformat_minor": 5
}
