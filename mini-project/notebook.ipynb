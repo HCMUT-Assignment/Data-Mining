{
 "cells": [
  {
   "cell_type": "code",
   "execution_count": 1,
   "id": "6921e5f7-5812-4503-a7fc-6e72c8d0a921",
   "metadata": {
    "tags": []
   },
   "outputs": [
    {
     "name": "stdout",
     "output_type": "stream",
     "text": [
      "Requirement already satisfied: plotly in /home/quangng/miniconda3/envs/dm/lib/python3.9/site-packages (5.14.1)\n",
      "Requirement already satisfied: packaging in /home/quangng/miniconda3/envs/dm/lib/python3.9/site-packages (from plotly) (23.0)\n",
      "Requirement already satisfied: tenacity>=6.2.0 in /home/quangng/miniconda3/envs/dm/lib/python3.9/site-packages (from plotly) (8.2.2)\n"
     ]
    }
   ],
   "source": [
    "import numpy as np\n",
    "import matplotlib.pyplot as plt\n",
    "import torch\n",
    "import torch.nn as nn\n",
    "import pandas as pd\n",
    "\n",
    "! pip install plotly\n",
    "import plotly.graph_objects as go\n",
    "import plotly.express as px\n",
    "from plotly.subplots import make_subplots"
   ]
  },
  {
   "cell_type": "code",
   "execution_count": 2,
   "id": "b1d40a96-c6a5-498d-a176-3b8326370108",
   "metadata": {},
   "outputs": [],
   "source": [
    "PATH = 'data_preprocess.csv'"
   ]
  },
  {
   "cell_type": "markdown",
   "id": "3077e098-336c-46ed-968a-6e56bd743c3d",
   "metadata": {
    "tags": []
   },
   "source": [
    "## Preprocessing"
   ]
  },
  {
   "cell_type": "code",
   "execution_count": 2,
   "id": "2281b7d1-7733-40be-9a9c-077b3b6bac8e",
   "metadata": {
    "tags": []
   },
   "outputs": [
    {
     "ename": "NameError",
     "evalue": "name 'PATH' is not defined",
     "output_type": "error",
     "traceback": [
      "\u001b[0;31m---------------------------------------------------------------------------\u001b[0m",
      "\u001b[0;31mNameError\u001b[0m                                 Traceback (most recent call last)",
      "Cell \u001b[0;32mIn[2], line 1\u001b[0m\n\u001b[0;32m----> 1\u001b[0m sp500 \u001b[39m=\u001b[39m pd\u001b[39m.\u001b[39mread_csv(PATH)\n",
      "\u001b[0;31mNameError\u001b[0m: name 'PATH' is not defined"
     ]
    }
   ],
   "source": [
    "sp500 = pd.read_csv(PATH)"
   ]
  },
  {
   "cell_type": "code",
   "execution_count": 4,
   "id": "f43bc102-111d-40df-bade-0b43cd812927",
   "metadata": {
    "tags": []
   },
   "outputs": [
    {
     "data": {
      "text/plain": [
       "Unnamed: 0      0\n",
       "time            0\n",
       "open            0\n",
       "high            0\n",
       "low             0\n",
       "close           0\n",
       "Volume          0\n",
       "Volume MA       0\n",
       "MA              0\n",
       "Histogram       0\n",
       "MACD            0\n",
       "Signal          0\n",
       "RSI             0\n",
       "RSI-based MA    0\n",
       "dtype: int64"
      ]
     },
     "execution_count": 4,
     "metadata": {},
     "output_type": "execute_result"
    }
   ],
   "source": [
    "# Checking null\n",
    "sp500.isnull().sum()"
   ]
  },
  {
   "cell_type": "code",
   "execution_count": 5,
   "id": "068bb4d3-7ab3-424e-ab51-972bbfae12c5",
   "metadata": {
    "tags": []
   },
   "outputs": [
    {
     "data": {
      "text/plain": [
       "Unnamed: 0      0\n",
       "time            0\n",
       "open            0\n",
       "high            0\n",
       "low             0\n",
       "close           0\n",
       "Volume          0\n",
       "Volume MA       0\n",
       "MA              0\n",
       "Histogram       0\n",
       "MACD            0\n",
       "Signal          0\n",
       "RSI             0\n",
       "RSI-based MA    0\n",
       "dtype: int64"
      ]
     },
     "execution_count": 5,
     "metadata": {},
     "output_type": "execute_result"
    }
   ],
   "source": [
    "#  Checking nan\n",
    "sp500.isna().sum()"
   ]
  },
  {
   "cell_type": "code",
   "execution_count": 6,
   "id": "a237b3f7-f4b6-4b01-9f4a-e9d7fd1dbe9a",
   "metadata": {
    "tags": []
   },
   "outputs": [
    {
     "data": {
      "text/plain": [
       "Unnamed: 0      False\n",
       "time            False\n",
       "open            False\n",
       "high            False\n",
       "low             False\n",
       "close           False\n",
       "Volume          False\n",
       "Volume MA       False\n",
       "MA              False\n",
       "Histogram       False\n",
       "MACD            False\n",
       "Signal          False\n",
       "RSI             False\n",
       "RSI-based MA    False\n",
       "dtype: bool"
      ]
     },
     "execution_count": 6,
     "metadata": {},
     "output_type": "execute_result"
    }
   ],
   "source": [
    "#  Dropnan\n",
    "sp500.dropna(inplace = True)\n",
    "sp500.isna().any()"
   ]
  },
  {
   "cell_type": "code",
   "execution_count": 7,
   "id": "2b09d316-91b5-4f0c-834a-8f012131416f",
   "metadata": {
    "tags": []
   },
   "outputs": [],
   "source": [
    "sp500['time'] = pd.to_datetime(sp500.time)"
   ]
  },
  {
   "cell_type": "code",
   "execution_count": 8,
   "id": "b28eb4ff-c81b-4153-ad98-08bd6698b3e8",
   "metadata": {
    "tags": []
   },
   "outputs": [
    {
     "data": {
      "text/plain": [
       "(20743, 14)"
      ]
     },
     "execution_count": 8,
     "metadata": {},
     "output_type": "execute_result"
    }
   ],
   "source": [
    "sp500.shape"
   ]
  },
  {
   "cell_type": "code",
   "execution_count": null,
   "id": "593bd583",
   "metadata": {},
   "outputs": [],
   "source": []
  },
  {
   "cell_type": "markdown",
   "id": "80264387-e6c2-4aac-afe8-fdc59d63519a",
   "metadata": {},
   "source": [
    "### Data Exploration"
   ]
  },
  {
   "cell_type": "code",
   "execution_count": null,
   "id": "9382b54c-b4f8-44ed-811c-4ee8f292172f",
   "metadata": {
    "tags": []
   },
   "outputs": [
    {
     "name": "stdout",
     "output_type": "stream",
     "text": [
      "Starting date:  88\n",
      "Ending date:  20830\n",
      "Duration:  20742\n"
     ]
    }
   ],
   "source": [
    "#group 7 days into a group to predict the next day\n",
    "print(\"Starting date: \",sp500.iloc[0][0])\n",
    "print(\"Ending date: \", sp500.iloc[-1][0])\n",
    "print(\"Duration: \", sp500.iloc[-1][0]-sp500.iloc[0][0])"
   ]
  },
  {
   "cell_type": "code",
   "execution_count": 10,
   "id": "caaec5e7-e051-4902-93dc-1f56403d0754",
   "metadata": {
    "tags": []
   },
   "outputs": [],
   "source": [
    "# sp500.to_csv('data_preprocess.csv')"
   ]
  },
  {
   "attachments": {},
   "cell_type": "markdown",
   "id": "486fa0d4-1516-4ab6-a1ed-e6458ad251cd",
   "metadata": {},
   "source": [
    "## Machine Learning"
   ]
  },
  {
   "cell_type": "code",
   "execution_count": 10,
   "id": "4bf74f40-fc9c-4378-a7d4-bcdb81f6c510",
   "metadata": {
    "tags": []
   },
   "outputs": [],
   "source": [
    "from utils.utils import create_data_train, read_csv\n",
    "from configs.config import *\n",
    "from utils.preprocess import Preprocessing\n",
    "from sklearn.metrics import mean_squared_error, mean_absolute_error, r2_score "
   ]
  },
  {
   "cell_type": "code",
   "execution_count": 11,
   "id": "b36f425f-d157-4c45-b956-2467aebcd564",
   "metadata": {
    "tags": []
   },
   "outputs": [
    {
     "name": "stdout",
     "output_type": "stream",
     "text": [
      "data_preprocess.csv\n"
     ]
    }
   ],
   "source": [
    "path = 'data_preprocess.csv'\n",
    "ts_config = TSConfig()\n",
    "frame = read_csv(path, ts_config.train_features, ts_config.pred_features, return_np = True)\n",
    "preprocess = Preprocessing()\n",
    "ML = True"
   ]
  },
  {
   "cell_type": "code",
   "execution_count": 12,
   "id": "a1e42930-f4f8-431c-a64e-07c7cd0d7b95",
   "metadata": {
    "tags": []
   },
   "outputs": [],
   "source": [
    "feature = frame['feature']\n",
    "target = frame['target']"
   ]
  },
  {
   "cell_type": "code",
   "execution_count": 13,
   "id": "b42b1199",
   "metadata": {},
   "outputs": [
    {
     "data": {
      "text/plain": [
       "(20743, 5)"
      ]
     },
     "execution_count": 13,
     "metadata": {},
     "output_type": "execute_result"
    }
   ],
   "source": [
    "target.shape"
   ]
  },
  {
   "cell_type": "code",
   "execution_count": 14,
   "id": "4ef21f43",
   "metadata": {},
   "outputs": [],
   "source": [
    "#   Scaling data\n",
    "feature, (feature_max_scale, feature_min_scale) = preprocess.apply_minmax_scale(feature)"
   ]
  },
  {
   "cell_type": "code",
   "execution_count": 15,
   "id": "ee7f1d83",
   "metadata": {},
   "outputs": [],
   "source": [
    "target, (target_max_scale, target_min_scale) = preprocess.apply_minmax_scale(target)"
   ]
  },
  {
   "cell_type": "code",
   "execution_count": 16,
   "id": "6f3a1b46-c294-400a-92d0-e7042e8d355d",
   "metadata": {
    "tags": []
   },
   "outputs": [],
   "source": [
    "train_test_ratio = 0.8\n",
    "seq_steps        = 7"
   ]
  },
  {
   "cell_type": "code",
   "execution_count": 17,
   "id": "4d34a92a-e656-42f0-a8b4-e71bbcaadd10",
   "metadata": {
    "tags": []
   },
   "outputs": [],
   "source": [
    "X, Y = create_data_train(feature, target, seq_steps)\n",
    "if ML:\n",
    "    X = X.detach().cpu().numpy()\n",
    "    Y = Y.detach().cpu().numpy()"
   ]
  },
  {
   "cell_type": "code",
   "execution_count": 18,
   "id": "cc6b758c-b527-4287-84b5-8e132b1659a5",
   "metadata": {
    "tags": []
   },
   "outputs": [],
   "source": [
    "split_idx = int(X.shape[0] * train_test_ratio)\n"
   ]
  },
  {
   "cell_type": "code",
   "execution_count": 19,
   "id": "50b5201a-38e6-46dd-b81e-6c544da4d889",
   "metadata": {
    "tags": []
   },
   "outputs": [
    {
     "name": "stdout",
     "output_type": "stream",
     "text": [
      "(16587, 5) (4147, 5)\n"
     ]
    }
   ],
   "source": [
    "#   Predict high\n",
    "x_train, y_train = X[:split_idx, :, :], Y[:split_idx, :]\n",
    "x_test, y_test   = X[split_idx:, :, :], Y[split_idx:, :]\n",
    "\n",
    "print(y_train.shape, y_test.shape)"
   ]
  },
  {
   "cell_type": "code",
   "execution_count": 20,
   "id": "721ce81e-82be-4a41-a4e2-54ede283ef3f",
   "metadata": {
    "tags": []
   },
   "outputs": [
    {
     "name": "stdout",
     "output_type": "stream",
     "text": [
      "Number of traning samples = 16587\n",
      "Number of testing samples = 4147\n",
      "(16587, 7, 12)\n"
     ]
    }
   ],
   "source": [
    "print(f'Number of traning samples = {x_train.shape[0]}\\nNumber of testing samples = {y_test.shape[0]}')\n",
    "print(x_train.shape)"
   ]
  },
  {
   "cell_type": "code",
   "execution_count": 21,
   "id": "17341aae",
   "metadata": {},
   "outputs": [],
   "source": [
    "def max_min_inverse(inp, max_scale, min_scale):\n",
    "    print(max_scale)\n",
    "    return (inp * (max_scale - min_scale)) + min_scale"
   ]
  },
  {
   "cell_type": "code",
   "execution_count": 22,
   "id": "ab99bd86",
   "metadata": {},
   "outputs": [
    {
     "ename": "IndexError",
     "evalue": "index 8 is out of bounds for axis 1 with size 5",
     "output_type": "error",
     "traceback": [
      "\u001b[0;31m---------------------------------------------------------------------------\u001b[0m",
      "\u001b[0;31mIndexError\u001b[0m                                Traceback (most recent call last)",
      "Cell \u001b[0;32mIn[22], line 19\u001b[0m\n\u001b[1;32m     17\u001b[0m x_train_ml \u001b[39m=\u001b[39m x_train[:, :, category]\n\u001b[1;32m     18\u001b[0m x_test_ml \u001b[39m=\u001b[39m x_test[:, :, category]\n\u001b[0;32m---> 19\u001b[0m y_train_ml \u001b[39m=\u001b[39m y_train[:, category]\n\u001b[1;32m     20\u001b[0m y_test_ml  \u001b[39m=\u001b[39m y_test[:,category]\n\u001b[1;32m     22\u001b[0m \u001b[39mprint\u001b[39m(\u001b[39mf\u001b[39m\u001b[39m'\u001b[39m\u001b[39mFeature selection = \u001b[39m\u001b[39m{\u001b[39;00mts_config\u001b[39m.\u001b[39mpred_features[category]\u001b[39m}\u001b[39;00m\u001b[39m'\u001b[39m)\n",
      "\u001b[0;31mIndexError\u001b[0m: index 8 is out of bounds for axis 1 with size 5"
     ]
    }
   ],
   "source": [
    "#   Predict categories\n",
    "\"\"\"\n",
    "'high': 0\n",
    "'low': 1\n",
    "'MA:   2\n",
    "'MACD': 3\n",
    "'open': 4\n",
    "'close': 5\n",
    "'Volume': 6\n",
    "'Volume MA': 7\n",
    "'MA': 8\n",
    "'Histogram': 9\n",
    "'MACD': 10\n",
    "'Signal': 11\n",
    "\"\"\"\n",
    "category = 8\n",
    "x_train_ml = x_train[:, :, category]\n",
    "x_test_ml = x_test[:, :, category]\n",
    "y_train_ml = y_train[:, category]\n",
    "y_test_ml  = y_test[:,category]\n",
    "\n",
    "print(f'Feature selection = {ts_config.pred_features[category]}')\n",
    "print(f'Train shape: {x_train_ml.shape}, {y_train_ml.shape}\\nTest shape: {x_test_ml.shape}, {y_test_ml.shape}')"
   ]
  },
  {
   "attachments": {},
   "cell_type": "markdown",
   "id": "f62d9b5c-b42b-48fb-a38a-c44def9cbdaa",
   "metadata": {},
   "source": [
    "### Support Vector Regressor"
   ]
  },
  {
   "cell_type": "code",
   "execution_count": 67,
   "id": "d92c8354-e776-485c-b809-5a412ed26859",
   "metadata": {
    "tags": []
   },
   "outputs": [],
   "source": [
    "from sklearn.svm import SVR\n",
    "from configs.config import BASEDIR\n",
    "import pickle"
   ]
  },
  {
   "cell_type": "code",
   "execution_count": 55,
   "id": "f6eb1892-b553-4cb5-9276-77ccea148658",
   "metadata": {
    "tags": []
   },
   "outputs": [],
   "source": [
    "def evaluate_SVR(x_train, y_train, x_test, y_test, C, gamma, category):\n",
    "    svr_rbf = SVR(kernel = 'rbf', C= 1e2, gamma= 0.1)\n",
    "    svr_rbf.fit(x_train, y_train)\n",
    "\n",
    "    train_predict=svr_rbf.predict(x_train)\n",
    "    test_predict=svr_rbf.predict(x_test)\n",
    "\n",
    "    y_test_rescale = max_min_inverse(y_test, target_max_scale[:, category], target_min_scale[:, category])\n",
    "    pred_rescale   = max_min_inverse(test_predict, target_max_scale[:, category], target_min_scale[:, category])\n",
    "\n",
    "    train_predict = train_predict.reshape(-1,1)\n",
    "    test_predict = test_predict.reshape(-1,1)\n",
    "    \n",
    "    mean_sqr_err = mean_squared_error(y_test_rescale, pred_rescale)\n",
    "    mean_abs_err = mean_absolute_error(y_test_rescale, pred_rescale)\n",
    "    r_square     = r2_score(y_test_rescale, pred_rescale)\n",
    "    print(\"Train data prediction:\", train_predict.shape)\n",
    "    print(\"Test data prediction:\", test_predict.shape)\n",
    "    print(f'Prediction of {ts_config.pred_features[category]}')\n",
    "    print(f'MAE = {mean_abs_err}\\nMSE = {mean_sqr_err}\\nR square = {r_square}')\n",
    "\n",
    "    results = {\n",
    "        'prediction_' + ts_config.pred_features[category]: pred_rescale,\n",
    "        'ground_truth': y_test_rescale,\n",
    "        'MSE': mean_sqr_err,\n",
    "        'MAE': mean_abs_err,\n",
    "        'R2': r_square,\n",
    "        'RMSE': np.sqrt(mean_sqr_err)\n",
    "    }\n",
    "\n",
    "    print(results)\n",
    "    save_pkl_path = BASEDIR / f'save/SVR_{ts_config.pred_features[category]}.pkl'\n",
    "    with open(save_pkl_path, mode=  'wb') as writer:\n",
    "        pickle.dump(results, writer)\n",
    "    writer.close()"
   ]
  },
  {
   "cell_type": "code",
   "execution_count": null,
   "id": "3ef8eaf9-0a65-4e9a-bf8e-3ff3309a105a",
   "metadata": {
    "tags": []
   },
   "outputs": [],
   "source": [
    "evaluate_SVR(x_train_ml, y_train_ml, x_test_ml, y_test_ml, 1e2, 1e-1, category)"
   ]
  },
  {
   "attachments": {},
   "cell_type": "markdown",
   "id": "ceb206e4",
   "metadata": {},
   "source": [
    "### Random Forest"
   ]
  },
  {
   "cell_type": "code",
   "execution_count": 23,
   "id": "daaa033b",
   "metadata": {},
   "outputs": [],
   "source": [
    "from sklearn.ensemble import RandomForestRegressor\n",
    "import pickle"
   ]
  },
  {
   "cell_type": "code",
   "execution_count": 24,
   "id": "c8254a06-05c6-4ed5-a479-4c2f046812bf",
   "metadata": {},
   "outputs": [],
   "source": [
    "def evaluate_randomfr(x_train, y_train, x_test, y_test, C, gamma, category):\n",
    "\n",
    "\n",
    "    regressor = RandomForestRegressor(n_estimators = 100, random_state = 0)\n",
    "    regressor.fit(x_train, y_train)\n",
    "\n",
    "    train_predict=regressor.predict(x_train)\n",
    "    test_predict=regressor.predict(x_test)\n",
    "\n",
    "    y_test_rescale = max_min_inverse(y_test, target_max_scale[:, category], target_min_scale[:, category])\n",
    "    pred_rescale   = max_min_inverse(test_predict, target_max_scale[:, category], target_min_scale[:, category])\n",
    "\n",
    "    train_predict = train_predict.reshape(-1,1)\n",
    "    test_predict = test_predict.reshape(-1,1)\n",
    "    \n",
    "    mean_sqr_err = mean_squared_error(y_test_rescale, pred_rescale)\n",
    "    mean_abs_err = mean_absolute_error(y_test_rescale, pred_rescale)\n",
    "    r_square     = r2_score(y_test_rescale, pred_rescale)\n",
    "    print(\"Train data prediction:\", train_predict.shape)\n",
    "    print(\"Test data prediction:\", test_predict.shape)\n",
    "    print(f'Prediction of {ts_config.pred_features[category]}')\n",
    "    print(f'MAE = {mean_abs_err}\\nMSE = {mean_sqr_err}\\nR square = {r_square}')\n",
    "\n",
    "    results = {\n",
    "        'prediction_' + ts_config.pred_features[category]: pred_rescale,\n",
    "        'ground_truth': y_test_rescale,\n",
    "        'MSE': mean_sqr_err,\n",
    "        'MAE': mean_abs_err,\n",
    "        'R2': r_square,\n",
    "        'RMSE': np.sqrt(mean_sqr_err)\n",
    "    }\n",
    "\n",
    "    print(results)\n",
    "    save_pkl_path = BASEDIR / f'save/RandomF/rfr_{ts_config.pred_features[category]}.pkl'\n",
    "    with open(save_pkl_path, mode=  'wb') as writer:\n",
    "        pickle.dump(results, writer)\n",
    "    writer.close()"
   ]
  },
  {
   "cell_type": "code",
   "execution_count": 25,
   "id": "46fff9f3",
   "metadata": {},
   "outputs": [
    {
     "name": "stdout",
     "output_type": "stream",
     "text": [
      "[4749.065393]\n",
      "[4749.065393]\n",
      "Train data prediction: (16587, 1)\n",
      "Test data prediction: (4147, 1)\n",
      "Prediction of MA\n",
      "MAE = 578.3874233819076\n",
      "MSE = 424932.8017719182\n",
      "R square = -3.700542999875011\n",
      "{'prediction_MA': array([3560.30940787, 3560.30940787, 3560.30940787, ..., 3560.30940787,\n",
      "       3560.30940787, 3560.30940787]), 'ground_truth': array([3562.29623436, 3563.2345051 , 3564.23918094, ..., 4001.32070697,\n",
      "       4002.93473328, 4004.43386442]), 'MSE': 424932.8017719182, 'MAE': 578.3874233819076, 'R2': -3.700542999875011, 'RMSE': 651.8686997946122}\n"
     ]
    }
   ],
   "source": [
    "evaluate_randomfr(x_train_ml, y_train_ml, x_test_ml, y_test_ml, 1e2, 1e-1, category)"
   ]
  },
  {
   "attachments": {},
   "cell_type": "markdown",
   "id": "f3d97b5f",
   "metadata": {},
   "source": [
    "### ARIMA"
   ]
  },
  {
   "cell_type": "code",
   "execution_count": 3,
   "id": "386aadb4",
   "metadata": {},
   "outputs": [],
   "source": [
    "from statsmodels.tsa.arima_model import ARIMA"
   ]
  },
  {
   "cell_type": "code",
   "execution_count": null,
   "id": "3d136eec",
   "metadata": {},
   "outputs": [],
   "source": []
  },
  {
   "cell_type": "code",
   "execution_count": null,
   "id": "a286e19c",
   "metadata": {},
   "outputs": [],
   "source": []
  },
  {
   "attachments": {},
   "cell_type": "markdown",
   "id": "5454267a",
   "metadata": {},
   "source": [
    "## Stacked LSTM"
   ]
  },
  {
   "cell_type": "code",
   "execution_count": 55,
   "id": "ddfd79c9",
   "metadata": {},
   "outputs": [],
   "source": [
    "import tensorflow as tf \n",
    "from tensorflow.keras.layers import LSTM, Dense, GRU\n",
    "from tensorflow.keras import Sequential"
   ]
  },
  {
   "cell_type": "code",
   "execution_count": 40,
   "id": "063030ee",
   "metadata": {},
   "outputs": [],
   "source": [
    "tf.keras.backend.clear_session()\n",
    "model=Sequential()\n",
    "model.add(LSTM(16,return_sequences=True,input_shape=(ts_config.n_steps, ts_config.n_features)))\n",
    "model.add(LSTM(16))\n",
    "model.add(Dense(ts_config.n_classes))\n",
    "model.compile(loss='mean_squared_error',optimizer='adam')"
   ]
  },
  {
   "cell_type": "code",
   "execution_count": 41,
   "id": "868eeca6",
   "metadata": {},
   "outputs": [
    {
     "name": "stdout",
     "output_type": "stream",
     "text": [
      "Model: \"sequential\"\n",
      "_________________________________________________________________\n",
      " Layer (type)                Output Shape              Param #   \n",
      "=================================================================\n",
      " lstm (LSTM)                 (None, 7, 16)             1856      \n",
      "                                                                 \n",
      " lstm_1 (LSTM)               (None, 16)                2112      \n",
      "                                                                 \n",
      " dense (Dense)               (None, 5)                 85        \n",
      "                                                                 \n",
      "=================================================================\n",
      "Total params: 4,053\n",
      "Trainable params: 4,053\n",
      "Non-trainable params: 0\n",
      "_________________________________________________________________\n"
     ]
    }
   ],
   "source": [
    "model.summary()"
   ]
  },
  {
   "cell_type": "code",
   "execution_count": 42,
   "id": "da2e0438",
   "metadata": {},
   "outputs": [
    {
     "name": "stdout",
     "output_type": "stream",
     "text": [
      "Train samples: (16587, 7, 12) -- Test samples: (4147, 7, 12)\n",
      "Train targets: (16587, 5) -- Test targets: (4147, 5)\n"
     ]
    }
   ],
   "source": [
    "x_train_dl = X[:split_idx, :, :]\n",
    "y_train_dl = Y[:split_idx, :]\n",
    "x_test_dl  = X[split_idx: , :, :]\n",
    "y_test_dl  = Y[split_idx:, :]\n",
    "\n",
    "print(f'Train samples: {x_train_dl.shape} -- Test samples: {x_test_dl.shape}')\n",
    "print(f'Train targets: {y_train_dl.shape} -- Test targets: {y_test_dl.shape}')"
   ]
  },
  {
   "cell_type": "code",
   "execution_count": 43,
   "id": "7b558971",
   "metadata": {},
   "outputs": [
    {
     "name": "stdout",
     "output_type": "stream",
     "text": [
      "Epoch 1/100\n",
      "33/33 [==============================] - 4s 31ms/step - loss: 0.0646 - val_loss: 0.1348\n",
      "Epoch 2/100\n",
      "33/33 [==============================] - 0s 15ms/step - loss: 0.0099 - val_loss: 0.0616\n",
      "Epoch 3/100\n",
      "33/33 [==============================] - 0s 15ms/step - loss: 0.0018 - val_loss: 0.0185\n",
      "Epoch 4/100\n",
      "33/33 [==============================] - 0s 14ms/step - loss: 4.1589e-04 - val_loss: 0.0157\n",
      "Epoch 5/100\n",
      "33/33 [==============================] - 0s 15ms/step - loss: 3.3926e-04 - val_loss: 0.0149\n",
      "Epoch 6/100\n",
      "33/33 [==============================] - 0s 15ms/step - loss: 2.9463e-04 - val_loss: 0.0143\n",
      "Epoch 7/100\n",
      "33/33 [==============================] - 0s 15ms/step - loss: 2.5846e-04 - val_loss: 0.0134\n",
      "Epoch 8/100\n",
      "33/33 [==============================] - 0s 15ms/step - loss: 2.2848e-04 - val_loss: 0.0128\n",
      "Epoch 9/100\n",
      "33/33 [==============================] - 0s 15ms/step - loss: 2.0333e-04 - val_loss: 0.0120\n",
      "Epoch 10/100\n",
      "33/33 [==============================] - 0s 14ms/step - loss: 1.8158e-04 - val_loss: 0.0112\n",
      "Epoch 11/100\n",
      "33/33 [==============================] - 0s 15ms/step - loss: 1.6377e-04 - val_loss: 0.0107\n",
      "Epoch 12/100\n",
      "33/33 [==============================] - 0s 14ms/step - loss: 1.4823e-04 - val_loss: 0.0103\n",
      "Epoch 13/100\n",
      "33/33 [==============================] - 0s 15ms/step - loss: 1.3456e-04 - val_loss: 0.0098\n",
      "Epoch 14/100\n",
      "33/33 [==============================] - 0s 15ms/step - loss: 1.2305e-04 - val_loss: 0.0092\n",
      "Epoch 15/100\n",
      "33/33 [==============================] - 0s 14ms/step - loss: 1.1306e-04 - val_loss: 0.0090\n",
      "Epoch 16/100\n",
      "33/33 [==============================] - 0s 15ms/step - loss: 1.0437e-04 - val_loss: 0.0084\n",
      "Epoch 17/100\n",
      "33/33 [==============================] - 1s 15ms/step - loss: 9.7063e-05 - val_loss: 0.0083\n",
      "Epoch 18/100\n",
      "33/33 [==============================] - 0s 15ms/step - loss: 9.0452e-05 - val_loss: 0.0079\n",
      "Epoch 19/100\n",
      "33/33 [==============================] - 0s 15ms/step - loss: 8.4932e-05 - val_loss: 0.0076\n",
      "Epoch 20/100\n",
      "33/33 [==============================] - 0s 14ms/step - loss: 7.9880e-05 - val_loss: 0.0073\n",
      "Epoch 21/100\n",
      "33/33 [==============================] - 0s 14ms/step - loss: 7.5481e-05 - val_loss: 0.0071\n",
      "Epoch 22/100\n",
      "33/33 [==============================] - 0s 14ms/step - loss: 7.1548e-05 - val_loss: 0.0069\n",
      "Epoch 23/100\n",
      "33/33 [==============================] - 0s 14ms/step - loss: 6.8088e-05 - val_loss: 0.0068\n",
      "Epoch 24/100\n",
      "33/33 [==============================] - 0s 14ms/step - loss: 6.5259e-05 - val_loss: 0.0064\n",
      "Epoch 25/100\n",
      "33/33 [==============================] - 0s 13ms/step - loss: 6.2312e-05 - val_loss: 0.0064\n",
      "Epoch 26/100\n",
      "33/33 [==============================] - 0s 14ms/step - loss: 5.9445e-05 - val_loss: 0.0060\n",
      "Epoch 27/100\n",
      "33/33 [==============================] - 0s 15ms/step - loss: 5.6861e-05 - val_loss: 0.0059\n",
      "Epoch 28/100\n",
      "33/33 [==============================] - 0s 15ms/step - loss: 5.4482e-05 - val_loss: 0.0057\n",
      "Epoch 29/100\n",
      "33/33 [==============================] - 0s 15ms/step - loss: 5.2377e-05 - val_loss: 0.0056\n",
      "Epoch 30/100\n",
      "33/33 [==============================] - 0s 15ms/step - loss: 5.0299e-05 - val_loss: 0.0054\n",
      "Epoch 31/100\n",
      "33/33 [==============================] - 0s 15ms/step - loss: 4.8502e-05 - val_loss: 0.0054\n",
      "Epoch 32/100\n",
      "33/33 [==============================] - 1s 16ms/step - loss: 4.6674e-05 - val_loss: 0.0051\n",
      "Epoch 33/100\n",
      "33/33 [==============================] - 0s 15ms/step - loss: 4.5131e-05 - val_loss: 0.0049\n",
      "Epoch 34/100\n",
      "33/33 [==============================] - 0s 14ms/step - loss: 4.3286e-05 - val_loss: 0.0048\n",
      "Epoch 35/100\n",
      "33/33 [==============================] - 0s 15ms/step - loss: 4.1857e-05 - val_loss: 0.0047\n",
      "Epoch 36/100\n",
      "33/33 [==============================] - 0s 15ms/step - loss: 4.0407e-05 - val_loss: 0.0047\n",
      "Epoch 37/100\n",
      "33/33 [==============================] - 0s 15ms/step - loss: 3.8964e-05 - val_loss: 0.0045\n",
      "Epoch 38/100\n",
      "33/33 [==============================] - 0s 14ms/step - loss: 3.7423e-05 - val_loss: 0.0043\n",
      "Epoch 39/100\n",
      "33/33 [==============================] - 0s 15ms/step - loss: 3.6394e-05 - val_loss: 0.0042\n",
      "Epoch 40/100\n",
      "33/33 [==============================] - 0s 15ms/step - loss: 3.5023e-05 - val_loss: 0.0042\n",
      "Epoch 41/100\n",
      "33/33 [==============================] - 0s 14ms/step - loss: 3.3752e-05 - val_loss: 0.0041\n",
      "Epoch 42/100\n",
      "33/33 [==============================] - 0s 14ms/step - loss: 3.2756e-05 - val_loss: 0.0040\n",
      "Epoch 43/100\n",
      "33/33 [==============================] - 0s 15ms/step - loss: 3.1579e-05 - val_loss: 0.0039\n",
      "Epoch 44/100\n",
      "33/33 [==============================] - 1s 15ms/step - loss: 3.0610e-05 - val_loss: 0.0037\n",
      "Epoch 45/100\n",
      "33/33 [==============================] - 1s 15ms/step - loss: 2.9592e-05 - val_loss: 0.0036\n",
      "Epoch 46/100\n",
      "33/33 [==============================] - 1s 15ms/step - loss: 2.8613e-05 - val_loss: 0.0036\n",
      "Epoch 47/100\n",
      "33/33 [==============================] - 1s 16ms/step - loss: 2.7724e-05 - val_loss: 0.0034\n",
      "Epoch 48/100\n",
      "33/33 [==============================] - 0s 15ms/step - loss: 2.6824e-05 - val_loss: 0.0034\n",
      "Epoch 49/100\n",
      "33/33 [==============================] - 0s 15ms/step - loss: 2.5982e-05 - val_loss: 0.0033\n",
      "Epoch 50/100\n",
      "33/33 [==============================] - 0s 15ms/step - loss: 2.5200e-05 - val_loss: 0.0033\n",
      "Epoch 51/100\n",
      "33/33 [==============================] - 0s 15ms/step - loss: 2.4787e-05 - val_loss: 0.0032\n",
      "Epoch 52/100\n",
      "33/33 [==============================] - 0s 15ms/step - loss: 2.3859e-05 - val_loss: 0.0030\n",
      "Epoch 53/100\n",
      "33/33 [==============================] - 0s 15ms/step - loss: 2.3061e-05 - val_loss: 0.0031\n",
      "Epoch 54/100\n",
      "33/33 [==============================] - 0s 15ms/step - loss: 2.2462e-05 - val_loss: 0.0029\n",
      "Epoch 55/100\n",
      "33/33 [==============================] - 0s 14ms/step - loss: 2.1813e-05 - val_loss: 0.0030\n",
      "Epoch 56/100\n",
      "33/33 [==============================] - 0s 15ms/step - loss: 2.1443e-05 - val_loss: 0.0029\n",
      "Epoch 57/100\n",
      "33/33 [==============================] - 0s 15ms/step - loss: 2.0835e-05 - val_loss: 0.0028\n",
      "Epoch 58/100\n",
      "33/33 [==============================] - 0s 14ms/step - loss: 2.0434e-05 - val_loss: 0.0028\n",
      "Epoch 59/100\n",
      "33/33 [==============================] - 0s 15ms/step - loss: 1.9664e-05 - val_loss: 0.0027\n",
      "Epoch 60/100\n",
      "33/33 [==============================] - 1s 15ms/step - loss: 1.9371e-05 - val_loss: 0.0027\n",
      "Epoch 61/100\n",
      "33/33 [==============================] - 0s 15ms/step - loss: 1.8924e-05 - val_loss: 0.0027\n",
      "Epoch 62/100\n",
      "33/33 [==============================] - 0s 15ms/step - loss: 1.8554e-05 - val_loss: 0.0027\n",
      "Epoch 63/100\n",
      "33/33 [==============================] - 0s 15ms/step - loss: 1.8146e-05 - val_loss: 0.0026\n",
      "Epoch 64/100\n",
      "33/33 [==============================] - 0s 15ms/step - loss: 1.8270e-05 - val_loss: 0.0027\n",
      "Epoch 65/100\n",
      "33/33 [==============================] - 0s 15ms/step - loss: 1.7312e-05 - val_loss: 0.0026\n",
      "Epoch 66/100\n",
      "33/33 [==============================] - 0s 15ms/step - loss: 1.7131e-05 - val_loss: 0.0026\n",
      "Epoch 67/100\n",
      "33/33 [==============================] - 0s 15ms/step - loss: 1.6766e-05 - val_loss: 0.0025\n",
      "Epoch 68/100\n",
      "33/33 [==============================] - 0s 15ms/step - loss: 1.6469e-05 - val_loss: 0.0026\n",
      "Epoch 69/100\n",
      "33/33 [==============================] - 0s 15ms/step - loss: 1.6150e-05 - val_loss: 0.0026\n",
      "Epoch 70/100\n",
      "33/33 [==============================] - 0s 15ms/step - loss: 1.5864e-05 - val_loss: 0.0026\n",
      "Epoch 71/100\n",
      "33/33 [==============================] - 0s 15ms/step - loss: 1.5852e-05 - val_loss: 0.0025\n",
      "Epoch 72/100\n",
      "33/33 [==============================] - 0s 14ms/step - loss: 1.5478e-05 - val_loss: 0.0025\n",
      "Epoch 73/100\n",
      "33/33 [==============================] - 0s 15ms/step - loss: 1.5381e-05 - val_loss: 0.0026\n",
      "Epoch 74/100\n",
      "33/33 [==============================] - 0s 15ms/step - loss: 1.5014e-05 - val_loss: 0.0026\n",
      "Epoch 75/100\n",
      "33/33 [==============================] - 0s 14ms/step - loss: 1.5016e-05 - val_loss: 0.0026\n",
      "Epoch 76/100\n",
      "33/33 [==============================] - 0s 14ms/step - loss: 1.5016e-05 - val_loss: 0.0025\n",
      "Epoch 77/100\n",
      "33/33 [==============================] - 0s 14ms/step - loss: 1.4565e-05 - val_loss: 0.0025\n",
      "Epoch 78/100\n",
      "33/33 [==============================] - 0s 14ms/step - loss: 1.4503e-05 - val_loss: 0.0025\n",
      "Epoch 79/100\n",
      "33/33 [==============================] - 0s 14ms/step - loss: 1.4087e-05 - val_loss: 0.0025\n",
      "Epoch 80/100\n",
      "33/33 [==============================] - 0s 14ms/step - loss: 1.4044e-05 - val_loss: 0.0026\n",
      "Epoch 81/100\n",
      "33/33 [==============================] - 0s 14ms/step - loss: 1.4123e-05 - val_loss: 0.0026\n",
      "Epoch 82/100\n",
      "33/33 [==============================] - 0s 14ms/step - loss: 1.3886e-05 - val_loss: 0.0024\n",
      "Epoch 83/100\n",
      "33/33 [==============================] - 0s 14ms/step - loss: 1.3731e-05 - val_loss: 0.0026\n",
      "Epoch 84/100\n",
      "33/33 [==============================] - 0s 14ms/step - loss: 1.3430e-05 - val_loss: 0.0024\n",
      "Epoch 85/100\n",
      "33/33 [==============================] - 0s 14ms/step - loss: 1.3440e-05 - val_loss: 0.0025\n",
      "Epoch 86/100\n",
      "33/33 [==============================] - 0s 14ms/step - loss: 1.3392e-05 - val_loss: 0.0026\n",
      "Epoch 87/100\n",
      "33/33 [==============================] - 0s 14ms/step - loss: 1.3195e-05 - val_loss: 0.0026\n",
      "Epoch 88/100\n",
      "33/33 [==============================] - 0s 14ms/step - loss: 1.3242e-05 - val_loss: 0.0024\n",
      "Epoch 89/100\n",
      "33/33 [==============================] - 0s 14ms/step - loss: 1.2863e-05 - val_loss: 0.0025\n",
      "Epoch 90/100\n",
      "33/33 [==============================] - 0s 14ms/step - loss: 1.2720e-05 - val_loss: 0.0027\n",
      "Epoch 91/100\n",
      "33/33 [==============================] - 0s 14ms/step - loss: 1.2757e-05 - val_loss: 0.0026\n",
      "Epoch 92/100\n",
      "33/33 [==============================] - 0s 15ms/step - loss: 1.2519e-05 - val_loss: 0.0025\n",
      "Epoch 93/100\n",
      "33/33 [==============================] - 0s 14ms/step - loss: 1.2686e-05 - val_loss: 0.0026\n",
      "Epoch 94/100\n",
      "33/33 [==============================] - 0s 14ms/step - loss: 1.2733e-05 - val_loss: 0.0026\n",
      "Epoch 95/100\n",
      "33/33 [==============================] - 0s 15ms/step - loss: 1.2482e-05 - val_loss: 0.0025\n",
      "Epoch 96/100\n",
      "33/33 [==============================] - 0s 14ms/step - loss: 1.2205e-05 - val_loss: 0.0026\n",
      "Epoch 97/100\n",
      "33/33 [==============================] - 0s 15ms/step - loss: 1.2119e-05 - val_loss: 0.0025\n",
      "Epoch 98/100\n",
      "33/33 [==============================] - 0s 15ms/step - loss: 1.2419e-05 - val_loss: 0.0027\n",
      "Epoch 99/100\n",
      "33/33 [==============================] - 0s 14ms/step - loss: 1.2386e-05 - val_loss: 0.0026\n",
      "Epoch 100/100\n",
      "33/33 [==============================] - 0s 14ms/step - loss: 1.1940e-05 - val_loss: 0.0025\n"
     ]
    }
   ],
   "source": [
    "model.fit(x_train_dl,y_train_dl,validation_data=(x_test_dl,y_test_dl),epochs=100,batch_size=512,verbose=1)\n",
    "model.save(f'save/StackedLSTM/ckpt/lstm.h5')"
   ]
  },
  {
   "cell_type": "markdown",
   "id": "6f8401ba",
   "metadata": {},
   "source": []
  },
  {
   "cell_type": "code",
   "execution_count": 45,
   "id": "ed8a6e1a",
   "metadata": {},
   "outputs": [
    {
     "name": "stdout",
     "output_type": "stream",
     "text": [
      "519/519 [==============================] - 2s 3ms/step\n",
      "130/130 [==============================] - 0s 3ms/step\n"
     ]
    },
    {
     "data": {
      "text/plain": [
       "((16587, 5), (4147, 5))"
      ]
     },
     "execution_count": 45,
     "metadata": {},
     "output_type": "execute_result"
    }
   ],
   "source": [
    "train_predict=model.predict(x_train_dl)\n",
    "test_predict=model.predict(x_test_dl)\n",
    "train_predict.shape, test_predict.shape"
   ]
  },
  {
   "cell_type": "code",
   "execution_count": 46,
   "id": "89fbdadd",
   "metadata": {},
   "outputs": [],
   "source": [
    "test_pred_scale = (test_predict * (target_max_scale - target_min_scale)) + target_min_scale"
   ]
  },
  {
   "cell_type": "code",
   "execution_count": 47,
   "id": "7bc10198",
   "metadata": {},
   "outputs": [],
   "source": [
    "y_test_scale = (y_test_dl * (target_max_scale - target_min_scale) + target_min_scale)"
   ]
  },
  {
   "cell_type": "code",
   "execution_count": 48,
   "id": "a1018638",
   "metadata": {},
   "outputs": [
    {
     "data": {
      "text/plain": [
       "42937.401091054024"
      ]
     },
     "execution_count": 48,
     "metadata": {},
     "output_type": "execute_result"
    }
   ],
   "source": [
    "mean_squared_error(y_test_scale, test_pred_scale)"
   ]
  },
  {
   "cell_type": "code",
   "execution_count": 49,
   "id": "1a76cb89",
   "metadata": {},
   "outputs": [
    {
     "data": {
      "text/plain": [
       "162.89064281141256"
      ]
     },
     "execution_count": 49,
     "metadata": {},
     "output_type": "execute_result"
    }
   ],
   "source": [
    "mean_absolute_error(y_test_scale, test_pred_scale)"
   ]
  },
  {
   "cell_type": "code",
   "execution_count": 50,
   "id": "76054381",
   "metadata": {},
   "outputs": [
    {
     "data": {
      "text/plain": [
       "0.5306049278057218"
      ]
     },
     "execution_count": 50,
     "metadata": {},
     "output_type": "execute_result"
    }
   ],
   "source": [
    "r2_score(y_test_scale, test_pred_scale)"
   ]
  },
  {
   "cell_type": "code",
   "execution_count": 51,
   "id": "719f105d",
   "metadata": {},
   "outputs": [],
   "source": [
    "import pickle"
   ]
  },
  {
   "cell_type": "code",
   "execution_count": 53,
   "id": "92a97e06",
   "metadata": {},
   "outputs": [
    {
     "name": "stdout",
     "output_type": "stream",
     "text": [
      "MSE in high = 12680.739956872714\n",
      "MAE in high = 94.24884140647791\n",
      "R2 score in high = 0.8607032903348253\n",
      "MSE in low = 40659.49873301695\n",
      "MAE in low = 177.31289558500674\n",
      "R2 score in low = 0.557618310880128\n",
      "MSE in MA = 11776.560149289335\n",
      "MAE in MA = 87.27457680103312\n",
      "R2 score in MA = 0.8697294557127144\n",
      "MSE in open = 39961.10743800331\n",
      "MAE in open = 171.76461569529098\n",
      "R2 score in open = 0.563397540957238\n",
      "MSE in close = 109609.09917808768\n",
      "MAE in close = 283.8522845692539\n",
      "R2 score in close = -0.19842395885629438\n",
      "{'high': [12680.739956872714, 94.24884140647791, 0.8607032903348253], 'low': [40659.49873301695, 177.31289558500674, 0.557618310880128], 'MA': [11776.560149289335, 87.27457680103312, 0.8697294557127144], 'open': [39961.10743800331, 171.76461569529098, 0.563397540957238], 'close': [109609.09917808768, 283.8522845692539, -0.19842395885629438]}\n"
     ]
    }
   ],
   "source": [
    "n_samples, n_fea = y_test_scale.shape\n",
    "lstm_res = dict()\n",
    "for idx, category in enumerate(ts_config.pred_features):\n",
    "    cate_mse = mean_squared_error(y_test_scale[:, idx], test_pred_scale[:, idx])\n",
    "    cate_mae = mean_absolute_error(y_test_scale[:, idx], test_pred_scale[:, idx])\n",
    "    cate_rsqr = r2_score(y_test_scale[:, idx], test_pred_scale[:, idx])\n",
    "\n",
    "    lstm_res[ts_config.pred_features[idx]] = [cate_mse, cate_mae, cate_rsqr]\n",
    "\n",
    "    print(f'MSE in {ts_config.pred_features[idx]} = {cate_mse}')\n",
    "    print(f'MAE in {ts_config.pred_features[idx]} = {cate_mae}')\n",
    "    print(f'R2 score in {ts_config.pred_features[idx]} = {cate_rsqr}')\n",
    "print(lstm_res)\n",
    "with open(f'save/StackedLSTM/results.pkl', mode= 'wb') as writer:\n",
    "    pickle.dump(lstm_res, writer)\n",
    "writer.close()\n"
   ]
  },
  {
   "cell_type": "code",
   "execution_count": 57,
   "id": "26e01619",
   "metadata": {},
   "outputs": [
    {
     "data": {
      "text/plain": [
       "(4147, 5)"
      ]
     },
     "execution_count": 57,
     "metadata": {},
     "output_type": "execute_result"
    }
   ],
   "source": [
    "y_test_scale.shape"
   ]
  },
  {
   "cell_type": "code",
   "execution_count": 48,
   "id": "3e98e07f",
   "metadata": {},
   "outputs": [
    {
     "data": {
      "text/plain": [
       "(4147, 5)"
      ]
     },
     "execution_count": 48,
     "metadata": {},
     "output_type": "execute_result"
    }
   ],
   "source": [
    "test_pred_scale.shape"
   ]
  },
  {
   "cell_type": "code",
   "execution_count": 51,
   "id": "8079cc5f",
   "metadata": {},
   "outputs": [
    {
     "data": {
      "text/plain": [
       "(4147,)"
      ]
     },
     "execution_count": 51,
     "metadata": {},
     "output_type": "execute_result"
    }
   ],
   "source": []
  },
  {
   "cell_type": "code",
   "execution_count": 52,
   "id": "b7db809a",
   "metadata": {},
   "outputs": [],
   "source": [
    "n_samples, n_fea = y_test_scale.shape"
   ]
  },
  {
   "cell_type": "code",
   "execution_count": 54,
   "id": "ce5b5e4f",
   "metadata": {},
   "outputs": [
    {
     "data": {
      "text/plain": [
       "(4147, 1)"
      ]
     },
     "execution_count": 54,
     "metadata": {},
     "output_type": "execute_result"
    }
   ],
   "source": [
    "y_test_scale[:, 1].reshape((n_samples, 1)).shape"
   ]
  },
  {
   "attachments": {},
   "cell_type": "markdown",
   "id": "414545e7",
   "metadata": {},
   "source": [
    "## Stacked GRU"
   ]
  },
  {
   "cell_type": "code",
   "execution_count": 56,
   "id": "fed471c4",
   "metadata": {},
   "outputs": [],
   "source": [
    "tf.keras.backend.clear_session()\n",
    "gru_model=Sequential()\n",
    "gru_model.add(GRU(16,return_sequences=True,input_shape=(ts_config.n_steps, ts_config.n_features)))\n",
    "gru_model.add(GRU(16))\n",
    "gru_model.add(Dense(ts_config.n_classes))\n",
    "gru_model.compile(loss='mean_squared_error',optimizer='adam')"
   ]
  },
  {
   "cell_type": "code",
   "execution_count": 57,
   "id": "aafabaa2",
   "metadata": {},
   "outputs": [
    {
     "name": "stdout",
     "output_type": "stream",
     "text": [
      "Model: \"sequential\"\n",
      "_________________________________________________________________\n",
      " Layer (type)                Output Shape              Param #   \n",
      "=================================================================\n",
      " gru (GRU)                   (None, 7, 16)             1440      \n",
      "                                                                 \n",
      " gru_1 (GRU)                 (None, 16)                1632      \n",
      "                                                                 \n",
      " dense (Dense)               (None, 5)                 85        \n",
      "                                                                 \n",
      "=================================================================\n",
      "Total params: 3,157\n",
      "Trainable params: 3,157\n",
      "Non-trainable params: 0\n",
      "_________________________________________________________________\n"
     ]
    }
   ],
   "source": [
    "gru_model.summary()"
   ]
  },
  {
   "cell_type": "code",
   "execution_count": 58,
   "id": "f254bc0b",
   "metadata": {},
   "outputs": [
    {
     "name": "stdout",
     "output_type": "stream",
     "text": [
      "Epoch 1/100\n",
      "33/33 [==============================] - 3s 27ms/step - loss: 0.0689 - val_loss: 0.0488\n",
      "Epoch 2/100\n",
      "33/33 [==============================] - 0s 13ms/step - loss: 0.0074 - val_loss: 0.0459\n",
      "Epoch 3/100\n",
      "33/33 [==============================] - 0s 14ms/step - loss: 0.0022 - val_loss: 0.0193\n",
      "Epoch 4/100\n",
      "33/33 [==============================] - 0s 13ms/step - loss: 5.1836e-04 - val_loss: 0.0103\n",
      "Epoch 5/100\n",
      "33/33 [==============================] - 0s 14ms/step - loss: 2.9041e-04 - val_loss: 0.0090\n",
      "Epoch 6/100\n",
      "33/33 [==============================] - 0s 13ms/step - loss: 2.4836e-04 - val_loss: 0.0087\n",
      "Epoch 7/100\n",
      "33/33 [==============================] - 0s 14ms/step - loss: 2.2596e-04 - val_loss: 0.0085\n",
      "Epoch 8/100\n",
      "33/33 [==============================] - 0s 14ms/step - loss: 2.0818e-04 - val_loss: 0.0086\n",
      "Epoch 9/100\n",
      "33/33 [==============================] - 0s 13ms/step - loss: 1.9199e-04 - val_loss: 0.0084\n",
      "Epoch 10/100\n",
      "33/33 [==============================] - 0s 14ms/step - loss: 1.7744e-04 - val_loss: 0.0084\n",
      "Epoch 11/100\n",
      "33/33 [==============================] - 0s 13ms/step - loss: 1.6449e-04 - val_loss: 0.0083\n",
      "Epoch 12/100\n",
      "33/33 [==============================] - 0s 14ms/step - loss: 1.5256e-04 - val_loss: 0.0082\n",
      "Epoch 13/100\n",
      "33/33 [==============================] - 0s 13ms/step - loss: 1.4191e-04 - val_loss: 0.0080\n",
      "Epoch 14/100\n",
      "33/33 [==============================] - 0s 13ms/step - loss: 1.3192e-04 - val_loss: 0.0078\n",
      "Epoch 15/100\n",
      "33/33 [==============================] - 0s 13ms/step - loss: 1.2274e-04 - val_loss: 0.0078\n",
      "Epoch 16/100\n",
      "33/33 [==============================] - 0s 13ms/step - loss: 1.1436e-04 - val_loss: 0.0077\n",
      "Epoch 17/100\n",
      "33/33 [==============================] - 0s 13ms/step - loss: 1.0656e-04 - val_loss: 0.0078\n",
      "Epoch 18/100\n",
      "33/33 [==============================] - 0s 13ms/step - loss: 9.9522e-05 - val_loss: 0.0076\n",
      "Epoch 19/100\n",
      "33/33 [==============================] - 0s 13ms/step - loss: 9.3030e-05 - val_loss: 0.0076\n",
      "Epoch 20/100\n",
      "33/33 [==============================] - 0s 13ms/step - loss: 8.6773e-05 - val_loss: 0.0074\n",
      "Epoch 21/100\n",
      "33/33 [==============================] - 0s 13ms/step - loss: 8.1043e-05 - val_loss: 0.0073\n",
      "Epoch 22/100\n",
      "33/33 [==============================] - 0s 13ms/step - loss: 7.5624e-05 - val_loss: 0.0072\n",
      "Epoch 23/100\n",
      "33/33 [==============================] - 0s 13ms/step - loss: 7.0837e-05 - val_loss: 0.0071\n",
      "Epoch 24/100\n",
      "33/33 [==============================] - 0s 13ms/step - loss: 6.6037e-05 - val_loss: 0.0071\n",
      "Epoch 25/100\n",
      "33/33 [==============================] - 0s 13ms/step - loss: 6.1776e-05 - val_loss: 0.0069\n",
      "Epoch 26/100\n",
      "33/33 [==============================] - 0s 13ms/step - loss: 5.7709e-05 - val_loss: 0.0069\n",
      "Epoch 27/100\n",
      "33/33 [==============================] - 0s 13ms/step - loss: 5.4040e-05 - val_loss: 0.0068\n",
      "Epoch 28/100\n",
      "33/33 [==============================] - 0s 12ms/step - loss: 5.0689e-05 - val_loss: 0.0067\n",
      "Epoch 29/100\n",
      "33/33 [==============================] - 0s 13ms/step - loss: 4.7473e-05 - val_loss: 0.0067\n",
      "Epoch 30/100\n",
      "33/33 [==============================] - 0s 13ms/step - loss: 4.4650e-05 - val_loss: 0.0066\n",
      "Epoch 31/100\n",
      "33/33 [==============================] - 0s 13ms/step - loss: 4.1998e-05 - val_loss: 0.0065\n",
      "Epoch 32/100\n",
      "33/33 [==============================] - 0s 13ms/step - loss: 3.9678e-05 - val_loss: 0.0065\n",
      "Epoch 33/100\n",
      "33/33 [==============================] - 0s 13ms/step - loss: 3.7472e-05 - val_loss: 0.0064\n",
      "Epoch 34/100\n",
      "33/33 [==============================] - 0s 13ms/step - loss: 3.5482e-05 - val_loss: 0.0063\n",
      "Epoch 35/100\n",
      "33/33 [==============================] - 0s 13ms/step - loss: 3.3788e-05 - val_loss: 0.0063\n",
      "Epoch 36/100\n",
      "33/33 [==============================] - 0s 13ms/step - loss: 3.2086e-05 - val_loss: 0.0063\n",
      "Epoch 37/100\n",
      "33/33 [==============================] - 0s 13ms/step - loss: 3.0658e-05 - val_loss: 0.0062\n",
      "Epoch 38/100\n",
      "33/33 [==============================] - 0s 13ms/step - loss: 2.9420e-05 - val_loss: 0.0062\n",
      "Epoch 39/100\n",
      "33/33 [==============================] - 0s 13ms/step - loss: 2.8119e-05 - val_loss: 0.0062\n",
      "Epoch 40/100\n",
      "33/33 [==============================] - 0s 13ms/step - loss: 2.7014e-05 - val_loss: 0.0061\n",
      "Epoch 41/100\n",
      "33/33 [==============================] - 0s 13ms/step - loss: 2.6145e-05 - val_loss: 0.0061\n",
      "Epoch 42/100\n",
      "33/33 [==============================] - 0s 12ms/step - loss: 2.5158e-05 - val_loss: 0.0061\n",
      "Epoch 43/100\n",
      "33/33 [==============================] - 0s 13ms/step - loss: 2.4331e-05 - val_loss: 0.0060\n",
      "Epoch 44/100\n",
      "33/33 [==============================] - 0s 13ms/step - loss: 2.3691e-05 - val_loss: 0.0060\n",
      "Epoch 45/100\n",
      "33/33 [==============================] - 0s 13ms/step - loss: 2.2910e-05 - val_loss: 0.0060\n",
      "Epoch 46/100\n",
      "33/33 [==============================] - 0s 13ms/step - loss: 2.2275e-05 - val_loss: 0.0060\n",
      "Epoch 47/100\n",
      "33/33 [==============================] - 0s 13ms/step - loss: 2.1770e-05 - val_loss: 0.0060\n",
      "Epoch 48/100\n",
      "33/33 [==============================] - 0s 13ms/step - loss: 2.1156e-05 - val_loss: 0.0060\n",
      "Epoch 49/100\n",
      "33/33 [==============================] - 0s 13ms/step - loss: 2.0690e-05 - val_loss: 0.0060\n",
      "Epoch 50/100\n",
      "33/33 [==============================] - 0s 13ms/step - loss: 2.0213e-05 - val_loss: 0.0060\n",
      "Epoch 51/100\n",
      "33/33 [==============================] - 0s 13ms/step - loss: 1.9868e-05 - val_loss: 0.0060\n",
      "Epoch 52/100\n",
      "33/33 [==============================] - 0s 13ms/step - loss: 1.9455e-05 - val_loss: 0.0060\n",
      "Epoch 53/100\n",
      "33/33 [==============================] - 0s 13ms/step - loss: 1.9154e-05 - val_loss: 0.0060\n",
      "Epoch 54/100\n",
      "33/33 [==============================] - 0s 13ms/step - loss: 1.8718e-05 - val_loss: 0.0060\n",
      "Epoch 55/100\n",
      "33/33 [==============================] - 0s 13ms/step - loss: 1.8596e-05 - val_loss: 0.0061\n",
      "Epoch 56/100\n",
      "33/33 [==============================] - 0s 13ms/step - loss: 1.8169e-05 - val_loss: 0.0060\n",
      "Epoch 57/100\n",
      "33/33 [==============================] - 0s 13ms/step - loss: 1.7877e-05 - val_loss: 0.0061\n",
      "Epoch 58/100\n",
      "33/33 [==============================] - 0s 13ms/step - loss: 1.7841e-05 - val_loss: 0.0060\n",
      "Epoch 59/100\n",
      "33/33 [==============================] - 0s 13ms/step - loss: 1.7363e-05 - val_loss: 0.0061\n",
      "Epoch 60/100\n",
      "33/33 [==============================] - 0s 13ms/step - loss: 1.7174e-05 - val_loss: 0.0061\n",
      "Epoch 61/100\n",
      "33/33 [==============================] - 0s 13ms/step - loss: 1.6886e-05 - val_loss: 0.0061\n",
      "Epoch 62/100\n",
      "33/33 [==============================] - 0s 13ms/step - loss: 1.6714e-05 - val_loss: 0.0060\n",
      "Epoch 63/100\n",
      "33/33 [==============================] - 0s 13ms/step - loss: 1.6542e-05 - val_loss: 0.0061\n",
      "Epoch 64/100\n",
      "33/33 [==============================] - 0s 13ms/step - loss: 1.6427e-05 - val_loss: 0.0061\n",
      "Epoch 65/100\n",
      "33/33 [==============================] - 0s 13ms/step - loss: 1.6266e-05 - val_loss: 0.0061\n",
      "Epoch 66/100\n",
      "33/33 [==============================] - 0s 13ms/step - loss: 1.6031e-05 - val_loss: 0.0062\n",
      "Epoch 67/100\n",
      "33/33 [==============================] - 0s 13ms/step - loss: 1.5841e-05 - val_loss: 0.0062\n",
      "Epoch 68/100\n",
      "33/33 [==============================] - 0s 13ms/step - loss: 1.5727e-05 - val_loss: 0.0062\n",
      "Epoch 69/100\n",
      "33/33 [==============================] - 0s 13ms/step - loss: 1.5521e-05 - val_loss: 0.0062\n",
      "Epoch 70/100\n",
      "33/33 [==============================] - 0s 13ms/step - loss: 1.5384e-05 - val_loss: 0.0062\n",
      "Epoch 71/100\n",
      "33/33 [==============================] - 0s 13ms/step - loss: 1.5406e-05 - val_loss: 0.0062\n",
      "Epoch 72/100\n",
      "33/33 [==============================] - 0s 12ms/step - loss: 1.5106e-05 - val_loss: 0.0063\n",
      "Epoch 73/100\n",
      "33/33 [==============================] - 0s 13ms/step - loss: 1.4940e-05 - val_loss: 0.0063\n",
      "Epoch 74/100\n",
      "33/33 [==============================] - 0s 13ms/step - loss: 1.4860e-05 - val_loss: 0.0062\n",
      "Epoch 75/100\n",
      "33/33 [==============================] - 0s 13ms/step - loss: 1.4886e-05 - val_loss: 0.0063\n",
      "Epoch 76/100\n",
      "33/33 [==============================] - 0s 13ms/step - loss: 1.4786e-05 - val_loss: 0.0063\n",
      "Epoch 77/100\n",
      "33/33 [==============================] - 0s 13ms/step - loss: 1.4619e-05 - val_loss: 0.0063\n",
      "Epoch 78/100\n",
      "33/33 [==============================] - 0s 13ms/step - loss: 1.4287e-05 - val_loss: 0.0063\n",
      "Epoch 79/100\n",
      "33/33 [==============================] - 0s 13ms/step - loss: 1.4128e-05 - val_loss: 0.0063\n",
      "Epoch 80/100\n",
      "33/33 [==============================] - 0s 13ms/step - loss: 1.4119e-05 - val_loss: 0.0063\n",
      "Epoch 81/100\n",
      "33/33 [==============================] - 0s 13ms/step - loss: 1.4342e-05 - val_loss: 0.0063\n",
      "Epoch 82/100\n",
      "33/33 [==============================] - 0s 13ms/step - loss: 1.3820e-05 - val_loss: 0.0063\n",
      "Epoch 83/100\n",
      "33/33 [==============================] - 0s 13ms/step - loss: 1.3741e-05 - val_loss: 0.0063\n",
      "Epoch 84/100\n",
      "33/33 [==============================] - 0s 13ms/step - loss: 1.3598e-05 - val_loss: 0.0064\n",
      "Epoch 85/100\n",
      "33/33 [==============================] - 0s 13ms/step - loss: 1.3587e-05 - val_loss: 0.0063\n",
      "Epoch 86/100\n",
      "33/33 [==============================] - 0s 13ms/step - loss: 1.3533e-05 - val_loss: 0.0064\n",
      "Epoch 87/100\n",
      "33/33 [==============================] - 0s 13ms/step - loss: 1.3222e-05 - val_loss: 0.0064\n",
      "Epoch 88/100\n",
      "33/33 [==============================] - 0s 13ms/step - loss: 1.3127e-05 - val_loss: 0.0065\n",
      "Epoch 89/100\n",
      "33/33 [==============================] - 0s 13ms/step - loss: 1.3360e-05 - val_loss: 0.0065\n",
      "Epoch 90/100\n",
      "33/33 [==============================] - 0s 13ms/step - loss: 1.2934e-05 - val_loss: 0.0065\n",
      "Epoch 91/100\n",
      "33/33 [==============================] - 0s 13ms/step - loss: 1.2910e-05 - val_loss: 0.0065\n",
      "Epoch 92/100\n",
      "33/33 [==============================] - 0s 13ms/step - loss: 1.2790e-05 - val_loss: 0.0065\n",
      "Epoch 93/100\n",
      "33/33 [==============================] - 0s 13ms/step - loss: 1.2609e-05 - val_loss: 0.0065\n",
      "Epoch 94/100\n",
      "33/33 [==============================] - 0s 13ms/step - loss: 1.2601e-05 - val_loss: 0.0064\n",
      "Epoch 95/100\n",
      "33/33 [==============================] - 0s 13ms/step - loss: 1.2434e-05 - val_loss: 0.0065\n",
      "Epoch 96/100\n",
      "33/33 [==============================] - 0s 13ms/step - loss: 1.2326e-05 - val_loss: 0.0065\n",
      "Epoch 97/100\n",
      "33/33 [==============================] - 0s 13ms/step - loss: 1.2244e-05 - val_loss: 0.0066\n",
      "Epoch 98/100\n",
      "33/33 [==============================] - 0s 13ms/step - loss: 1.2486e-05 - val_loss: 0.0064\n",
      "Epoch 99/100\n",
      "33/33 [==============================] - 0s 13ms/step - loss: 1.2208e-05 - val_loss: 0.0065\n",
      "Epoch 100/100\n",
      "33/33 [==============================] - 0s 13ms/step - loss: 1.1911e-05 - val_loss: 0.0066\n"
     ]
    }
   ],
   "source": [
    "gru_model.fit(x_train_dl,y_train_dl,validation_data=(x_test_dl,y_test_dl),epochs=100,batch_size=512,verbose=1)\n",
    "gru_model.save(f'save/GRU/gru_model.h5')"
   ]
  },
  {
   "cell_type": "code",
   "execution_count": 77,
   "id": "a39601d4",
   "metadata": {},
   "outputs": [
    {
     "name": "stdout",
     "output_type": "stream",
     "text": [
      "519/519 [==============================] - 1s 3ms/step\n",
      "130/130 [==============================] - 0s 3ms/step\n",
      "(16587, 5) (4147, 5)\n"
     ]
    }
   ],
   "source": [
    "train_predict_gru = gru_model.predict(x_train_dl)\n",
    "test_predict_gru = gru_model.predict(x_test_dl)\n",
    "print(train_predict_gru.shape, test_predict_gru.shape)"
   ]
  },
  {
   "cell_type": "code",
   "execution_count": 78,
   "id": "990b3c86",
   "metadata": {},
   "outputs": [],
   "source": [
    "gru_test_scale = (test_predict_gru * (target_max_scale - target_min_scale)) + target_min_scale"
   ]
  },
  {
   "cell_type": "code",
   "execution_count": 79,
   "id": "96bd7818",
   "metadata": {},
   "outputs": [
    {
     "data": {
      "text/plain": [
       "array([[3544.42915226, 3536.52338505, 3540.03738549, 3545.02631969,\n",
       "        3540.72847373],\n",
       "       [3539.28198213, 3530.62082072, 3538.97514263, 3539.28718372,\n",
       "        3535.70343272],\n",
       "       [3539.17958158, 3531.03887796, 3539.95091553, 3537.1200627 ,\n",
       "        3534.50655977],\n",
       "       ...,\n",
       "       [4406.22285686, 4660.67464585, 4044.9562678 , 3829.32863538,\n",
       "        3622.7433789 ],\n",
       "       [4392.83725355, 4627.2413981 , 4034.45375058, 3823.19827873,\n",
       "        3629.10811838],\n",
       "       [4382.70255947, 4599.75801403, 4026.3625987 , 3819.4822985 ,\n",
       "        3635.70498017]])"
      ]
     },
     "execution_count": 79,
     "metadata": {},
     "output_type": "execute_result"
    }
   ],
   "source": [
    "gru_test_scale"
   ]
  },
  {
   "cell_type": "code",
   "execution_count": 76,
   "id": "fd07dcac",
   "metadata": {},
   "outputs": [
    {
     "name": "stdout",
     "output_type": "stream",
     "text": [
      "MSE in high = 12680.739956872714\n",
      "MAE in high = 94.24884140647791\n",
      "R2 score in high = 0.8607032903348253\n",
      "MSE in low = 40659.49873301695\n",
      "MAE in low = 177.31289558500674\n",
      "R2 score in low = 0.557618310880128\n",
      "MSE in MA = 11776.560149289335\n",
      "MAE in MA = 87.27457680103312\n",
      "R2 score in MA = 0.8697294557127144\n",
      "MSE in open = 39961.10743800331\n",
      "MAE in open = 171.76461569529098\n",
      "R2 score in open = 0.563397540957238\n",
      "MSE in close = 109609.09917808768\n",
      "MAE in close = 283.8522845692539\n",
      "R2 score in close = -0.19842395885629438\n",
      "{'high': [12680.739956872714, 94.24884140647791, 0.8607032903348253], 'low': [40659.49873301695, 177.31289558500674, 0.557618310880128], 'MA': [11776.560149289335, 87.27457680103312, 0.8697294557127144], 'open': [39961.10743800331, 171.76461569529098, 0.563397540957238], 'close': [109609.09917808768, 283.8522845692539, -0.19842395885629438]}\n"
     ]
    }
   ],
   "source": [
    "\n",
    "n_samples, n_fea = y_test_scale.shape\n",
    "gru_res = dict()\n",
    "for idx, category in enumerate(ts_config.pred_features):\n",
    "    cate_mse = mean_squared_error(y_test_scale[:, idx], gru_test_scale[:, idx])\n",
    "    cate_mae = mean_absolute_error(y_test_scale[:, idx], gru_test_scale[:, idx])\n",
    "    cate_rsqr = r2_score(y_test_scale[:, idx], gru_test_scale[:, idx])\n",
    "\n",
    "    gru_res[ts_config.pred_features[idx]] = [cate_mse, cate_mae, cate_rsqr]\n",
    "\n",
    "    print(f'MSE in {ts_config.pred_features[idx]} = {cate_mse}')\n",
    "    print(f'MAE in {ts_config.pred_features[idx]} = {cate_mae}')\n",
    "    print(f'R2 score in {ts_config.pred_features[idx]} = {cate_rsqr}')\n",
    "print(gru_res)\n",
    "with open(f'save/GRU/results_gru.pkl', mode= 'wb') as writer:\n",
    "    pickle.dump(gru_res, writer)\n",
    "writer.close()\n"
   ]
  },
  {
   "cell_type": "code",
   "execution_count": 77,
   "id": "cc756117",
   "metadata": {},
   "outputs": [
    {
     "data": {
      "text/plain": [
       "array([[3536.27412001, 3516.42337976, 3538.13719616, 3514.26360426,\n",
       "        3544.45772462],\n",
       "       [3530.82863116, 3512.61676774, 3535.21561027, 3510.28237296,\n",
       "        3539.67812644],\n",
       "       [3528.35078445, 3509.94484734, 3535.72583082, 3508.10440525,\n",
       "        3535.8166571 ],\n",
       "       ...,\n",
       "       [4027.68970103, 3769.36747687, 3915.4526918 , 3793.39303094,\n",
       "        3838.60874058],\n",
       "       [4028.92368942, 3769.44384561, 3923.57441869, 3795.94348413,\n",
       "        3840.13813306],\n",
       "       [4029.38955026, 3768.73829702, 3932.44308362, 3799.0249325 ,\n",
       "        3841.66826557]])"
      ]
     },
     "execution_count": 77,
     "metadata": {},
     "output_type": "execute_result"
    }
   ],
   "source": [
    "gru_test_scale"
   ]
  },
  {
   "cell_type": "code",
   "execution_count": 78,
   "id": "77ad61cb",
   "metadata": {},
   "outputs": [
    {
     "data": {
      "text/plain": [
       "array([[3573.65007628, 3556.85003304, 3562.29623436, 3563.62002571,\n",
       "        3557.53995056],\n",
       "       [3589.81011779, 3564.09003568, 3563.2345051 , 3566.82004822,\n",
       "        3564.67999336],\n",
       "       [3575.89992754, 3556.54997781, 3564.23918094, 3564.68004395,\n",
       "        3559.79999797],\n",
       "       ...,\n",
       "       [4105.14005328, 4086.87000917, 4001.32070697, 4103.03988975,\n",
       "        4096.89007598],\n",
       "       [4105.23998636, 4093.1898917 , 4002.93473328, 4096.87995119,\n",
       "        4104.00002428],\n",
       "       [4106.62991969, 4093.55005652, 4004.43386442, 4104.02003685,\n",
       "        4093.72004005]])"
      ]
     },
     "execution_count": 78,
     "metadata": {},
     "output_type": "execute_result"
    }
   ],
   "source": [
    "y_test_scale"
   ]
  },
  {
   "attachments": {},
   "cell_type": "markdown",
   "id": "d9ffa431",
   "metadata": {},
   "source": [
    "## Our method"
   ]
  },
  {
   "cell_type": "code",
   "execution_count": 26,
   "id": "00d0eac3",
   "metadata": {},
   "outputs": [],
   "source": [
    "from model import TSModel\n",
    "import tensorflow as tf\n",
    "from tensorflow.keras.layers import Bidirectional, LSTM, Dense\n",
    "from tensorflow.keras import Sequential"
   ]
  },
  {
   "cell_type": "code",
   "execution_count": 29,
   "id": "ad1b10dc",
   "metadata": {},
   "outputs": [],
   "source": [
    "tf.keras.backend.clear_session()\n",
    "bidir_model=Sequential()\n",
    "bidir_model.add(Bidirectional(LSTM(16,return_sequences=True,input_shape=(ts_config.n_steps, ts_config.n_features))))\n",
    "bidir_model.add(Bidirectional(LSTM(16)))\n",
    "bidir_model.add(Dense(ts_config.n_classes))\n",
    "bidir_model.compile(loss='mean_squared_error',optimizer='adam')"
   ]
  },
  {
   "cell_type": "code",
   "execution_count": 32,
   "id": "c5d5dd0f",
   "metadata": {},
   "outputs": [
    {
     "name": "stdout",
     "output_type": "stream",
     "text": [
      "Epoch 1/100\n",
      "33/33 [==============================] - 9s 56ms/step - loss: 0.0309 - val_loss: 0.0914\n",
      "Epoch 2/100\n",
      "33/33 [==============================] - 1s 18ms/step - loss: 0.0019 - val_loss: 0.0137\n",
      "Epoch 3/100\n",
      "33/33 [==============================] - 1s 20ms/step - loss: 2.4472e-04 - val_loss: 0.0143\n",
      "Epoch 4/100\n",
      "33/33 [==============================] - 1s 17ms/step - loss: 1.5637e-04 - val_loss: 0.0124\n",
      "Epoch 5/100\n",
      "33/33 [==============================] - 1s 17ms/step - loss: 1.3129e-04 - val_loss: 0.0115\n",
      "Epoch 6/100\n",
      "33/33 [==============================] - 1s 16ms/step - loss: 1.1312e-04 - val_loss: 0.0109\n",
      "Epoch 7/100\n",
      "33/33 [==============================] - 1s 17ms/step - loss: 9.9040e-05 - val_loss: 0.0103\n",
      "Epoch 8/100\n",
      "33/33 [==============================] - 1s 17ms/step - loss: 8.8116e-05 - val_loss: 0.0098\n",
      "Epoch 9/100\n",
      "33/33 [==============================] - 1s 17ms/step - loss: 7.9435e-05 - val_loss: 0.0092\n",
      "Epoch 10/100\n",
      "33/33 [==============================] - 1s 19ms/step - loss: 7.2429e-05 - val_loss: 0.0087\n",
      "Epoch 11/100\n",
      "33/33 [==============================] - 1s 16ms/step - loss: 6.6872e-05 - val_loss: 0.0082\n",
      "Epoch 12/100\n",
      "33/33 [==============================] - 1s 17ms/step - loss: 6.2301e-05 - val_loss: 0.0079\n",
      "Epoch 13/100\n",
      "33/33 [==============================] - 1s 17ms/step - loss: 5.8382e-05 - val_loss: 0.0075\n",
      "Epoch 14/100\n",
      "33/33 [==============================] - 1s 17ms/step - loss: 5.5246e-05 - val_loss: 0.0071\n",
      "Epoch 15/100\n",
      "33/33 [==============================] - 1s 17ms/step - loss: 5.2132e-05 - val_loss: 0.0069\n",
      "Epoch 16/100\n",
      "33/33 [==============================] - 1s 18ms/step - loss: 4.9519e-05 - val_loss: 0.0065\n",
      "Epoch 17/100\n",
      "33/33 [==============================] - 1s 17ms/step - loss: 4.7263e-05 - val_loss: 0.0063\n",
      "Epoch 18/100\n",
      "33/33 [==============================] - 1s 17ms/step - loss: 4.5043e-05 - val_loss: 0.0060\n",
      "Epoch 19/100\n",
      "33/33 [==============================] - 1s 17ms/step - loss: 4.2936e-05 - val_loss: 0.0059\n",
      "Epoch 20/100\n",
      "33/33 [==============================] - 1s 17ms/step - loss: 4.1091e-05 - val_loss: 0.0056\n",
      "Epoch 21/100\n",
      "33/33 [==============================] - 1s 17ms/step - loss: 3.9472e-05 - val_loss: 0.0054\n",
      "Epoch 22/100\n",
      "33/33 [==============================] - 1s 17ms/step - loss: 3.7956e-05 - val_loss: 0.0052\n",
      "Epoch 23/100\n",
      "33/33 [==============================] - 1s 17ms/step - loss: 3.6497e-05 - val_loss: 0.0051\n",
      "Epoch 24/100\n",
      "33/33 [==============================] - 1s 17ms/step - loss: 3.5060e-05 - val_loss: 0.0048\n",
      "Epoch 25/100\n",
      "33/33 [==============================] - 1s 17ms/step - loss: 3.3829e-05 - val_loss: 0.0047\n",
      "Epoch 26/100\n",
      "33/33 [==============================] - 1s 17ms/step - loss: 3.3003e-05 - val_loss: 0.0046\n",
      "Epoch 27/100\n",
      "33/33 [==============================] - 1s 18ms/step - loss: 3.1493e-05 - val_loss: 0.0044\n",
      "Epoch 28/100\n",
      "33/33 [==============================] - 1s 17ms/step - loss: 3.0489e-05 - val_loss: 0.0042\n",
      "Epoch 29/100\n",
      "33/33 [==============================] - 1s 17ms/step - loss: 2.9537e-05 - val_loss: 0.0041\n",
      "Epoch 30/100\n",
      "33/33 [==============================] - 1s 17ms/step - loss: 2.8628e-05 - val_loss: 0.0040\n",
      "Epoch 31/100\n",
      "33/33 [==============================] - 1s 17ms/step - loss: 2.7732e-05 - val_loss: 0.0039\n",
      "Epoch 32/100\n",
      "33/33 [==============================] - 1s 18ms/step - loss: 2.6980e-05 - val_loss: 0.0037\n",
      "Epoch 33/100\n",
      "33/33 [==============================] - 1s 17ms/step - loss: 2.6297e-05 - val_loss: 0.0038\n",
      "Epoch 34/100\n",
      "33/33 [==============================] - 1s 17ms/step - loss: 2.5667e-05 - val_loss: 0.0036\n",
      "Epoch 35/100\n",
      "33/33 [==============================] - 1s 17ms/step - loss: 2.4834e-05 - val_loss: 0.0035\n",
      "Epoch 36/100\n",
      "33/33 [==============================] - 1s 17ms/step - loss: 2.4209e-05 - val_loss: 0.0033\n",
      "Epoch 37/100\n",
      "33/33 [==============================] - 1s 16ms/step - loss: 2.3545e-05 - val_loss: 0.0033\n",
      "Epoch 38/100\n",
      "33/33 [==============================] - 1s 18ms/step - loss: 2.3204e-05 - val_loss: 0.0032\n",
      "Epoch 39/100\n",
      "33/33 [==============================] - 1s 17ms/step - loss: 2.2521e-05 - val_loss: 0.0031\n",
      "Epoch 40/100\n",
      "33/33 [==============================] - 1s 17ms/step - loss: 2.2136e-05 - val_loss: 0.0031\n",
      "Epoch 41/100\n",
      "33/33 [==============================] - 1s 17ms/step - loss: 2.1735e-05 - val_loss: 0.0029\n",
      "Epoch 42/100\n",
      "33/33 [==============================] - 1s 17ms/step - loss: 2.0973e-05 - val_loss: 0.0029\n",
      "Epoch 43/100\n",
      "33/33 [==============================] - 1s 18ms/step - loss: 2.0426e-05 - val_loss: 0.0028\n",
      "Epoch 44/100\n",
      "33/33 [==============================] - 1s 17ms/step - loss: 1.9852e-05 - val_loss: 0.0027\n",
      "Epoch 45/100\n",
      "33/33 [==============================] - 1s 17ms/step - loss: 1.9702e-05 - val_loss: 0.0027\n",
      "Epoch 46/100\n",
      "33/33 [==============================] - 1s 20ms/step - loss: 1.9065e-05 - val_loss: 0.0026\n",
      "Epoch 47/100\n",
      "33/33 [==============================] - 1s 18ms/step - loss: 1.8712e-05 - val_loss: 0.0025\n",
      "Epoch 48/100\n",
      "33/33 [==============================] - 1s 18ms/step - loss: 1.8265e-05 - val_loss: 0.0025\n",
      "Epoch 49/100\n",
      "33/33 [==============================] - 1s 18ms/step - loss: 1.7742e-05 - val_loss: 0.0025\n",
      "Epoch 50/100\n",
      "33/33 [==============================] - 1s 18ms/step - loss: 1.7427e-05 - val_loss: 0.0024\n",
      "Epoch 51/100\n",
      "33/33 [==============================] - 1s 20ms/step - loss: 1.7146e-05 - val_loss: 0.0025\n",
      "Epoch 52/100\n",
      "33/33 [==============================] - 1s 18ms/step - loss: 1.6856e-05 - val_loss: 0.0023\n",
      "Epoch 53/100\n",
      "33/33 [==============================] - 1s 17ms/step - loss: 1.6517e-05 - val_loss: 0.0023\n",
      "Epoch 54/100\n",
      "33/33 [==============================] - 1s 19ms/step - loss: 1.6197e-05 - val_loss: 0.0022\n",
      "Epoch 55/100\n",
      "33/33 [==============================] - 1s 18ms/step - loss: 1.5939e-05 - val_loss: 0.0022\n",
      "Epoch 56/100\n",
      "33/33 [==============================] - 1s 20ms/step - loss: 1.5433e-05 - val_loss: 0.0022\n",
      "Epoch 57/100\n",
      "33/33 [==============================] - 1s 18ms/step - loss: 1.5152e-05 - val_loss: 0.0022\n",
      "Epoch 58/100\n",
      "33/33 [==============================] - 1s 20ms/step - loss: 1.5452e-05 - val_loss: 0.0021\n",
      "Epoch 59/100\n",
      "33/33 [==============================] - 1s 18ms/step - loss: 1.4564e-05 - val_loss: 0.0021\n",
      "Epoch 60/100\n",
      "33/33 [==============================] - 1s 19ms/step - loss: 1.4400e-05 - val_loss: 0.0021\n",
      "Epoch 61/100\n",
      "33/33 [==============================] - 1s 19ms/step - loss: 1.4057e-05 - val_loss: 0.0021\n",
      "Epoch 62/100\n",
      "33/33 [==============================] - 1s 18ms/step - loss: 1.4080e-05 - val_loss: 0.0021\n",
      "Epoch 63/100\n",
      "33/33 [==============================] - 1s 20ms/step - loss: 1.3601e-05 - val_loss: 0.0020\n",
      "Epoch 64/100\n",
      "33/33 [==============================] - 1s 18ms/step - loss: 1.3452e-05 - val_loss: 0.0019\n",
      "Epoch 65/100\n",
      "33/33 [==============================] - 1s 18ms/step - loss: 1.4142e-05 - val_loss: 0.0020\n",
      "Epoch 66/100\n",
      "33/33 [==============================] - 1s 18ms/step - loss: 1.3231e-05 - val_loss: 0.0020\n",
      "Epoch 67/100\n",
      "33/33 [==============================] - 1s 19ms/step - loss: 1.3006e-05 - val_loss: 0.0019\n",
      "Epoch 68/100\n",
      "33/33 [==============================] - 1s 18ms/step - loss: 1.2954e-05 - val_loss: 0.0019\n",
      "Epoch 69/100\n",
      "33/33 [==============================] - 1s 19ms/step - loss: 1.2888e-05 - val_loss: 0.0019\n",
      "Epoch 70/100\n",
      "33/33 [==============================] - 1s 19ms/step - loss: 1.2658e-05 - val_loss: 0.0019\n",
      "Epoch 71/100\n",
      "33/33 [==============================] - 1s 21ms/step - loss: 1.2328e-05 - val_loss: 0.0020\n",
      "Epoch 72/100\n",
      "33/33 [==============================] - 1s 24ms/step - loss: 1.2300e-05 - val_loss: 0.0019\n",
      "Epoch 73/100\n",
      "33/33 [==============================] - 1s 23ms/step - loss: 1.1899e-05 - val_loss: 0.0019\n",
      "Epoch 74/100\n",
      "33/33 [==============================] - 1s 26ms/step - loss: 1.2071e-05 - val_loss: 0.0019\n",
      "Epoch 75/100\n",
      "33/33 [==============================] - 1s 19ms/step - loss: 1.2373e-05 - val_loss: 0.0019\n",
      "Epoch 76/100\n",
      "33/33 [==============================] - 1s 19ms/step - loss: 1.2056e-05 - val_loss: 0.0019\n",
      "Epoch 77/100\n",
      "33/33 [==============================] - 1s 18ms/step - loss: 1.1657e-05 - val_loss: 0.0019\n",
      "Epoch 78/100\n",
      "33/33 [==============================] - 1s 20ms/step - loss: 1.1820e-05 - val_loss: 0.0019\n",
      "Epoch 79/100\n",
      "33/33 [==============================] - 1s 22ms/step - loss: 1.1422e-05 - val_loss: 0.0018\n",
      "Epoch 80/100\n",
      "33/33 [==============================] - 1s 23ms/step - loss: 1.1006e-05 - val_loss: 0.0018\n",
      "Epoch 81/100\n",
      "33/33 [==============================] - 1s 20ms/step - loss: 1.1283e-05 - val_loss: 0.0018\n",
      "Epoch 82/100\n",
      "33/33 [==============================] - 1s 21ms/step - loss: 1.0892e-05 - val_loss: 0.0018\n",
      "Epoch 83/100\n",
      "33/33 [==============================] - 1s 19ms/step - loss: 1.1042e-05 - val_loss: 0.0018\n",
      "Epoch 84/100\n",
      "33/33 [==============================] - 1s 21ms/step - loss: 1.0821e-05 - val_loss: 0.0018\n",
      "Epoch 85/100\n",
      "33/33 [==============================] - 1s 21ms/step - loss: 1.0642e-05 - val_loss: 0.0018\n",
      "Epoch 86/100\n",
      "33/33 [==============================] - 1s 17ms/step - loss: 1.0981e-05 - val_loss: 0.0018\n",
      "Epoch 87/100\n",
      "33/33 [==============================] - 1s 17ms/step - loss: 1.0964e-05 - val_loss: 0.0018\n",
      "Epoch 88/100\n",
      "33/33 [==============================] - 1s 19ms/step - loss: 1.0438e-05 - val_loss: 0.0018\n",
      "Epoch 89/100\n",
      "33/33 [==============================] - 1s 22ms/step - loss: 1.0599e-05 - val_loss: 0.0018\n",
      "Epoch 90/100\n",
      "33/33 [==============================] - 1s 19ms/step - loss: 1.0592e-05 - val_loss: 0.0018\n",
      "Epoch 91/100\n",
      "33/33 [==============================] - 1s 20ms/step - loss: 1.0619e-05 - val_loss: 0.0018\n",
      "Epoch 92/100\n",
      "33/33 [==============================] - 1s 17ms/step - loss: 1.1151e-05 - val_loss: 0.0018\n",
      "Epoch 93/100\n",
      "33/33 [==============================] - 1s 19ms/step - loss: 9.9750e-06 - val_loss: 0.0018\n",
      "Epoch 94/100\n",
      "33/33 [==============================] - 1s 21ms/step - loss: 1.0072e-05 - val_loss: 0.0018\n",
      "Epoch 95/100\n",
      "33/33 [==============================] - 1s 19ms/step - loss: 1.0267e-05 - val_loss: 0.0018\n",
      "Epoch 96/100\n",
      "33/33 [==============================] - 1s 18ms/step - loss: 1.0171e-05 - val_loss: 0.0018\n",
      "Epoch 97/100\n",
      "33/33 [==============================] - 1s 18ms/step - loss: 9.7299e-06 - val_loss: 0.0018\n",
      "Epoch 98/100\n",
      "33/33 [==============================] - 1s 21ms/step - loss: 9.5755e-06 - val_loss: 0.0018\n",
      "Epoch 99/100\n",
      "33/33 [==============================] - 1s 19ms/step - loss: 1.0220e-05 - val_loss: 0.0018\n",
      "Epoch 100/100\n",
      "33/33 [==============================] - 1s 19ms/step - loss: 9.5037e-06 - val_loss: 0.0018\n"
     ]
    },
    {
     "data": {
      "text/plain": [
       "<keras.callbacks.History at 0x7ff98f608ee0>"
      ]
     },
     "execution_count": 32,
     "metadata": {},
     "output_type": "execute_result"
    }
   ],
   "source": [
    "# bidir_model.summary()\n",
    "bidir_model.fit(x_train_dl,y_train_dl,validation_data=(x_test_dl,y_test_dl),epochs=100,batch_size=512,verbose=1)"
   ]
  },
  {
   "cell_type": "code",
   "execution_count": 68,
   "id": "6e5c6e5a",
   "metadata": {},
   "outputs": [
    {
     "name": "stdout",
     "output_type": "stream",
     "text": [
      "519/519 [==============================] - 2s 3ms/step\n",
      "130/130 [==============================] - 0s 4ms/step\n",
      "(16587, 5) (4147, 5)\n"
     ]
    }
   ],
   "source": [
    "train_predict_bidir = bidir_model.predict(x_train_dl)\n",
    "test_predict_bidir = bidir_model.predict(x_test_dl)\n",
    "print(train_predict_bidir.shape, test_predict_bidir.shape)\n",
    "bidir_model.save(f'save/BiLSTM_Time/model.h5')"
   ]
  },
  {
   "cell_type": "code",
   "execution_count": 69,
   "id": "d7b68ab1",
   "metadata": {},
   "outputs": [],
   "source": [
    "bidir_pred_scale = (test_predict_bidir * (target_max_scale - target_min_scale)) + target_min_scale"
   ]
  },
  {
   "cell_type": "code",
   "execution_count": 70,
   "id": "e6f99277",
   "metadata": {},
   "outputs": [
    {
     "data": {
      "text/plain": [
       "array([[3573.65007628, 3556.85003304, 3562.29623436, 3563.62002571,\n",
       "        3557.53995056],\n",
       "       [3589.81011779, 3564.09003568, 3563.2345051 , 3566.82004822,\n",
       "        3564.67999336],\n",
       "       [3575.89992754, 3556.54997781, 3564.23918094, 3564.68004395,\n",
       "        3559.79999797],\n",
       "       ...,\n",
       "       [4105.14005328, 4086.87000917, 4001.32070697, 4103.03988975,\n",
       "        4096.89007598],\n",
       "       [4105.23998636, 4093.1898917 , 4002.93473328, 4096.87995119,\n",
       "        4104.00002428],\n",
       "       [4106.62991969, 4093.55005652, 4004.43386442, 4104.02003685,\n",
       "        4093.72004005]])"
      ]
     },
     "execution_count": 70,
     "metadata": {},
     "output_type": "execute_result"
    }
   ],
   "source": [
    "y_test_scale"
   ]
  },
  {
   "cell_type": "code",
   "execution_count": 75,
   "id": "621f32ba",
   "metadata": {},
   "outputs": [
    {
     "name": "stdout",
     "output_type": "stream",
     "text": [
      "MSE in high = 1786.8458572651514\n",
      "MAE in high = 31.507823106917467\n",
      "R2 score in high = 0.9803716699938331\n",
      "MSE in low = 5312.98377266897\n",
      "MAE in low = 55.781296917008355\n",
      "R2 score in low = 0.9421939077249079\n",
      "MSE in MA = 108465.93359541956\n",
      "MAE in MA = 278.58631885526825\n",
      "R2 score in MA = -0.19983390964606573\n",
      "MSE in open = 13356.648659201868\n",
      "MAE in open = 93.2332664953878\n",
      "R2 score in open = 0.8540694684644325\n",
      "MSE in close = 16775.75641565107\n",
      "MAE in close = 108.98252168946306\n",
      "R2 score in close = 0.8165802970081102\n",
      "{'high': [1786.8458572651514, 31.507823106917467, 0.9803716699938331], 'low': [5312.98377266897, 55.781296917008355, 0.9421939077249079], 'MA': [108465.93359541956, 278.58631885526825, -0.19983390964606573], 'open': [13356.648659201868, 93.2332664953878, 0.8540694684644325], 'close': [16775.75641565107, 108.98252168946306, 0.8165802970081102]}\n"
     ]
    }
   ],
   "source": [
    "\n",
    "n_samples, n_fea = y_test_scale.shape\n",
    "bidir_result = dict()\n",
    "for idx, category in enumerate(ts_config.pred_features):\n",
    "    cate_mse = mean_squared_error(y_test_scale[:, idx], bidir_pred_scale[:, idx])\n",
    "    cate_mae = mean_absolute_error(y_test_scale[:, idx], bidir_pred_scale[:, idx])\n",
    "    cate_rsqr = r2_score(y_test_scale[:, idx], bidir_pred_scale[:, idx])\n",
    "\n",
    "    bidir_result[ts_config.pred_features[idx]] = [cate_mse, cate_mae, cate_rsqr]\n",
    "\n",
    "    print(f'MSE in {ts_config.pred_features[idx]} = {cate_mse}')\n",
    "    print(f'MAE in {ts_config.pred_features[idx]} = {cate_mae}')\n",
    "    print(f'R2 score in {ts_config.pred_features[idx]} = {cate_rsqr}')\n",
    "print(bidir_result)\n",
    "with open(f'save/BiLSTM_Time/results_bidir.pkl', mode= 'wb') as writer:\n",
    "    pickle.dump(bidir_result, writer)\n",
    "writer.close()\n"
   ]
  },
  {
   "cell_type": "code",
   "execution_count": null,
   "id": "7dfaa936",
   "metadata": {},
   "outputs": [],
   "source": []
  }
 ],
 "metadata": {
  "kernelspec": {
   "display_name": "Python 3",
   "language": "python",
   "name": "python3"
  },
  "language_info": {
   "codemirror_mode": {
    "name": "ipython",
    "version": 3
   },
   "file_extension": ".py",
   "mimetype": "text/x-python",
   "name": "python",
   "nbconvert_exporter": "python",
   "pygments_lexer": "ipython3",
   "version": "3.9.16"
  }
 },
 "nbformat": 4,
 "nbformat_minor": 5
}
