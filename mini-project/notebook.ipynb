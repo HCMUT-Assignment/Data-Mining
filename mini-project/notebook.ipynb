{
 "cells": [
  {
   "cell_type": "code",
   "execution_count": 2,
   "id": "6921e5f7-5812-4503-a7fc-6e72c8d0a921",
   "metadata": {
    "tags": []
   },
   "outputs": [],
   "source": [
    "import numpy as np\n",
    "import matplotlib.pyplot as plt\n",
    "import torch\n",
    "import torch.nn as nn\n",
    "import pandas as pd\n",
    "\n",
    "# ! pip install plotly\n",
    "import plotly.graph_objects as go\n",
    "import plotly.express as px\n",
    "from plotly.subplots import make_subplots"
   ]
  },
  {
   "cell_type": "code",
   "execution_count": 2,
   "id": "b1d40a96-c6a5-498d-a176-3b8326370108",
   "metadata": {},
   "outputs": [],
   "source": [
    "PATH = 'vnindex_preprocess.csv'"
   ]
  },
  {
   "cell_type": "markdown",
   "id": "3077e098-336c-46ed-968a-6e56bd743c3d",
   "metadata": {
    "tags": []
   },
   "source": [
    "## Preprocessing"
   ]
  },
  {
   "cell_type": "code",
   "execution_count": 3,
   "id": "2281b7d1-7733-40be-9a9c-077b3b6bac8e",
   "metadata": {
    "tags": []
   },
   "outputs": [],
   "source": [
    "sp500 = pd.read_csv(PATH)"
   ]
  },
  {
   "cell_type": "code",
   "execution_count": 4,
   "id": "f43bc102-111d-40df-bade-0b43cd812927",
   "metadata": {
    "tags": []
   },
   "outputs": [
    {
     "data": {
      "text/plain": [
       "Unnamed: 0      0\n",
       "time            0\n",
       "open            0\n",
       "high            0\n",
       "low             0\n",
       "close           0\n",
       "MA              0\n",
       "Histogram       0\n",
       "MACD            0\n",
       "Signal          0\n",
       "RSI             0\n",
       "RSI-based MA    0\n",
       "dtype: int64"
      ]
     },
     "execution_count": 4,
     "metadata": {},
     "output_type": "execute_result"
    }
   ],
   "source": [
    "# Checking null\n",
    "sp500.isnull().sum()"
   ]
  },
  {
   "cell_type": "code",
   "execution_count": 5,
   "id": "068bb4d3-7ab3-424e-ab51-972bbfae12c5",
   "metadata": {
    "tags": []
   },
   "outputs": [
    {
     "data": {
      "text/plain": [
       "Unnamed: 0      0\n",
       "time            0\n",
       "open            0\n",
       "high            0\n",
       "low             0\n",
       "close           0\n",
       "MA              0\n",
       "Histogram       0\n",
       "MACD            0\n",
       "Signal          0\n",
       "RSI             0\n",
       "RSI-based MA    0\n",
       "dtype: int64"
      ]
     },
     "execution_count": 5,
     "metadata": {},
     "output_type": "execute_result"
    }
   ],
   "source": [
    "#  Checking nan\n",
    "sp500.isna().sum()"
   ]
  },
  {
   "cell_type": "code",
   "execution_count": 6,
   "id": "a237b3f7-f4b6-4b01-9f4a-e9d7fd1dbe9a",
   "metadata": {
    "tags": []
   },
   "outputs": [
    {
     "data": {
      "text/plain": [
       "Unnamed: 0      False\n",
       "time            False\n",
       "open            False\n",
       "high            False\n",
       "low             False\n",
       "close           False\n",
       "MA              False\n",
       "Histogram       False\n",
       "MACD            False\n",
       "Signal          False\n",
       "RSI             False\n",
       "RSI-based MA    False\n",
       "dtype: bool"
      ]
     },
     "execution_count": 6,
     "metadata": {},
     "output_type": "execute_result"
    }
   ],
   "source": [
    "#  Dropnan\n",
    "sp500.dropna(inplace = True)\n",
    "sp500.isna().any()"
   ]
  },
  {
   "cell_type": "code",
   "execution_count": 7,
   "id": "2b09d316-91b5-4f0c-834a-8f012131416f",
   "metadata": {
    "tags": []
   },
   "outputs": [],
   "source": [
    "sp500['time'] = pd.to_datetime(sp500.time)"
   ]
  },
  {
   "cell_type": "code",
   "execution_count": 8,
   "id": "b28eb4ff-c81b-4153-ad98-08bd6698b3e8",
   "metadata": {
    "tags": []
   },
   "outputs": [
    {
     "data": {
      "text/plain": [
       "(12185, 12)"
      ]
     },
     "execution_count": 8,
     "metadata": {},
     "output_type": "execute_result"
    }
   ],
   "source": [
    "sp500.shape"
   ]
  },
  {
   "cell_type": "markdown",
   "id": "80264387-e6c2-4aac-afe8-fdc59d63519a",
   "metadata": {},
   "source": [
    "### Data Exploration"
   ]
  },
  {
   "cell_type": "code",
   "execution_count": 9,
   "id": "9382b54c-b4f8-44ed-811c-4ee8f292172f",
   "metadata": {
    "tags": []
   },
   "outputs": [
    {
     "name": "stdout",
     "output_type": "stream",
     "text": [
      "Starting date:  0\n",
      "Ending date:  12184\n",
      "Duration:  12184\n"
     ]
    }
   ],
   "source": [
    "print(\"Starting date: \",sp500.iloc[0][0])\n",
    "print(\"Ending date: \", sp500.iloc[-1][0])\n",
    "print(\"Duration: \", sp500.iloc[-1][0]-sp500.iloc[0][0])"
   ]
  },
  {
   "cell_type": "code",
   "execution_count": 11,
   "id": "caaec5e7-e051-4902-93dc-1f56403d0754",
   "metadata": {
    "tags": []
   },
   "outputs": [],
   "source": [
    "# sp500.to_csv('vnindex_preprocess.csv')"
   ]
  },
  {
   "attachments": {},
   "cell_type": "markdown",
   "id": "486fa0d4-1516-4ab6-a1ed-e6458ad251cd",
   "metadata": {},
   "source": [
    "## Machine Learning"
   ]
  },
  {
   "cell_type": "code",
   "execution_count": 3,
   "id": "4bf74f40-fc9c-4378-a7d4-bcdb81f6c510",
   "metadata": {
    "tags": []
   },
   "outputs": [],
   "source": [
    "from utils.utils import create_data_train, read_csv\n",
    "from configs.config import *\n",
    "from utils.preprocess import Preprocessing\n",
    "from sklearn.metrics import mean_squared_error, mean_absolute_error, r2_score "
   ]
  },
  {
   "cell_type": "code",
   "execution_count": 4,
   "id": "b36f425f-d157-4c45-b956-2467aebcd564",
   "metadata": {
    "tags": []
   },
   "outputs": [
    {
     "name": "stdout",
     "output_type": "stream",
     "text": [
      "vnindex_preprocess.csv\n"
     ]
    }
   ],
   "source": [
    "path = 'vnindex_preprocess.csv'\n",
    "ts_config = TSConfig()\n",
    "frame = read_csv(path, ts_config.train_features, ts_config.pred_features, return_np = True)\n",
    "preprocess = Preprocessing()\n",
    "ML = True"
   ]
  },
  {
   "cell_type": "code",
   "execution_count": 5,
   "id": "a1e42930-f4f8-431c-a64e-07c7cd0d7b95",
   "metadata": {
    "tags": []
   },
   "outputs": [],
   "source": [
    "feature = frame['feature']\n",
    "target = frame['target']"
   ]
  },
  {
   "cell_type": "code",
   "execution_count": 6,
   "id": "b42b1199",
   "metadata": {},
   "outputs": [
    {
     "data": {
      "text/plain": [
       "(12185, 2)"
      ]
     },
     "execution_count": 6,
     "metadata": {},
     "output_type": "execute_result"
    }
   ],
   "source": [
    "target.shape"
   ]
  },
  {
   "cell_type": "code",
   "execution_count": 7,
   "id": "4ef21f43",
   "metadata": {},
   "outputs": [],
   "source": [
    "#   Scaling data\n",
    "feature, (feature_max_scale, feature_min_scale) = preprocess.apply_minmax_scale(feature)"
   ]
  },
  {
   "cell_type": "code",
   "execution_count": 8,
   "id": "ee7f1d83",
   "metadata": {},
   "outputs": [],
   "source": [
    "target, (target_max_scale, target_min_scale) = preprocess.apply_minmax_scale(target)"
   ]
  },
  {
   "cell_type": "code",
   "execution_count": 9,
   "id": "6f3a1b46-c294-400a-92d0-e7042e8d355d",
   "metadata": {
    "tags": []
   },
   "outputs": [],
   "source": [
    "train_test_ratio = 0.8\n",
    "seq_steps        = 7"
   ]
  },
  {
   "cell_type": "code",
   "execution_count": 10,
   "id": "4d34a92a-e656-42f0-a8b4-e71bbcaadd10",
   "metadata": {
    "tags": []
   },
   "outputs": [],
   "source": [
    "X, Y = create_data_train(feature, target, seq_steps)\n",
    "if ML:\n",
    "    X = X.detach().cpu().numpy()\n",
    "    Y = Y.detach().cpu().numpy()"
   ]
  },
  {
   "cell_type": "code",
   "execution_count": 11,
   "id": "cc6b758c-b527-4287-84b5-8e132b1659a5",
   "metadata": {
    "tags": []
   },
   "outputs": [],
   "source": [
    "split_idx = int(X.shape[0] * train_test_ratio)\n"
   ]
  },
  {
   "cell_type": "code",
   "execution_count": 12,
   "id": "50b5201a-38e6-46dd-b81e-6c544da4d889",
   "metadata": {
    "tags": []
   },
   "outputs": [
    {
     "name": "stdout",
     "output_type": "stream",
     "text": [
      "(9738, 2) (2435, 2)\n"
     ]
    }
   ],
   "source": [
    "#   Predict high\n",
    "x_train, y_train = X[:split_idx, :, :], Y[:split_idx, :]\n",
    "x_test, y_test   = X[split_idx:, :, :], Y[split_idx:, :]\n",
    "\n",
    "print(y_train.shape, y_test.shape)"
   ]
  },
  {
   "cell_type": "code",
   "execution_count": 13,
   "id": "721ce81e-82be-4a41-a4e2-54ede283ef3f",
   "metadata": {
    "tags": []
   },
   "outputs": [
    {
     "name": "stdout",
     "output_type": "stream",
     "text": [
      "Number of traning samples = 9738\n",
      "Number of testing samples = 2435\n",
      "(9738, 7, 8)\n"
     ]
    }
   ],
   "source": [
    "print(f'Number of traning samples = {x_train.shape[0]}\\nNumber of testing samples = {y_test.shape[0]}')\n",
    "print(x_train.shape)"
   ]
  },
  {
   "cell_type": "code",
   "execution_count": 14,
   "id": "17341aae",
   "metadata": {},
   "outputs": [],
   "source": [
    "def max_min_inverse(inp, max_scale, min_scale):\n",
    "    print(max_scale)\n",
    "    return (inp * (max_scale - min_scale)) + min_scale"
   ]
  },
  {
   "cell_type": "code",
   "execution_count": 15,
   "id": "ab99bd86",
   "metadata": {},
   "outputs": [
    {
     "name": "stdout",
     "output_type": "stream",
     "text": [
      "Feature selection = low\n",
      "Train shape: (9738, 7), (9738,)\n",
      "Test shape: (2435, 7), (2435,)\n"
     ]
    }
   ],
   "source": [
    "#   Predict categories\n",
    "\"\"\"\n",
    "'high': 0\n",
    "'low': 1\n",
    "'MA:   2\n",
    "'MACD': 3\n",
    "'open': 4\n",
    "'close': 5\n",
    "'Volume': 6\n",
    "'Volume MA': 7\n",
    "'MA': 8\n",
    "'Histogram': 9\n",
    "'MACD': 10\n",
    "'Signal': 11\n",
    "\"\"\"\n",
    "category = 1\n",
    "x_train_ml = x_train[:, :, category]\n",
    "x_test_ml = x_test[:, :, category]\n",
    "y_train_ml = y_train[:, category]\n",
    "y_test_ml  = y_test[:,category]\n",
    "\n",
    "print(f'Feature selection = {ts_config.pred_features[category]}')\n",
    "print(f'Train shape: {x_train_ml.shape}, {y_train_ml.shape}\\nTest shape: {x_test_ml.shape}, {y_test_ml.shape}')"
   ]
  },
  {
   "attachments": {},
   "cell_type": "markdown",
   "id": "f62d9b5c-b42b-48fb-a38a-c44def9cbdaa",
   "metadata": {},
   "source": [
    "### Support Vector Regressor"
   ]
  },
  {
   "cell_type": "code",
   "execution_count": 23,
   "id": "d92c8354-e776-485c-b809-5a412ed26859",
   "metadata": {
    "tags": []
   },
   "outputs": [],
   "source": [
    "from sklearn.svm import SVR\n",
    "from configs.config import BASEDIR\n",
    "import pickle"
   ]
  },
  {
   "cell_type": "code",
   "execution_count": 25,
   "id": "f6eb1892-b553-4cb5-9276-77ccea148658",
   "metadata": {
    "tags": []
   },
   "outputs": [],
   "source": [
    "def evaluate_SVR(x_train, y_train, x_test, y_test, C, gamma, category):\n",
    "    svr_rbf = SVR(kernel = 'rbf', C= 1e2, gamma= 0.1)\n",
    "    svr_rbf.fit(x_train, y_train)\n",
    "\n",
    "    train_predict=svr_rbf.predict(x_train)\n",
    "    test_predict=svr_rbf.predict(x_test)\n",
    "\n",
    "    y_test_rescale = max_min_inverse(y_test, target_max_scale[:, category], target_min_scale[:, category])\n",
    "    pred_rescale   = max_min_inverse(test_predict, target_max_scale[:, category], target_min_scale[:, category])\n",
    "\n",
    "    train_predict = train_predict.reshape(-1,1)\n",
    "    test_predict = test_predict.reshape(-1,1)\n",
    "    \n",
    "    mean_sqr_err = mean_squared_error(y_test_rescale, pred_rescale)\n",
    "    mean_abs_err = mean_absolute_error(y_test_rescale, pred_rescale)\n",
    "    r_square     = r2_score(y_test_rescale, pred_rescale)\n",
    "    print(\"Train data prediction:\", train_predict.shape)\n",
    "    print(\"Test data prediction:\", test_predict.shape)\n",
    "    print(f'Prediction of {ts_config.pred_features[category]}')\n",
    "    print(f'MAE = {mean_abs_err}\\nMSE = {mean_sqr_err}\\nR square = {r_square}')\n",
    "\n",
    "    results = {\n",
    "        'prediction_' + ts_config.pred_features[category]: pred_rescale,\n",
    "        'ground_truth': y_test_rescale,\n",
    "        'MSE': mean_sqr_err,\n",
    "        'MAE': mean_abs_err,\n",
    "        'R2': r_square,\n",
    "        'RMSE': np.sqrt(mean_sqr_err)\n",
    "    }\n",
    "\n",
    "    print(results)\n",
    "    save_pkl_path = BASEDIR / f'save/SVR_{ts_config.pred_features[category]}.pkl'\n",
    "    with open(save_pkl_path, mode=  'wb') as writer:\n",
    "        pickle.dump(results, writer)\n",
    "    writer.close()"
   ]
  },
  {
   "cell_type": "code",
   "execution_count": 26,
   "id": "3ef8eaf9-0a65-4e9a-bf8e-3ff3309a105a",
   "metadata": {
    "tags": []
   },
   "outputs": [
    {
     "name": "stdout",
     "output_type": "stream",
     "text": [
      "[1531.05]\n",
      "[1531.05]\n",
      "Train data prediction: (9738, 1)\n",
      "Test data prediction: (2435, 1)\n",
      "Prediction of low\n",
      "MAE = 101.1662418540348\n",
      "MSE = 14554.19819669112\n",
      "R square = 0.489477272243352\n",
      "{'prediction_low': array([1154.1755475 , 1154.36699335, 1154.05539727, ..., 1037.07704536,\n",
      "       1036.42622005, 1035.38639672]), 'ground_truth': array([1222.35998326, 1229.3900312 , 1229.95000122, ..., 1061.70000528,\n",
      "       1059.1100245 , 1052.89001852]), 'MSE': 14554.19819669112, 'MAE': 101.1662418540348, 'R2': 0.489477272243352, 'RMSE': 120.64078164821015}\n"
     ]
    }
   ],
   "source": [
    "evaluate_SVR(x_train_ml, y_train_ml, x_test_ml, y_test_ml, 1e2, 1e-1, category)"
   ]
  },
  {
   "attachments": {},
   "cell_type": "markdown",
   "id": "ceb206e4",
   "metadata": {},
   "source": [
    "### Random Forest"
   ]
  },
  {
   "cell_type": "code",
   "execution_count": 27,
   "id": "daaa033b",
   "metadata": {},
   "outputs": [],
   "source": [
    "from sklearn.ensemble import RandomForestRegressor\n",
    "import pickle"
   ]
  },
  {
   "cell_type": "code",
   "execution_count": 28,
   "id": "c8254a06-05c6-4ed5-a479-4c2f046812bf",
   "metadata": {},
   "outputs": [],
   "source": [
    "def evaluate_randomfr(x_train, y_train, x_test, y_test, C, gamma, category):\n",
    "\n",
    "\n",
    "    regressor = RandomForestRegressor(n_estimators = 100, random_state = 0)\n",
    "    regressor.fit(x_train, y_train)\n",
    "\n",
    "    train_predict=regressor.predict(x_train)\n",
    "    test_predict=regressor.predict(x_test)\n",
    "\n",
    "    y_test_rescale = max_min_inverse(y_test, target_max_scale[:, category], target_min_scale[:, category])\n",
    "    pred_rescale   = max_min_inverse(test_predict, target_max_scale[:, category], target_min_scale[:, category])\n",
    "\n",
    "    train_predict = train_predict.reshape(-1,1)\n",
    "    test_predict = test_predict.reshape(-1,1)\n",
    "    \n",
    "    mean_sqr_err = mean_squared_error(y_test_rescale, pred_rescale)\n",
    "    mean_abs_err = mean_absolute_error(y_test_rescale, pred_rescale)\n",
    "    r_square     = r2_score(y_test_rescale, pred_rescale)\n",
    "    print(\"Train data prediction:\", train_predict.shape)\n",
    "    print(\"Test data prediction:\", test_predict.shape)\n",
    "    print(f'Prediction of {ts_config.pred_features[category]}')\n",
    "    print(f'MAE = {mean_abs_err}\\nMSE = {mean_sqr_err}\\nR square = {r_square}')\n",
    "\n",
    "    results = {\n",
    "        'prediction_' + ts_config.pred_features[category]: pred_rescale,\n",
    "        'ground_truth': y_test_rescale,\n",
    "        'MSE': mean_sqr_err,\n",
    "        'MAE': mean_abs_err,\n",
    "        'R2': r_square,\n",
    "        'RMSE': np.sqrt(mean_sqr_err)\n",
    "    }\n",
    "\n",
    "    print(results)\n",
    "    save_pkl_path = BASEDIR / f'save/RandomF/rfr_{ts_config.pred_features[category]}.pkl'\n",
    "    with open(save_pkl_path, mode=  'wb') as writer:\n",
    "        pickle.dump(results, writer)\n",
    "    writer.close()"
   ]
  },
  {
   "cell_type": "code",
   "execution_count": 29,
   "id": "46fff9f3",
   "metadata": {},
   "outputs": [
    {
     "name": "stdout",
     "output_type": "stream",
     "text": [
      "[1531.05]\n",
      "[1531.05]\n",
      "Train data prediction: (9738, 1)\n",
      "Test data prediction: (2435, 1)\n",
      "Prediction of low\n",
      "MAE = 77.82501387506404\n",
      "MSE = 13944.290805341052\n",
      "R square = 0.5108712082680633\n",
      "{'prediction_low': array([1211.64589839, 1225.69169781, 1229.96290302, ..., 1058.69890623,\n",
      "       1059.60930572, 1056.92840325]), 'ground_truth': array([1222.35998326, 1229.3900312 , 1229.95000122, ..., 1061.70000528,\n",
      "       1059.1100245 , 1052.89001852]), 'MSE': 13944.290805341052, 'MAE': 77.82501387506404, 'R2': 0.5108712082680633, 'RMSE': 118.08594668859226}\n"
     ]
    }
   ],
   "source": [
    "evaluate_randomfr(x_train_ml, y_train_ml, x_test_ml, y_test_ml, 1e2, 1e-1, category)"
   ]
  },
  {
   "attachments": {},
   "cell_type": "markdown",
   "id": "f3d97b5f",
   "metadata": {},
   "source": [
    "### ARIMA"
   ]
  },
  {
   "cell_type": "code",
   "execution_count": 3,
   "id": "386aadb4",
   "metadata": {},
   "outputs": [],
   "source": [
    "from statsmodels.tsa.arima_model import ARIMA"
   ]
  },
  {
   "cell_type": "code",
   "execution_count": null,
   "id": "3d136eec",
   "metadata": {},
   "outputs": [],
   "source": []
  },
  {
   "cell_type": "code",
   "execution_count": null,
   "id": "a286e19c",
   "metadata": {},
   "outputs": [],
   "source": []
  },
  {
   "attachments": {},
   "cell_type": "markdown",
   "id": "5454267a",
   "metadata": {},
   "source": [
    "## Stacked LSTM"
   ]
  },
  {
   "cell_type": "code",
   "execution_count": 22,
   "id": "ddfd79c9",
   "metadata": {},
   "outputs": [],
   "source": [
    "import tensorflow as tf \n",
    "from tensorflow.keras.layers import LSTM, Dense, GRU\n",
    "from tensorflow.keras import Sequential"
   ]
  },
  {
   "cell_type": "code",
   "execution_count": 23,
   "id": "063030ee",
   "metadata": {},
   "outputs": [],
   "source": [
    "tf.keras.backend.clear_session()\n",
    "model=Sequential()\n",
    "model.add(LSTM(16,return_sequences=True,input_shape=(ts_config.n_steps, ts_config.n_features)))\n",
    "model.add(LSTM(16))\n",
    "model.add(Dense(ts_config.n_classes))\n",
    "model.compile(loss='mean_squared_error',optimizer='adam')"
   ]
  },
  {
   "cell_type": "code",
   "execution_count": 24,
   "id": "868eeca6",
   "metadata": {},
   "outputs": [
    {
     "name": "stdout",
     "output_type": "stream",
     "text": [
      "Model: \"sequential\"\n",
      "_________________________________________________________________\n",
      " Layer (type)                Output Shape              Param #   \n",
      "=================================================================\n",
      " lstm (LSTM)                 (None, 7, 16)             1600      \n",
      "                                                                 \n",
      " lstm_1 (LSTM)               (None, 16)                2112      \n",
      "                                                                 \n",
      " dense (Dense)               (None, 2)                 34        \n",
      "                                                                 \n",
      "=================================================================\n",
      "Total params: 3,746\n",
      "Trainable params: 3,746\n",
      "Non-trainable params: 0\n",
      "_________________________________________________________________\n"
     ]
    }
   ],
   "source": [
    "model.summary()"
   ]
  },
  {
   "cell_type": "code",
   "execution_count": 22,
   "id": "da2e0438",
   "metadata": {},
   "outputs": [
    {
     "name": "stdout",
     "output_type": "stream",
     "text": [
      "Train samples: (9738, 7, 8) -- Test samples: (2435, 7, 8)\n",
      "Train targets: (9738, 2) -- Test targets: (2435, 2)\n"
     ]
    }
   ],
   "source": [
    "x_train_dl = X[:split_idx, :, :]\n",
    "y_train_dl = Y[:split_idx, :]\n",
    "x_test_dl  = X[split_idx: , :, :]\n",
    "y_test_dl  = Y[split_idx:, :]\n",
    "\n",
    "print(f'Train samples: {x_train_dl.shape} -- Test samples: {x_test_dl.shape}')\n",
    "print(f'Train targets: {y_train_dl.shape} -- Test targets: {y_test_dl.shape}')"
   ]
  },
  {
   "cell_type": "code",
   "execution_count": 26,
   "id": "7b558971",
   "metadata": {},
   "outputs": [
    {
     "name": "stdout",
     "output_type": "stream",
     "text": [
      "Epoch 1/100\n",
      "20/20 [==============================] - 3s 36ms/step - loss: 0.0561 - val_loss: 0.1732\n",
      "Epoch 2/100\n",
      "20/20 [==============================] - 0s 10ms/step - loss: 0.0172 - val_loss: 0.0795\n",
      "Epoch 3/100\n",
      "20/20 [==============================] - 0s 11ms/step - loss: 0.0055 - val_loss: 0.0211\n",
      "Epoch 4/100\n",
      "20/20 [==============================] - 0s 10ms/step - loss: 5.3456e-04 - val_loss: 0.0090\n",
      "Epoch 5/100\n",
      "20/20 [==============================] - 0s 10ms/step - loss: 3.0170e-04 - val_loss: 0.0083\n",
      "Epoch 6/100\n",
      "20/20 [==============================] - 0s 13ms/step - loss: 1.9673e-04 - val_loss: 0.0086\n",
      "Epoch 7/100\n",
      "20/20 [==============================] - 0s 10ms/step - loss: 1.6851e-04 - val_loss: 0.0077\n",
      "Epoch 8/100\n",
      "20/20 [==============================] - 0s 10ms/step - loss: 1.5729e-04 - val_loss: 0.0075\n",
      "Epoch 9/100\n",
      "20/20 [==============================] - 0s 16ms/step - loss: 1.5157e-04 - val_loss: 0.0070\n",
      "Epoch 10/100\n",
      "20/20 [==============================] - 0s 13ms/step - loss: 1.4360e-04 - val_loss: 0.0069\n",
      "Epoch 11/100\n",
      "20/20 [==============================] - 0s 11ms/step - loss: 1.3769e-04 - val_loss: 0.0066\n",
      "Epoch 12/100\n",
      "20/20 [==============================] - 0s 11ms/step - loss: 1.3212e-04 - val_loss: 0.0065\n",
      "Epoch 13/100\n",
      "20/20 [==============================] - 0s 18ms/step - loss: 1.2713e-04 - val_loss: 0.0063\n",
      "Epoch 14/100\n",
      "20/20 [==============================] - 0s 14ms/step - loss: 1.2241e-04 - val_loss: 0.0062\n",
      "Epoch 15/100\n",
      "20/20 [==============================] - 0s 11ms/step - loss: 1.1959e-04 - val_loss: 0.0059\n",
      "Epoch 16/100\n",
      "20/20 [==============================] - 0s 9ms/step - loss: 1.1411e-04 - val_loss: 0.0057\n",
      "Epoch 17/100\n",
      "20/20 [==============================] - 0s 10ms/step - loss: 1.1075e-04 - val_loss: 0.0055\n",
      "Epoch 18/100\n",
      "20/20 [==============================] - 0s 13ms/step - loss: 1.0881e-04 - val_loss: 0.0054\n",
      "Epoch 19/100\n",
      "20/20 [==============================] - 0s 11ms/step - loss: 1.0442e-04 - val_loss: 0.0051\n",
      "Epoch 20/100\n",
      "20/20 [==============================] - 0s 10ms/step - loss: 1.0118e-04 - val_loss: 0.0051\n",
      "Epoch 21/100\n",
      "20/20 [==============================] - 0s 11ms/step - loss: 9.8399e-05 - val_loss: 0.0047\n",
      "Epoch 22/100\n",
      "20/20 [==============================] - 0s 11ms/step - loss: 9.5445e-05 - val_loss: 0.0046\n",
      "Epoch 23/100\n",
      "20/20 [==============================] - 0s 12ms/step - loss: 9.3284e-05 - val_loss: 0.0043\n",
      "Epoch 24/100\n",
      "20/20 [==============================] - 0s 9ms/step - loss: 9.0794e-05 - val_loss: 0.0038\n",
      "Epoch 25/100\n",
      "20/20 [==============================] - 0s 10ms/step - loss: 9.0411e-05 - val_loss: 0.0041\n",
      "Epoch 26/100\n",
      "20/20 [==============================] - 0s 9ms/step - loss: 8.6861e-05 - val_loss: 0.0038\n",
      "Epoch 27/100\n",
      "20/20 [==============================] - 0s 10ms/step - loss: 8.4774e-05 - val_loss: 0.0038\n",
      "Epoch 28/100\n",
      "20/20 [==============================] - 0s 12ms/step - loss: 8.3504e-05 - val_loss: 0.0035\n",
      "Epoch 29/100\n",
      "20/20 [==============================] - 0s 11ms/step - loss: 8.0795e-05 - val_loss: 0.0033\n",
      "Epoch 30/100\n",
      "20/20 [==============================] - 0s 13ms/step - loss: 7.8862e-05 - val_loss: 0.0033\n",
      "Epoch 31/100\n",
      "20/20 [==============================] - 0s 16ms/step - loss: 7.7251e-05 - val_loss: 0.0033\n",
      "Epoch 32/100\n",
      "20/20 [==============================] - 0s 13ms/step - loss: 7.5914e-05 - val_loss: 0.0031\n",
      "Epoch 33/100\n",
      "20/20 [==============================] - 0s 11ms/step - loss: 7.3938e-05 - val_loss: 0.0031\n",
      "Epoch 34/100\n",
      "20/20 [==============================] - 0s 13ms/step - loss: 7.4045e-05 - val_loss: 0.0027\n",
      "Epoch 35/100\n",
      "20/20 [==============================] - 0s 12ms/step - loss: 7.0737e-05 - val_loss: 0.0026\n",
      "Epoch 36/100\n",
      "20/20 [==============================] - 0s 13ms/step - loss: 6.9362e-05 - val_loss: 0.0026\n",
      "Epoch 37/100\n",
      "20/20 [==============================] - 0s 13ms/step - loss: 6.8496e-05 - val_loss: 0.0025\n",
      "Epoch 38/100\n",
      "20/20 [==============================] - 0s 11ms/step - loss: 6.6863e-05 - val_loss: 0.0023\n",
      "Epoch 39/100\n",
      "20/20 [==============================] - 0s 11ms/step - loss: 6.5278e-05 - val_loss: 0.0021\n",
      "Epoch 40/100\n",
      "20/20 [==============================] - 0s 13ms/step - loss: 6.5630e-05 - val_loss: 0.0021\n",
      "Epoch 41/100\n",
      "20/20 [==============================] - 0s 12ms/step - loss: 6.3720e-05 - val_loss: 0.0021\n",
      "Epoch 42/100\n",
      "20/20 [==============================] - 0s 13ms/step - loss: 6.1925e-05 - val_loss: 0.0019\n",
      "Epoch 43/100\n",
      "20/20 [==============================] - 0s 8ms/step - loss: 6.0596e-05 - val_loss: 0.0019\n",
      "Epoch 44/100\n",
      "20/20 [==============================] - 0s 9ms/step - loss: 5.9906e-05 - val_loss: 0.0019\n",
      "Epoch 45/100\n",
      "20/20 [==============================] - 0s 11ms/step - loss: 6.0290e-05 - val_loss: 0.0018\n",
      "Epoch 46/100\n",
      "20/20 [==============================] - 0s 10ms/step - loss: 5.8657e-05 - val_loss: 0.0015\n",
      "Epoch 47/100\n",
      "20/20 [==============================] - 0s 15ms/step - loss: 5.7007e-05 - val_loss: 0.0012\n",
      "Epoch 48/100\n",
      "20/20 [==============================] - 0s 15ms/step - loss: 6.2193e-05 - val_loss: 0.0012\n",
      "Epoch 49/100\n",
      "20/20 [==============================] - 0s 14ms/step - loss: 5.7456e-05 - val_loss: 0.0012\n",
      "Epoch 50/100\n",
      "20/20 [==============================] - 0s 12ms/step - loss: 5.4938e-05 - val_loss: 0.0013\n",
      "Epoch 51/100\n",
      "20/20 [==============================] - 0s 11ms/step - loss: 5.4956e-05 - val_loss: 0.0011\n",
      "Epoch 52/100\n",
      "20/20 [==============================] - 0s 8ms/step - loss: 5.3044e-05 - val_loss: 0.0013\n",
      "Epoch 53/100\n",
      "20/20 [==============================] - 0s 10ms/step - loss: 5.2845e-05 - val_loss: 0.0011\n",
      "Epoch 54/100\n",
      "20/20 [==============================] - 0s 10ms/step - loss: 5.3234e-05 - val_loss: 9.9349e-04\n",
      "Epoch 55/100\n",
      "20/20 [==============================] - 0s 12ms/step - loss: 5.1209e-05 - val_loss: 0.0010\n",
      "Epoch 56/100\n",
      "20/20 [==============================] - 0s 9ms/step - loss: 5.1482e-05 - val_loss: 0.0010\n",
      "Epoch 57/100\n",
      "20/20 [==============================] - 0s 12ms/step - loss: 5.0202e-05 - val_loss: 9.9286e-04\n",
      "Epoch 58/100\n",
      "20/20 [==============================] - 0s 15ms/step - loss: 4.9291e-05 - val_loss: 0.0011\n",
      "Epoch 59/100\n",
      "20/20 [==============================] - 0s 11ms/step - loss: 4.9411e-05 - val_loss: 8.6738e-04\n",
      "Epoch 60/100\n",
      "20/20 [==============================] - 0s 13ms/step - loss: 4.8406e-05 - val_loss: 8.0279e-04\n",
      "Epoch 61/100\n",
      "20/20 [==============================] - 0s 12ms/step - loss: 4.7734e-05 - val_loss: 8.2249e-04\n",
      "Epoch 62/100\n",
      "20/20 [==============================] - 0s 15ms/step - loss: 4.7096e-05 - val_loss: 6.7492e-04\n",
      "Epoch 63/100\n",
      "20/20 [==============================] - 0s 15ms/step - loss: 4.7432e-05 - val_loss: 7.7717e-04\n",
      "Epoch 64/100\n",
      "20/20 [==============================] - 0s 13ms/step - loss: 4.6831e-05 - val_loss: 6.7724e-04\n",
      "Epoch 65/100\n",
      "20/20 [==============================] - 0s 16ms/step - loss: 4.6326e-05 - val_loss: 7.5099e-04\n",
      "Epoch 66/100\n",
      "20/20 [==============================] - 0s 12ms/step - loss: 4.6027e-05 - val_loss: 7.1652e-04\n",
      "Epoch 67/100\n",
      "20/20 [==============================] - 0s 10ms/step - loss: 4.8553e-05 - val_loss: 7.0319e-04\n",
      "Epoch 68/100\n",
      "20/20 [==============================] - 0s 18ms/step - loss: 4.5894e-05 - val_loss: 5.4526e-04\n",
      "Epoch 69/100\n",
      "20/20 [==============================] - 0s 14ms/step - loss: 4.6153e-05 - val_loss: 7.7828e-04\n",
      "Epoch 70/100\n",
      "20/20 [==============================] - 0s 11ms/step - loss: 4.8587e-05 - val_loss: 5.4443e-04\n",
      "Epoch 71/100\n",
      "20/20 [==============================] - 0s 11ms/step - loss: 4.4989e-05 - val_loss: 6.4074e-04\n",
      "Epoch 72/100\n",
      "20/20 [==============================] - 0s 11ms/step - loss: 4.4285e-05 - val_loss: 5.2158e-04\n",
      "Epoch 73/100\n",
      "20/20 [==============================] - 0s 9ms/step - loss: 4.3797e-05 - val_loss: 5.6694e-04\n",
      "Epoch 74/100\n",
      "20/20 [==============================] - 0s 15ms/step - loss: 4.3598e-05 - val_loss: 4.2998e-04\n",
      "Epoch 75/100\n",
      "20/20 [==============================] - 0s 11ms/step - loss: 4.9816e-05 - val_loss: 6.8451e-04\n",
      "Epoch 76/100\n",
      "20/20 [==============================] - 0s 12ms/step - loss: 4.5298e-05 - val_loss: 4.3916e-04\n",
      "Epoch 77/100\n",
      "20/20 [==============================] - 0s 8ms/step - loss: 4.6597e-05 - val_loss: 5.4123e-04\n",
      "Epoch 78/100\n",
      "20/20 [==============================] - 0s 14ms/step - loss: 4.2708e-05 - val_loss: 4.2895e-04\n",
      "Epoch 79/100\n",
      "20/20 [==============================] - 0s 9ms/step - loss: 4.2877e-05 - val_loss: 4.4279e-04\n",
      "Epoch 80/100\n",
      "20/20 [==============================] - 0s 13ms/step - loss: 4.1688e-05 - val_loss: 7.2813e-04\n",
      "Epoch 81/100\n",
      "20/20 [==============================] - 0s 13ms/step - loss: 4.9151e-05 - val_loss: 4.5390e-04\n",
      "Epoch 82/100\n",
      "20/20 [==============================] - 0s 11ms/step - loss: 4.2074e-05 - val_loss: 4.6526e-04\n",
      "Epoch 83/100\n",
      "20/20 [==============================] - 0s 12ms/step - loss: 4.1525e-05 - val_loss: 4.5258e-04\n",
      "Epoch 84/100\n",
      "20/20 [==============================] - 0s 15ms/step - loss: 4.0960e-05 - val_loss: 4.2850e-04\n",
      "Epoch 85/100\n",
      "20/20 [==============================] - 0s 11ms/step - loss: 4.0461e-05 - val_loss: 3.6803e-04\n",
      "Epoch 86/100\n",
      "20/20 [==============================] - 0s 15ms/step - loss: 4.4346e-05 - val_loss: 4.5924e-04\n",
      "Epoch 87/100\n",
      "20/20 [==============================] - 0s 12ms/step - loss: 4.1920e-05 - val_loss: 4.0241e-04\n",
      "Epoch 88/100\n",
      "20/20 [==============================] - 0s 11ms/step - loss: 4.0374e-05 - val_loss: 3.6048e-04\n",
      "Epoch 89/100\n",
      "20/20 [==============================] - 0s 14ms/step - loss: 4.1999e-05 - val_loss: 3.7738e-04\n",
      "Epoch 90/100\n",
      "20/20 [==============================] - 0s 13ms/step - loss: 3.9719e-05 - val_loss: 4.0915e-04\n",
      "Epoch 91/100\n",
      "20/20 [==============================] - 0s 13ms/step - loss: 3.9608e-05 - val_loss: 5.7348e-04\n",
      "Epoch 92/100\n",
      "20/20 [==============================] - 0s 11ms/step - loss: 4.1008e-05 - val_loss: 5.0185e-04\n",
      "Epoch 93/100\n",
      "20/20 [==============================] - 0s 16ms/step - loss: 3.9356e-05 - val_loss: 3.0200e-04\n",
      "Epoch 94/100\n",
      "20/20 [==============================] - 0s 9ms/step - loss: 4.3700e-05 - val_loss: 3.1812e-04\n",
      "Epoch 95/100\n",
      "20/20 [==============================] - 0s 9ms/step - loss: 4.0411e-05 - val_loss: 4.0903e-04\n",
      "Epoch 96/100\n",
      "20/20 [==============================] - 0s 9ms/step - loss: 3.8539e-05 - val_loss: 4.9312e-04\n",
      "Epoch 97/100\n",
      "20/20 [==============================] - 0s 13ms/step - loss: 4.0587e-05 - val_loss: 4.8509e-04\n",
      "Epoch 98/100\n",
      "20/20 [==============================] - 0s 11ms/step - loss: 3.8488e-05 - val_loss: 4.2931e-04\n",
      "Epoch 99/100\n",
      "20/20 [==============================] - 0s 11ms/step - loss: 3.8356e-05 - val_loss: 3.6446e-04\n",
      "Epoch 100/100\n",
      "20/20 [==============================] - 0s 16ms/step - loss: 4.0711e-05 - val_loss: 3.5582e-04\n"
     ]
    }
   ],
   "source": [
    "model.fit(x_train_dl,y_train_dl,validation_data=(x_test_dl,y_test_dl),epochs=100,batch_size=512,verbose=1)\n",
    "model.save(f'save/StackedLSTM/ckpt/lstm.h5')"
   ]
  },
  {
   "cell_type": "markdown",
   "id": "6f8401ba",
   "metadata": {},
   "source": []
  },
  {
   "cell_type": "code",
   "execution_count": 27,
   "id": "ed8a6e1a",
   "metadata": {},
   "outputs": [
    {
     "name": "stdout",
     "output_type": "stream",
     "text": [
      "305/305 [==============================] - 1s 3ms/step\n",
      "77/77 [==============================] - 0s 1ms/step\n"
     ]
    },
    {
     "data": {
      "text/plain": [
       "((9738, 2), (2435, 2))"
      ]
     },
     "execution_count": 27,
     "metadata": {},
     "output_type": "execute_result"
    }
   ],
   "source": [
    "train_predict=model.predict(x_train_dl)\n",
    "test_predict=model.predict(x_test_dl)\n",
    "train_predict.shape, test_predict.shape"
   ]
  },
  {
   "cell_type": "code",
   "execution_count": 28,
   "id": "89fbdadd",
   "metadata": {},
   "outputs": [],
   "source": [
    "test_pred_scale = (test_predict * (target_max_scale - target_min_scale)) + target_min_scale"
   ]
  },
  {
   "cell_type": "code",
   "execution_count": 23,
   "id": "7bc10198",
   "metadata": {},
   "outputs": [],
   "source": [
    "y_test_scale = (y_test_dl * (target_max_scale - target_min_scale) + target_min_scale)"
   ]
  },
  {
   "cell_type": "code",
   "execution_count": 30,
   "id": "a1018638",
   "metadata": {},
   "outputs": [
    {
     "data": {
      "text/plain": [
       "406.5580873812755"
      ]
     },
     "execution_count": 30,
     "metadata": {},
     "output_type": "execute_result"
    }
   ],
   "source": [
    "mean_squared_error(y_test_scale, test_pred_scale)"
   ]
  },
  {
   "cell_type": "code",
   "execution_count": 24,
   "id": "1a76cb89",
   "metadata": {},
   "outputs": [
    {
     "data": {
      "text/plain": [
       "(2435, 2)"
      ]
     },
     "execution_count": 24,
     "metadata": {},
     "output_type": "execute_result"
    }
   ],
   "source": [
    "# mean_absolute_error(y_test_scale, test_pred_scale)\n",
    "y_test_scale.shape"
   ]
  },
  {
   "cell_type": "code",
   "execution_count": 32,
   "id": "76054381",
   "metadata": {},
   "outputs": [
    {
     "data": {
      "text/plain": [
       "0.985721105722141"
      ]
     },
     "execution_count": 32,
     "metadata": {},
     "output_type": "execute_result"
    }
   ],
   "source": [
    "r2_score(y_test_scale, test_pred_scale)"
   ]
  },
  {
   "cell_type": "code",
   "execution_count": 33,
   "id": "719f105d",
   "metadata": {},
   "outputs": [],
   "source": [
    "import pickle"
   ]
  },
  {
   "cell_type": "code",
   "execution_count": 34,
   "id": "92a97e06",
   "metadata": {},
   "outputs": [
    {
     "name": "stdout",
     "output_type": "stream",
     "text": [
      "MSE in high = 204.8833348185996\n",
      "MAE in high = 11.195214466193375\n",
      "R2 score in high = 0.9927774086405078\n",
      "MSE in low = 608.2328399439521\n",
      "MAE in low = 18.73818969849052\n",
      "R2 score in low = 0.9786648028037742\n",
      "{'high': [204.8833348185996, 11.195214466193375, 0.9927774086405078], 'low': [608.2328399439521, 18.73818969849052, 0.9786648028037742]}\n"
     ]
    }
   ],
   "source": [
    "n_samples, n_fea = y_test_scale.shape\n",
    "lstm_res = dict()\n",
    "for idx, category in enumerate(ts_config.pred_features):\n",
    "    cate_mse = mean_squared_error(y_test_scale[:, idx], test_pred_scale[:, idx])\n",
    "    cate_mae = mean_absolute_error(y_test_scale[:, idx], test_pred_scale[:, idx])\n",
    "    cate_rsqr = r2_score(y_test_scale[:, idx], test_pred_scale[:, idx])\n",
    "\n",
    "    lstm_res[ts_config.pred_features[idx]] = [cate_mse, cate_mae, cate_rsqr]\n",
    "\n",
    "    print(f'MSE in {ts_config.pred_features[idx]} = {cate_mse}')\n",
    "    print(f'MAE in {ts_config.pred_features[idx]} = {cate_mae}')\n",
    "    print(f'R2 score in {ts_config.pred_features[idx]} = {cate_rsqr}')\n",
    "print(lstm_res)\n",
    "with open(f'save/StackedLSTM/results.pkl', mode= 'wb') as writer:\n",
    "    pickle.dump(lstm_res, writer)\n",
    "writer.close()\n"
   ]
  },
  {
   "cell_type": "code",
   "execution_count": 35,
   "id": "26e01619",
   "metadata": {},
   "outputs": [
    {
     "data": {
      "text/plain": [
       "(2435, 2)"
      ]
     },
     "execution_count": 35,
     "metadata": {},
     "output_type": "execute_result"
    }
   ],
   "source": [
    "y_test_scale.shape"
   ]
  },
  {
   "cell_type": "code",
   "execution_count": 36,
   "id": "3e98e07f",
   "metadata": {},
   "outputs": [
    {
     "data": {
      "text/plain": [
       "(2435, 2)"
      ]
     },
     "execution_count": 36,
     "metadata": {},
     "output_type": "execute_result"
    }
   ],
   "source": [
    "test_pred_scale.shape"
   ]
  },
  {
   "cell_type": "code",
   "execution_count": null,
   "id": "8079cc5f",
   "metadata": {},
   "outputs": [],
   "source": []
  },
  {
   "cell_type": "code",
   "execution_count": 37,
   "id": "b7db809a",
   "metadata": {},
   "outputs": [],
   "source": [
    "n_samples, n_fea = y_test_scale.shape"
   ]
  },
  {
   "cell_type": "code",
   "execution_count": 38,
   "id": "ce5b5e4f",
   "metadata": {},
   "outputs": [
    {
     "data": {
      "text/plain": [
       "(2435, 1)"
      ]
     },
     "execution_count": 38,
     "metadata": {},
     "output_type": "execute_result"
    }
   ],
   "source": [
    "y_test_scale[:, 1].reshape((n_samples, 1)).shape"
   ]
  },
  {
   "attachments": {},
   "cell_type": "markdown",
   "id": "414545e7",
   "metadata": {},
   "source": [
    "## Stacked GRU"
   ]
  },
  {
   "cell_type": "code",
   "execution_count": 39,
   "id": "fed471c4",
   "metadata": {},
   "outputs": [],
   "source": [
    "tf.keras.backend.clear_session()\n",
    "gru_model=Sequential()\n",
    "gru_model.add(GRU(16,return_sequences=True,input_shape=(ts_config.n_steps, ts_config.n_features)))\n",
    "gru_model.add(GRU(16))\n",
    "gru_model.add(Dense(ts_config.n_classes))\n",
    "gru_model.compile(loss='mean_squared_error',optimizer='adam')"
   ]
  },
  {
   "cell_type": "code",
   "execution_count": 40,
   "id": "aafabaa2",
   "metadata": {},
   "outputs": [
    {
     "name": "stdout",
     "output_type": "stream",
     "text": [
      "Model: \"sequential\"\n",
      "_________________________________________________________________\n",
      " Layer (type)                Output Shape              Param #   \n",
      "=================================================================\n",
      " gru (GRU)                   (None, 7, 16)             1248      \n",
      "                                                                 \n",
      " gru_1 (GRU)                 (None, 16)                1632      \n",
      "                                                                 \n",
      " dense (Dense)               (None, 2)                 34        \n",
      "                                                                 \n",
      "=================================================================\n",
      "Total params: 2,914\n",
      "Trainable params: 2,914\n",
      "Non-trainable params: 0\n",
      "_________________________________________________________________\n"
     ]
    }
   ],
   "source": [
    "gru_model.summary()"
   ]
  },
  {
   "cell_type": "code",
   "execution_count": 42,
   "id": "f254bc0b",
   "metadata": {},
   "outputs": [
    {
     "name": "stdout",
     "output_type": "stream",
     "text": [
      "Epoch 1/100\n",
      "20/20 [==============================] - 0s 10ms/step - loss: 0.0195 - val_loss: 0.0821\n",
      "Epoch 2/100\n",
      "20/20 [==============================] - 0s 9ms/step - loss: 0.0056 - val_loss: 0.0107\n",
      "Epoch 3/100\n",
      "20/20 [==============================] - 0s 10ms/step - loss: 8.0916e-04 - val_loss: 0.0032\n",
      "Epoch 4/100\n",
      "20/20 [==============================] - 0s 10ms/step - loss: 6.2523e-04 - val_loss: 0.0040\n",
      "Epoch 5/100\n",
      "20/20 [==============================] - 0s 8ms/step - loss: 4.9103e-04 - val_loss: 0.0044\n",
      "Epoch 6/100\n",
      "20/20 [==============================] - 0s 8ms/step - loss: 4.2406e-04 - val_loss: 0.0038\n",
      "Epoch 7/100\n",
      "20/20 [==============================] - 0s 9ms/step - loss: 3.6521e-04 - val_loss: 0.0037\n",
      "Epoch 8/100\n",
      "20/20 [==============================] - 0s 9ms/step - loss: 3.1648e-04 - val_loss: 0.0037\n",
      "Epoch 9/100\n",
      "20/20 [==============================] - 0s 12ms/step - loss: 2.7655e-04 - val_loss: 0.0036\n",
      "Epoch 10/100\n",
      "20/20 [==============================] - 0s 12ms/step - loss: 2.4261e-04 - val_loss: 0.0037\n",
      "Epoch 11/100\n",
      "20/20 [==============================] - 0s 10ms/step - loss: 2.1437e-04 - val_loss: 0.0036\n",
      "Epoch 12/100\n",
      "20/20 [==============================] - 0s 15ms/step - loss: 1.8960e-04 - val_loss: 0.0035\n",
      "Epoch 13/100\n",
      "20/20 [==============================] - 0s 15ms/step - loss: 1.7048e-04 - val_loss: 0.0035\n",
      "Epoch 14/100\n",
      "20/20 [==============================] - 0s 10ms/step - loss: 1.5332e-04 - val_loss: 0.0033\n",
      "Epoch 15/100\n",
      "20/20 [==============================] - 0s 9ms/step - loss: 1.3984e-04 - val_loss: 0.0034\n",
      "Epoch 16/100\n",
      "20/20 [==============================] - 0s 12ms/step - loss: 1.2818e-04 - val_loss: 0.0032\n",
      "Epoch 17/100\n",
      "20/20 [==============================] - 0s 9ms/step - loss: 1.1909e-04 - val_loss: 0.0032\n",
      "Epoch 18/100\n",
      "20/20 [==============================] - 0s 11ms/step - loss: 1.1043e-04 - val_loss: 0.0032\n",
      "Epoch 19/100\n",
      "20/20 [==============================] - 0s 12ms/step - loss: 1.0389e-04 - val_loss: 0.0030\n",
      "Epoch 20/100\n",
      "20/20 [==============================] - 0s 9ms/step - loss: 9.8062e-05 - val_loss: 0.0031\n",
      "Epoch 21/100\n",
      "20/20 [==============================] - 0s 9ms/step - loss: 9.2546e-05 - val_loss: 0.0029\n",
      "Epoch 22/100\n",
      "20/20 [==============================] - 0s 10ms/step - loss: 8.7376e-05 - val_loss: 0.0028\n",
      "Epoch 23/100\n",
      "20/20 [==============================] - 0s 12ms/step - loss: 8.3318e-05 - val_loss: 0.0029\n",
      "Epoch 24/100\n",
      "20/20 [==============================] - 0s 13ms/step - loss: 7.9648e-05 - val_loss: 0.0028\n",
      "Epoch 25/100\n",
      "20/20 [==============================] - 0s 10ms/step - loss: 7.6795e-05 - val_loss: 0.0026\n",
      "Epoch 26/100\n",
      "20/20 [==============================] - 0s 10ms/step - loss: 7.3761e-05 - val_loss: 0.0026\n",
      "Epoch 27/100\n",
      "20/20 [==============================] - 0s 14ms/step - loss: 7.0423e-05 - val_loss: 0.0025\n",
      "Epoch 28/100\n",
      "20/20 [==============================] - 0s 13ms/step - loss: 6.8122e-05 - val_loss: 0.0025\n",
      "Epoch 29/100\n",
      "20/20 [==============================] - 0s 10ms/step - loss: 6.6323e-05 - val_loss: 0.0025\n",
      "Epoch 30/100\n",
      "20/20 [==============================] - 0s 13ms/step - loss: 6.3792e-05 - val_loss: 0.0024\n",
      "Epoch 31/100\n",
      "20/20 [==============================] - 0s 11ms/step - loss: 6.2650e-05 - val_loss: 0.0022\n",
      "Epoch 32/100\n",
      "20/20 [==============================] - 0s 10ms/step - loss: 6.1310e-05 - val_loss: 0.0024\n",
      "Epoch 33/100\n",
      "20/20 [==============================] - 0s 9ms/step - loss: 5.9606e-05 - val_loss: 0.0022\n",
      "Epoch 34/100\n",
      "20/20 [==============================] - 0s 9ms/step - loss: 5.8160e-05 - val_loss: 0.0020\n",
      "Epoch 35/100\n",
      "20/20 [==============================] - 0s 12ms/step - loss: 5.5934e-05 - val_loss: 0.0021\n",
      "Epoch 36/100\n",
      "20/20 [==============================] - 0s 10ms/step - loss: 5.4843e-05 - val_loss: 0.0019\n",
      "Epoch 37/100\n",
      "20/20 [==============================] - 0s 9ms/step - loss: 5.5376e-05 - val_loss: 0.0020\n",
      "Epoch 38/100\n",
      "20/20 [==============================] - 0s 10ms/step - loss: 5.2345e-05 - val_loss: 0.0020\n",
      "Epoch 39/100\n",
      "20/20 [==============================] - 0s 11ms/step - loss: 5.0679e-05 - val_loss: 0.0019\n",
      "Epoch 40/100\n",
      "20/20 [==============================] - 0s 9ms/step - loss: 5.0340e-05 - val_loss: 0.0020\n",
      "Epoch 41/100\n",
      "20/20 [==============================] - 0s 10ms/step - loss: 4.9810e-05 - val_loss: 0.0018\n",
      "Epoch 42/100\n",
      "20/20 [==============================] - 0s 11ms/step - loss: 4.7920e-05 - val_loss: 0.0018\n",
      "Epoch 43/100\n",
      "20/20 [==============================] - 0s 12ms/step - loss: 4.7393e-05 - val_loss: 0.0018\n",
      "Epoch 44/100\n",
      "20/20 [==============================] - 0s 11ms/step - loss: 4.7488e-05 - val_loss: 0.0018\n",
      "Epoch 45/100\n",
      "20/20 [==============================] - 0s 11ms/step - loss: 4.6912e-05 - val_loss: 0.0017\n",
      "Epoch 46/100\n",
      "20/20 [==============================] - 0s 10ms/step - loss: 4.5462e-05 - val_loss: 0.0018\n",
      "Epoch 47/100\n",
      "20/20 [==============================] - 0s 11ms/step - loss: 4.4745e-05 - val_loss: 0.0016\n",
      "Epoch 48/100\n",
      "20/20 [==============================] - 0s 11ms/step - loss: 4.4297e-05 - val_loss: 0.0016\n",
      "Epoch 49/100\n",
      "20/20 [==============================] - 0s 7ms/step - loss: 4.3949e-05 - val_loss: 0.0016\n",
      "Epoch 50/100\n",
      "20/20 [==============================] - 0s 14ms/step - loss: 4.4805e-05 - val_loss: 0.0016\n",
      "Epoch 51/100\n",
      "20/20 [==============================] - 0s 11ms/step - loss: 4.3235e-05 - val_loss: 0.0016\n",
      "Epoch 52/100\n",
      "20/20 [==============================] - 0s 8ms/step - loss: 4.2461e-05 - val_loss: 0.0015\n",
      "Epoch 53/100\n",
      "20/20 [==============================] - 0s 16ms/step - loss: 4.3258e-05 - val_loss: 0.0017\n",
      "Epoch 54/100\n",
      "20/20 [==============================] - 0s 11ms/step - loss: 4.5811e-05 - val_loss: 0.0015\n",
      "Epoch 55/100\n",
      "20/20 [==============================] - 0s 8ms/step - loss: 4.2568e-05 - val_loss: 0.0015\n",
      "Epoch 56/100\n",
      "20/20 [==============================] - 0s 12ms/step - loss: 4.0830e-05 - val_loss: 0.0015\n",
      "Epoch 57/100\n",
      "20/20 [==============================] - 0s 13ms/step - loss: 4.0348e-05 - val_loss: 0.0014\n",
      "Epoch 58/100\n",
      "20/20 [==============================] - 0s 13ms/step - loss: 4.1379e-05 - val_loss: 0.0015\n",
      "Epoch 59/100\n",
      "20/20 [==============================] - 0s 12ms/step - loss: 4.0016e-05 - val_loss: 0.0015\n",
      "Epoch 60/100\n",
      "20/20 [==============================] - 0s 14ms/step - loss: 3.9350e-05 - val_loss: 0.0014\n",
      "Epoch 61/100\n",
      "20/20 [==============================] - 0s 8ms/step - loss: 3.9190e-05 - val_loss: 0.0014\n",
      "Epoch 62/100\n",
      "20/20 [==============================] - 0s 8ms/step - loss: 3.8554e-05 - val_loss: 0.0014\n",
      "Epoch 63/100\n",
      "20/20 [==============================] - 0s 12ms/step - loss: 3.8201e-05 - val_loss: 0.0016\n",
      "Epoch 64/100\n",
      "20/20 [==============================] - 0s 11ms/step - loss: 4.1213e-05 - val_loss: 0.0014\n",
      "Epoch 65/100\n",
      "20/20 [==============================] - 0s 10ms/step - loss: 3.8653e-05 - val_loss: 0.0014\n",
      "Epoch 66/100\n",
      "20/20 [==============================] - 0s 9ms/step - loss: 3.7664e-05 - val_loss: 0.0015\n",
      "Epoch 67/100\n",
      "20/20 [==============================] - 0s 11ms/step - loss: 3.7823e-05 - val_loss: 0.0015\n",
      "Epoch 68/100\n",
      "20/20 [==============================] - 0s 11ms/step - loss: 3.8523e-05 - val_loss: 0.0012\n",
      "Epoch 69/100\n",
      "20/20 [==============================] - 0s 9ms/step - loss: 3.6906e-05 - val_loss: 0.0014\n",
      "Epoch 70/100\n",
      "20/20 [==============================] - 0s 9ms/step - loss: 3.6749e-05 - val_loss: 0.0013\n",
      "Epoch 71/100\n",
      "20/20 [==============================] - 0s 9ms/step - loss: 3.7145e-05 - val_loss: 0.0014\n",
      "Epoch 72/100\n",
      "20/20 [==============================] - 0s 12ms/step - loss: 3.6331e-05 - val_loss: 0.0013\n",
      "Epoch 73/100\n",
      "20/20 [==============================] - 0s 10ms/step - loss: 3.5692e-05 - val_loss: 0.0013\n",
      "Epoch 74/100\n",
      "20/20 [==============================] - 0s 9ms/step - loss: 3.5455e-05 - val_loss: 0.0011\n",
      "Epoch 75/100\n",
      "20/20 [==============================] - 0s 9ms/step - loss: 3.7673e-05 - val_loss: 0.0017\n",
      "Epoch 76/100\n",
      "20/20 [==============================] - 0s 12ms/step - loss: 4.7152e-05 - val_loss: 0.0014\n",
      "Epoch 77/100\n",
      "20/20 [==============================] - 0s 11ms/step - loss: 4.0311e-05 - val_loss: 0.0012\n",
      "Epoch 78/100\n",
      "20/20 [==============================] - 0s 11ms/step - loss: 3.6942e-05 - val_loss: 0.0012\n",
      "Epoch 79/100\n",
      "20/20 [==============================] - 0s 9ms/step - loss: 3.4943e-05 - val_loss: 0.0013\n",
      "Epoch 80/100\n",
      "20/20 [==============================] - 0s 8ms/step - loss: 3.4163e-05 - val_loss: 0.0014\n",
      "Epoch 81/100\n",
      "20/20 [==============================] - 0s 10ms/step - loss: 3.3833e-05 - val_loss: 0.0013\n",
      "Epoch 82/100\n",
      "20/20 [==============================] - 0s 10ms/step - loss: 3.3556e-05 - val_loss: 0.0012\n",
      "Epoch 83/100\n",
      "20/20 [==============================] - 0s 10ms/step - loss: 3.4090e-05 - val_loss: 0.0013\n",
      "Epoch 84/100\n",
      "20/20 [==============================] - 0s 9ms/step - loss: 3.3349e-05 - val_loss: 0.0012\n",
      "Epoch 85/100\n",
      "20/20 [==============================] - 0s 10ms/step - loss: 3.3014e-05 - val_loss: 0.0012\n",
      "Epoch 86/100\n",
      "20/20 [==============================] - 0s 8ms/step - loss: 3.2721e-05 - val_loss: 0.0011\n",
      "Epoch 87/100\n",
      "20/20 [==============================] - 0s 14ms/step - loss: 3.2838e-05 - val_loss: 0.0011\n",
      "Epoch 88/100\n",
      "20/20 [==============================] - 0s 13ms/step - loss: 3.2972e-05 - val_loss: 0.0011\n",
      "Epoch 89/100\n",
      "20/20 [==============================] - 0s 12ms/step - loss: 3.2841e-05 - val_loss: 0.0012\n",
      "Epoch 90/100\n",
      "20/20 [==============================] - 0s 13ms/step - loss: 3.2424e-05 - val_loss: 0.0012\n",
      "Epoch 91/100\n",
      "20/20 [==============================] - 0s 12ms/step - loss: 3.2465e-05 - val_loss: 0.0012\n",
      "Epoch 92/100\n",
      "20/20 [==============================] - 0s 6ms/step - loss: 3.2147e-05 - val_loss: 0.0012\n",
      "Epoch 93/100\n",
      "20/20 [==============================] - 0s 7ms/step - loss: 3.1437e-05 - val_loss: 0.0010\n",
      "Epoch 94/100\n",
      "20/20 [==============================] - 0s 13ms/step - loss: 3.2259e-05 - val_loss: 0.0011\n",
      "Epoch 95/100\n",
      "20/20 [==============================] - 0s 13ms/step - loss: 3.1527e-05 - val_loss: 9.5801e-04\n",
      "Epoch 96/100\n",
      "20/20 [==============================] - 0s 10ms/step - loss: 3.3811e-05 - val_loss: 9.0283e-04\n",
      "Epoch 97/100\n",
      "20/20 [==============================] - 0s 14ms/step - loss: 3.6441e-05 - val_loss: 8.9823e-04\n",
      "Epoch 98/100\n",
      "20/20 [==============================] - 0s 12ms/step - loss: 3.7708e-05 - val_loss: 9.9909e-04\n",
      "Epoch 99/100\n",
      "20/20 [==============================] - 0s 11ms/step - loss: 3.1444e-05 - val_loss: 0.0010\n",
      "Epoch 100/100\n",
      "20/20 [==============================] - 0s 10ms/step - loss: 3.0763e-05 - val_loss: 9.7933e-04\n"
     ]
    }
   ],
   "source": [
    "gru_model.fit(x_train_dl,y_train_dl,validation_data=(x_test_dl,y_test_dl),epochs=100,batch_size=512,verbose=1)\n",
    "gru_model.save(f'save/GRU/gru_model.h5')"
   ]
  },
  {
   "cell_type": "code",
   "execution_count": 43,
   "id": "a39601d4",
   "metadata": {},
   "outputs": [
    {
     "name": "stdout",
     "output_type": "stream",
     "text": [
      "305/305 [==============================] - 1s 2ms/step\n",
      "77/77 [==============================] - 0s 2ms/step\n",
      "(9738, 2) (2435, 2)\n"
     ]
    }
   ],
   "source": [
    "train_predict_gru = gru_model.predict(x_train_dl)\n",
    "test_predict_gru = gru_model.predict(x_test_dl)\n",
    "print(train_predict_gru.shape, test_predict_gru.shape)"
   ]
  },
  {
   "cell_type": "code",
   "execution_count": 44,
   "id": "990b3c86",
   "metadata": {},
   "outputs": [],
   "source": [
    "gru_test_scale = (test_predict_gru * (target_max_scale - target_min_scale)) + target_min_scale"
   ]
  },
  {
   "cell_type": "code",
   "execution_count": 45,
   "id": "96bd7818",
   "metadata": {},
   "outputs": [
    {
     "data": {
      "text/plain": [
       "array([[1226.41755594, 1217.85148877],\n",
       "       [1224.1708166 , 1213.42180676],\n",
       "       [1223.88251171, 1212.00553944],\n",
       "       ...,\n",
       "       [1073.589138  , 1062.74622983],\n",
       "       [1072.55754805, 1061.84851934],\n",
       "       [1071.14647876, 1060.59854191]])"
      ]
     },
     "execution_count": 45,
     "metadata": {},
     "output_type": "execute_result"
    }
   ],
   "source": [
    "gru_test_scale"
   ]
  },
  {
   "cell_type": "code",
   "execution_count": 46,
   "id": "fd07dcac",
   "metadata": {},
   "outputs": [
    {
     "name": "stdout",
     "output_type": "stream",
     "text": [
      "MSE in high = 867.543669452501\n",
      "MAE in high = 22.34193579194115\n",
      "R2 score in high = 0.969417164082586\n",
      "MSE in low = 1370.4374049169842\n",
      "MAE in low = 28.017457033914706\n",
      "R2 score in low = 0.9519286852684868\n",
      "{'high': [867.543669452501, 22.34193579194115, 0.969417164082586], 'low': [1370.4374049169842, 28.017457033914706, 0.9519286852684868]}\n"
     ]
    }
   ],
   "source": [
    "\n",
    "n_samples, n_fea = y_test_scale.shape\n",
    "gru_res = dict()\n",
    "for idx, category in enumerate(ts_config.pred_features):\n",
    "    cate_mse = mean_squared_error(y_test_scale[:, idx], gru_test_scale[:, idx])\n",
    "    cate_mae = mean_absolute_error(y_test_scale[:, idx], gru_test_scale[:, idx])\n",
    "    cate_rsqr = r2_score(y_test_scale[:, idx], gru_test_scale[:, idx])\n",
    "\n",
    "    gru_res[ts_config.pred_features[idx]] = [cate_mse, cate_mae, cate_rsqr]\n",
    "\n",
    "    print(f'MSE in {ts_config.pred_features[idx]} = {cate_mse}')\n",
    "    print(f'MAE in {ts_config.pred_features[idx]} = {cate_mae}')\n",
    "    print(f'R2 score in {ts_config.pred_features[idx]} = {cate_rsqr}')\n",
    "print(gru_res)\n",
    "with open(f'save/GRU/results_gru.pkl', mode= 'wb') as writer:\n",
    "    pickle.dump(gru_res, writer)\n",
    "writer.close()\n"
   ]
  },
  {
   "cell_type": "code",
   "execution_count": 47,
   "id": "cc756117",
   "metadata": {},
   "outputs": [
    {
     "data": {
      "text/plain": [
       "array([[1226.41755594, 1217.85148877],\n",
       "       [1224.1708166 , 1213.42180676],\n",
       "       [1223.88251171, 1212.00553944],\n",
       "       ...,\n",
       "       [1073.589138  , 1062.74622983],\n",
       "       [1072.55754805, 1061.84851934],\n",
       "       [1071.14647876, 1060.59854191]])"
      ]
     },
     "execution_count": 47,
     "metadata": {},
     "output_type": "execute_result"
    }
   ],
   "source": [
    "gru_test_scale"
   ]
  },
  {
   "cell_type": "code",
   "execution_count": 48,
   "id": "77ad61cb",
   "metadata": {},
   "outputs": [
    {
     "data": {
      "text/plain": [
       "array([[1233.0599733 , 1222.35998326],\n",
       "       [1230.93002134, 1229.3900312 ],\n",
       "       [1237.04998562, 1229.95000122],\n",
       "       ...,\n",
       "       [1064.51998985, 1061.70000528],\n",
       "       [1063.17002209, 1059.1100245 ],\n",
       "       [1063.79002097, 1052.89001852]])"
      ]
     },
     "execution_count": 48,
     "metadata": {},
     "output_type": "execute_result"
    }
   ],
   "source": [
    "y_test_scale"
   ]
  },
  {
   "attachments": {},
   "cell_type": "markdown",
   "id": "d9ffa431",
   "metadata": {},
   "source": [
    "## Our method"
   ]
  },
  {
   "cell_type": "code",
   "execution_count": 16,
   "id": "00d0eac3",
   "metadata": {},
   "outputs": [],
   "source": [
    "# from model import TSModel\n",
    "import tensorflow as tf\n",
    "from tensorflow.keras.layers import Bidirectional, LSTM, Dense\n",
    "from tensorflow.keras import Sequential"
   ]
  },
  {
   "cell_type": "code",
   "execution_count": 17,
   "id": "ad1b10dc",
   "metadata": {},
   "outputs": [],
   "source": [
    "tf.keras.backend.clear_session()\n",
    "bidir_model=Sequential()\n",
    "bidir_model.add(Bidirectional(LSTM(16,return_sequences=True,input_shape=(ts_config.n_steps, ts_config.n_features))))\n",
    "bidir_model.add(Bidirectional(LSTM(16)))\n",
    "bidir_model.add(Dense(ts_config.n_classes))\n",
    "bidir_model.compile(loss='mean_squared_error',optimizer='adam')"
   ]
  },
  {
   "cell_type": "code",
   "execution_count": 19,
   "id": "6e5b094f",
   "metadata": {},
   "outputs": [],
   "source": [
    "model_path = 'save/BiLSTM_Time/model.h5'"
   ]
  },
  {
   "cell_type": "code",
   "execution_count": 20,
   "id": "c5d5dd0f",
   "metadata": {},
   "outputs": [],
   "source": [
    "# bidir_model.summary()\n",
    "# bidir_model.fit(x_train_dl,y_train_dl,validation_data=(x_test_dl,y_test_dl),epochs=100,batch_size=512,verbose=1)\n",
    "bidir_model = tf.keras.models.load_model(model_path)"
   ]
  },
  {
   "cell_type": "code",
   "execution_count": 25,
   "id": "6e5c6e5a",
   "metadata": {},
   "outputs": [
    {
     "name": "stdout",
     "output_type": "stream",
     "text": [
      "305/305 [==============================] - 3s 3ms/step\n",
      "77/77 [==============================] - 0s 3ms/step\n",
      "(9738, 2) (2435, 2)\n"
     ]
    }
   ],
   "source": [
    "train_predict_bidir = bidir_model.predict(x_train_dl)\n",
    "test_predict_bidir = bidir_model.predict(x_test_dl)\n",
    "print(train_predict_bidir.shape, test_predict_bidir.shape)\n",
    "# bidir_model.save(f'save/BiLSTM_Time/model.h5')"
   ]
  },
  {
   "cell_type": "code",
   "execution_count": 26,
   "id": "d7b68ab1",
   "metadata": {},
   "outputs": [],
   "source": [
    "bidir_pred_scale = (test_predict_bidir * (target_max_scale - target_min_scale)) + target_min_scale"
   ]
  },
  {
   "cell_type": "code",
   "execution_count": 27,
   "id": "e6f99277",
   "metadata": {},
   "outputs": [
    {
     "data": {
      "text/plain": [
       "array([[1233.0599733 , 1222.35998326],\n",
       "       [1230.93002134, 1229.3900312 ],\n",
       "       [1237.04998562, 1229.95000122],\n",
       "       ...,\n",
       "       [1064.51998985, 1061.70000528],\n",
       "       [1063.17002209, 1059.1100245 ],\n",
       "       [1063.79002097, 1052.89001852]])"
      ]
     },
     "execution_count": 27,
     "metadata": {},
     "output_type": "execute_result"
    }
   ],
   "source": [
    "y_test_scale"
   ]
  },
  {
   "cell_type": "code",
   "execution_count": 75,
   "id": "621f32ba",
   "metadata": {},
   "outputs": [
    {
     "name": "stdout",
     "output_type": "stream",
     "text": [
      "MSE in high = 1786.8458572651514\n",
      "MAE in high = 31.507823106917467\n",
      "R2 score in high = 0.9803716699938331\n",
      "MSE in low = 5312.98377266897\n",
      "MAE in low = 55.781296917008355\n",
      "R2 score in low = 0.9421939077249079\n",
      "MSE in MA = 108465.93359541956\n",
      "MAE in MA = 278.58631885526825\n",
      "R2 score in MA = -0.19983390964606573\n",
      "MSE in open = 13356.648659201868\n",
      "MAE in open = 93.2332664953878\n",
      "R2 score in open = 0.8540694684644325\n",
      "MSE in close = 16775.75641565107\n",
      "MAE in close = 108.98252168946306\n",
      "R2 score in close = 0.8165802970081102\n",
      "{'high': [1786.8458572651514, 31.507823106917467, 0.9803716699938331], 'low': [5312.98377266897, 55.781296917008355, 0.9421939077249079], 'MA': [108465.93359541956, 278.58631885526825, -0.19983390964606573], 'open': [13356.648659201868, 93.2332664953878, 0.8540694684644325], 'close': [16775.75641565107, 108.98252168946306, 0.8165802970081102]}\n"
     ]
    }
   ],
   "source": [
    "\n",
    "n_samples, n_fea = y_test_scale.shape\n",
    "bidir_result = dict()\n",
    "for idx, category in enumerate(ts_config.pred_features):\n",
    "    cate_mse = mean_squared_error(y_test_scale[:, idx], bidir_pred_scale[:, idx])\n",
    "    cate_mae = mean_absolute_error(y_test_scale[:, idx], bidir_pred_scale[:, idx])\n",
    "    cate_rsqr = r2_score(y_test_scale[:, idx], bidir_pred_scale[:, idx])\n",
    "\n",
    "    bidir_result[ts_config.pred_features[idx]] = [cate_mse, cate_mae, cate_rsqr]\n",
    "\n",
    "    print(f'MSE in {ts_config.pred_features[idx]} = {cate_mse}')\n",
    "    print(f'MAE in {ts_config.pred_features[idx]} = {cate_mae}')\n",
    "    print(f'R2 score in {ts_config.pred_features[idx]} = {cate_rsqr}')\n",
    "print(bidir_result)\n",
    "with open(f'save/BiLSTM_Time/results_bidir.pkl', mode= 'wb') as writer:\n",
    "    pickle.dump(bidir_result, writer)\n",
    "writer.close()\n"
   ]
  },
  {
   "cell_type": "code",
   "execution_count": 28,
   "id": "7dfaa936",
   "metadata": {},
   "outputs": [],
   "source": [
    "import matplotlib.pyplot as plt"
   ]
  },
  {
   "cell_type": "code",
   "execution_count": 38,
   "id": "ac23fe68",
   "metadata": {},
   "outputs": [],
   "source": [
    "FIG_PATH = 'vnindex_high.png'"
   ]
  },
  {
   "cell_type": "code",
   "execution_count": null,
   "id": "1198f36c",
   "metadata": {},
   "outputs": [],
   "source": []
  },
  {
   "cell_type": "code",
   "execution_count": null,
   "id": "b15d1531",
   "metadata": {},
   "outputs": [],
   "source": []
  },
  {
   "cell_type": "code",
   "execution_count": null,
   "id": "6be95e2f",
   "metadata": {},
   "outputs": [],
   "source": []
  },
  {
   "cell_type": "code",
   "execution_count": 37,
   "id": "43fdb291",
   "metadata": {},
   "outputs": [
    {
     "data": {
      "image/png": "[encoded data removed]",
      "text/plain": [
       "<Figure size 864x432 with 1 Axes>"
      ]
     },
     "metadata": {
      "needs_background": "light"
     },
     "output_type": "display_data"
    }
   ],
   "source": [
    "fig = plt.figure(figsize=(12,6))\n",
    "plt.title('High price in VnIndex')``\n",
    "plt.plot(y_test_scale[:, 0], label = 'Predicted')\n",
    "plt.plot(bidir_pred_scale[:, 1], label = 'Our')\n",
    "plt.savefig(FIG_PATH)"
   ]
  },
  {
   "cell_type": "code",
   "execution_count": null,
   "id": "f97c3ee7",
   "metadata": {},
   "outputs": [],
   "source": []
  },
  {
   "cell_type": "code",
   "execution_count": 34,
   "id": "6754a60c",
   "metadata": {},
   "outputs": [
    {
     "data": {
      "text/plain": [
       "array([False, False, False, ..., False, False, False])"
      ]
     },
     "execution_count": 34,
     "metadata": {},
     "output_type": "execute_result"
    }
   ],
   "source": [
    "bidir_pred_scale[:, 0] == bidir_pred_scale[:, 1]"
   ]
  },
  {
   "cell_type": "code",
   "execution_count": null,
   "id": "d3a843f8",
   "metadata": {},
   "outputs": [],
   "source": []
  }
 ],
 "metadata": {
  "kernelspec": {
   "display_name": "Python 3",
   "language": "python",
   "name": "python3"
  },
  "language_info": {
   "codemirror_mode": {
    "name": "ipython",
    "version": 3
   },
   "file_extension": ".py",
   "mimetype": "text/x-python",
   "name": "python",
   "nbconvert_exporter": "python",
   "pygments_lexer": "ipython3",
   "version": "3.9.16"
  },
  "vscode": {
   "interpreter": {
    "hash": "5ffd7eb2cebf9ac436b5021ba01877e9cee6b03524e01bf8c8637d3e64111215"
   }
  }
 },
 "nbformat": 4,
 "nbformat_minor": 5
}
